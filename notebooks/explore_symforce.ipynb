{
 "cells": [
  {
   "cell_type": "code",
   "execution_count": 1,
   "id": "b3e2dddc-2b32-4f3e-8b06-9de1d41b8c78",
   "metadata": {},
   "outputs": [],
   "source": [
    "import symforce\n",
    "symforce.set_epsilon_to_symbol()"
   ]
  },
  {
   "cell_type": "code",
   "execution_count": 2,
   "id": "f282ef20-3848-4b87-bfab-13581c28a6da",
   "metadata": {},
   "outputs": [],
   "source": [
    "import numpy as np\n",
    "from symforce.values import Values\n",
    "\n",
    "import rosbag2_py\n",
    "from rclpy.serialization import deserialize_message"
   ]
  },
  {
   "cell_type": "code",
   "execution_count": 3,
   "id": "11730aae-96e5-4004-b6cc-2ed257460a98",
   "metadata": {},
   "outputs": [
    {
     "name": "stderr",
     "output_type": "stream",
     "text": [
      "[INFO] [1698691007.324500612] [rosbag2_storage]: Opened database '../bags/dataset_drive_square_no_vid/rosbag2_2023_10_25-11_14_04_0.db3' for READ_ONLY.\n"
     ]
    }
   ],
   "source": [
    "bag_path = \"../bags/dataset_drive_square_no_vid\"\n",
    "# Copied the following from https://qiita.com/nonanonno/items/8f7bce03953709fd5af9\n",
    "storage_options = rosbag2_py.StorageOptions(uri=bag_path, storage_id=\"sqlite3\")\n",
    "converter_options = rosbag2_py.ConverterOptions(input_serialization_format=\"cdr\", output_serialization_format=\"cdr\")\n",
    "\n",
    "sr = rosbag2_py.SequentialReader()\n",
    "sr.open(storage_options, converter_options)\n",
    "sr.set_filter(rosbag2_py.StorageFilter(topics=[\"/odom\", \"/detections\", \"/camera/camera_info\"]))"
   ]
  },
  {
   "cell_type": "code",
   "execution_count": 4,
   "id": "1f5e06c6-0a4b-468f-bcb0-5058108ac3fc",
   "metadata": {},
   "outputs": [],
   "source": [
    "# Create a dictionary of each topic's message type\n",
    "# This will be used for deserializing the messages.\n",
    "import importlib\n",
    "def get_type_from_str(type_str: str):\n",
    "    # dynamic load message package\n",
    "    pkg = importlib.import_module(\".\".join(type_str.split(\"/\")[:-1]))\n",
    "    return eval(f\"pkg.{type_str.split('/')[-1]}\")\n",
    "\n",
    "msg_type_table = {}\n",
    "for topic in sr.get_all_topics_and_types():\n",
    "    msg_type_table[topic.name] = get_type_from_str(topic.type)"
   ]
  },
  {
   "cell_type": "code",
   "execution_count": 5,
   "id": "e6f6d936-9af0-4823-bebe-c7840175cc15",
   "metadata": {},
   "outputs": [
    {
     "name": "stderr",
     "output_type": "stream",
     "text": [
      "[INFO] [1698691007.484943617] [rosbag2_storage]: Opened database '../bags/dataset_drive_square_no_vid/rosbag2_2023_10_25-11_14_04_0.db3' for READ_ONLY.\n"
     ]
    }
   ],
   "source": [
    "# Now we extract messages from the entire bag\n",
    "sr.seek(0)\n",
    "msgs = []\n",
    "while sr.has_next():\n",
    "    msgs.append(sr.read_next())\n",
    "\n",
    "msgs_no_cam = [msg for msg in msgs if not (msg[0] == \"/camera/camera_info\")]"
   ]
  },
  {
   "cell_type": "code",
   "execution_count": 6,
   "id": "d50c21f7-6e35-4996-89b8-fda70b085a7d",
   "metadata": {},
   "outputs": [
    {
     "name": "stdout",
     "output_type": "stream",
     "text": [
      "nav_msgs.msg.Odometry(header=std_msgs.msg.Header(stamp=builtin_interfaces.msg.Time(sec=1697911413, nanosec=507019835), frame_id='odom'), child_frame_id='base_footprint', pose=geometry_msgs.msg.PoseWithCovariance(pose=geometry_msgs.msg.Pose(position=geometry_msgs.msg.Point(x=0.002499930899425671, y=2.0161891289617244e-06, z=0.0), orientation=geometry_msgs.msg.Quaternion(x=0.0, y=0.0, z=-0.010080474430627446, w=0.9999491907268356)), covariance=array([1.e-01, 0.e+00, 0.e+00, 0.e+00, 0.e+00, 0.e+00, 0.e+00, 1.e-01,\n",
      "       0.e+00, 0.e+00, 0.e+00, 0.e+00, 0.e+00, 0.e+00, 1.e-01, 0.e+00,\n",
      "       0.e+00, 0.e+00, 0.e+00, 0.e+00, 0.e+00, 1.e+05, 0.e+00, 0.e+00,\n",
      "       0.e+00, 0.e+00, 0.e+00, 0.e+00, 1.e+05, 0.e+00, 0.e+00, 0.e+00,\n",
      "       0.e+00, 0.e+00, 0.e+00, 1.e+05])), twist=geometry_msgs.msg.TwistWithCovariance(twist=geometry_msgs.msg.Twist(linear=geometry_msgs.msg.Vector3(x=0.0, y=0.0, z=0.0), angular=geometry_msgs.msg.Vector3(x=0.0, y=0.0, z=0.0)), covariance=array([0., 0., 0., 0., 0., 0., 0., 0., 0., 0., 0., 0., 0., 0., 0., 0., 0.,\n",
      "       0., 0., 0., 0., 0., 0., 0., 0., 0., 0., 0., 0., 0., 0., 0., 0., 0.,\n",
      "       0., 0.])))\n",
      "---\n",
      "apriltag_msgs.msg.AprilTagDetectionArray(header=std_msgs.msg.Header(stamp=builtin_interfaces.msg.Time(sec=1697911413, nanosec=495530676), frame_id='camera'), detections=[apriltag_msgs.msg.AprilTagDetection(family='tag36h11', id=2, hamming=0, goodness=0.0, decision_margin=108.31108093261719, centre=apriltag_msgs.msg.Point(x=310.9918610968816, y=175.92624968999823), corners=[apriltag_msgs.msg.Point(x=321.1826477050781, y=186.10935974121097), apriltag_msgs.msg.Point(x=321.05401611328125, y=165.68884277343747), apriltag_msgs.msg.Point(x=300.90603637695307, y=165.84802246093747), apriltag_msgs.msg.Point(x=301.0301208496093, y=186.06149291992185)], homography=array([-3.80170664e-02,  8.49016741e+00,  3.10991861e+02, -1.01440047e+01,\n",
      "       -9.24289843e-01,  1.75926250e+02,  8.08767293e-05, -5.09562375e-03,\n",
      "        1.00000000e+00])), apriltag_msgs.msg.AprilTagDetection(family='tag36h11', id=3, hamming=0, goodness=0.0, decision_margin=67.95487976074219, centre=apriltag_msgs.msg.Point(x=143.63054090701175, y=173.3569013940378), corners=[apriltag_msgs.msg.Point(x=182.1328582763672, y=134.07746887207034), apriltag_msgs.msg.Point(x=103.13464355468749, y=133.94833374023438), apriltag_msgs.msg.Point(x=105.16831970214844, y=212.59542846679688), apriltag_msgs.msg.Point(x=183.53684997558594, y=212.19171142578122)], homography=array([-3.98298070e+01, -1.42237528e+00,  1.43630541e+02, -5.20763094e-01,\n",
      "       -3.98700459e+01,  1.73356901e+02, -3.40600852e-03, -3.92697785e-03,\n",
      "        1.00000000e+00]))])\n",
      "---\n",
      "sensor_msgs.msg.CameraInfo(header=std_msgs.msg.Header(stamp=builtin_interfaces.msg.Time(sec=1697911413, nanosec=495530676), frame_id='camera'), height=432, width=768, distortion_model='plumb_bob', d=[-0.049922, 0.049023, 0.002386, -0.004925, 0.0], k=array([491.08741,   0.     , 372.63814,   0.     , 490.2843 , 221.30161,\n",
      "         0.     ,   0.     ,   1.     ]), r=array([1., 0., 0., 0., 1., 0., 0., 0., 1.]), p=array([487.56742,   0.     , 368.28725,   0.     ,   0.     , 489.20578,\n",
      "       222.56956,   0.     ,   0.     ,   0.     ,   1.     ,   0.     ]), binning_x=0, binning_y=0, roi=sensor_msgs.msg.RegionOfInterest(x_offset=0, y_offset=0, height=0, width=0, do_rectify=False))\n"
     ]
    }
   ],
   "source": [
    "# Extract detections and odometry messages\n",
    "f_deserialize_msg = lambda msg: deserialize_message(msg[1], msg_type_table[msg[0]])\n",
    "def get_first_msg_of_topic(topic):\n",
    "    return next(deserialize_message(msg[1], msg_type_table[msg[0]]) for msg in msgs if msg[0] == topic)\n",
    "\n",
    "example_odom_data = get_first_msg_of_topic(\"/odom\")\n",
    "example_detections_data = get_first_msg_of_topic(\"/detections\")\n",
    "example_camera_info_data = get_first_msg_of_topic(\"/camera/camera_info\")\n",
    "\n",
    "print(example_odom_data)\n",
    "print(\"---\")\n",
    "print(example_detections_data)\n",
    "print(\"---\")\n",
    "print(example_camera_info_data)"
   ]
  },
  {
   "cell_type": "code",
   "execution_count": 7,
   "id": "b3352b16-9d61-4ad1-9f00-106ca7ff12c8",
   "metadata": {},
   "outputs": [],
   "source": [
    "import symforce.symbolic as sf\n",
    "# Get the example messages into np form to play around with them\n",
    "example_corners = np.array([\n",
    "    np.array([corner.x, corner.y])\n",
    "    for corner in example_detections_data.detections[0].corners\n",
    "])\n",
    "\n",
    "camera_K = np.reshape(example_camera_info_data.k, (3, 3))\n",
    "focal_length = [camera_K[0, 0], camera_K[1, 1]]\n",
    "principal_point = [camera_K[0, 2], camera_K[1, 2]]\n",
    "camera_cal = sf.LinearCameraCal(focal_length=focal_length, principal_point = principal_point)"
   ]
  },
  {
   "cell_type": "code",
   "execution_count": 8,
   "id": "8f405cf2-0d8f-4645-a580-ce3c1b01809b",
   "metadata": {},
   "outputs": [],
   "source": [
    "## Phase 1: Integrate odometry using Symforce?\n",
    "# Define the odometry residual function?\n",
    "from symforce.codegen.geo_factors_codegen import prior_factor, between_factor\n",
    "\n",
    "def residual_between(pose_1: sf.Pose3, pose_2: sf.Pose3, rdelta_measured: sf.Pose3, epsilon: sf.Scalar):\n",
    "    # Compute the expected body-frame displacement\n",
    "    # pose_1 * rdelta = pose_2\n",
    "    rdelta_expected = pose_1.inverse() * pose_2\n",
    "\n",
    "    # The \"error\": rdelta_expected ⊟ rdelta_measured\n",
    "    error = rdelta_measured.local_coordinates(rdelta_expected, epsilon)\n",
    "    return error\n",
    "\n",
    "def get_tag_corner_residual(i_corner: np.int_):\n",
    "    ## Get the position of the tags in the camera frame\n",
    "    # Define the displacements from the tag center to each tag corner\n",
    "    R = sf.Rot3.identity()\n",
    "    w = 0.203\n",
    "    # Corner order: start in bottom left (-x, -y) and go ccw\n",
    "    g_tag_c1 = sf.Pose3(R, sf.Vector3([-w/2, -w/2, 0]))\n",
    "    g_tag_c2 = sf.Pose3(R, sf.Vector3([-w/2, w/2, 0]))\n",
    "    g_tag_c3 = sf.Pose3(R, sf.Vector3([w/2, w/2, 0]))\n",
    "    g_tag_c4 = sf.Pose3(R, sf.Vector3([w/2, -w/2, 0]))\n",
    "    g_tag_corners = [g_tag_c1, g_tag_c2, g_tag_c3, g_tag_c4]\n",
    "    g_tag_ci = g_tag_corners[i_corner]\n",
    "\n",
    "    def residual_tag_obs(camera_pose: sf.Pose3, tag_pose: sf.Pose3, corners_px_measured: sf.M12, epsilon: sf.Scalar):\n",
    "        # Measure the error between the expected pixel coordinates of the tag corners\n",
    "        # versus the actual measured ones.\n",
    "    \n",
    "        # Compute the expected tag corner positions in the camera frame\n",
    "        # based on the hypothesized camera and tag poses.\n",
    "        g_cam_tag = camera_pose.inverse() * tag_pose\n",
    "        g_cam_corner = g_cam_tag * g_tag_ci\n",
    "    \n",
    "        # Project the tag corner positions into the camera frame using the camera model\n",
    "        corners_px_expected = camera_cal.pixel_from_camera_point(g_cam_corner.t)[0]\n",
    "    \n",
    "        return corners_px_measured.T - corners_px_expected\n",
    "    return residual_tag_obs\n",
    "    "
   ]
  },
  {
   "cell_type": "code",
   "execution_count": 130,
   "id": "669202b1-1f3f-40b7-aa37-7db3066f3cc9",
   "metadata": {},
   "outputs": [
    {
     "name": "stdout",
     "output_type": "stream",
     "text": [
      "0.015800009\n",
      "0.004043807\n",
      "0.019885140000000003\n"
     ]
    }
   ],
   "source": [
    "from symforce.opt.factor import Factor\n",
    "from symforce.values import Values\n",
    "\n",
    "start_factor = 300\n",
    "n_factors = 50\n",
    "tag_ids = [0, 1, 2, 3, 4, 5]\n",
    "\n",
    "# Supporting functions\n",
    "def pose3_msg_to_sf(msg):\n",
    "    q_xyz = [msg.orientation.x, msg.orientation.y, msg.orientation.z]\n",
    "    w = msg.orientation.w\n",
    "    quat = sf.Quaternion(xyz=sf.Vector3(q_xyz), w=w)\n",
    "    R = sf.Rot3(quat)\n",
    "\n",
    "    posn = [msg.position.x, msg.position.y, msg.position.z]\n",
    "    t = sf.Vector3(posn)\n",
    "    return sf.Pose3(R, t)\n",
    "\n",
    "## Initialize storage vars\n",
    "factors = []\n",
    "# Store odometry sensor data\n",
    "i_pose = 0\n",
    "odoms = []\n",
    "poses = [sf.Pose3.identity()]\n",
    "last_pose = sf.Pose3.identity()\n",
    "# Store tag detections\n",
    "n_detections = [0 for id in tag_ids]\n",
    "detections = [[] for id in tag_ids]\n",
    "last_odom_time = 0\n",
    "for i in range(start_factor, start_factor + n_factors):\n",
    "    topic, bdata, time = msgs_no_cam[i]\n",
    "    data = f_deserialize_msg(msgs_no_cam[i])\n",
    "\n",
    "    if topic == \"/odom\":\n",
    "        ## Add a between-factor to the factor graph\n",
    "        factors.append(Factor(\n",
    "            residual=residual_between,\n",
    "            keys=[f\"poses[{i_pose}]\", f\"poses[{i_pose+1}]\", f\"odoms[{i_pose}]\", \"epsilon\"]\n",
    "        ))\n",
    "\n",
    "        ## Record the sensor data into the list of displacements\n",
    "        pose = pose3_msg_to_sf(data.pose.pose)\n",
    "        if i_pose == 0:\n",
    "            # If first displacement measurement, simply record 0\n",
    "            odoms.append(sf.Pose3.identity())\n",
    "            poses.append(sf.Pose3.identity())\n",
    "        else:\n",
    "            # Otherwise, record the displacement from the last pose\n",
    "            # last_pose * delta = pose\n",
    "            # => delta = inv(last_pose) * pose\n",
    "            delta = last_pose.inverse() * pose\n",
    "            odoms.append(delta)\n",
    "            poses.append(poses[-1] * delta)\n",
    "        \n",
    "        last_pose = pose\n",
    "        i_pose = i_pose + 1\n",
    "        last_odom_time = time\n",
    "        \n",
    "    elif topic == \"/detections\" and (time - last_odom_time) * 1e-9 < 0.02:\n",
    "        for detection in data.detections:\n",
    "            tag_id = detection.id\n",
    "            \n",
    "            corners_i = []\n",
    "            for i, corner in enumerate(detection.corners):\n",
    "                factors.append(Factor(\n",
    "                    residual=get_tag_corner_residual(i),\n",
    "                    keys=[\n",
    "                        f\"poses[{i_pose}]\",\n",
    "                        f\"tag_poses[{tag_id}][{n_detections[tag_id]}]\",\n",
    "                        f\"detections[{tag_id}][{n_detections[tag_id]}][{i}]\",\n",
    "                        \"epsilon\"\n",
    "                    ]\n",
    "                ))\n",
    "\n",
    "                corners_i.append(sf.M12([corner.x, corner.y]))\n",
    "            detections[tag_id].append(corners_i)\n",
    "            # Count a new detection for this tag\n",
    "            n_detections[tag_id] += 1\n",
    "\n",
    "n_poses = i_pose + 1\n",
    "initial_poses = poses\n",
    "initial_tag_poses = [[sf.Pose3.identity()] * n_detections[id] for id in tag_ids]\n",
    "\n",
    "for i, detection_list in enumerate(detections):\n",
    "    if n_detections[i] == 0:\n",
    "        detections[i] = [[0]]\n",
    "        initial_tag_poses[i] = [sf.Pose3.identity()]\n",
    "\n",
    "initial_values = Values(\n",
    "    poses = initial_poses,\n",
    "    odoms = odoms,\n",
    "    detections = detections,\n",
    "    tag_poses = initial_tag_poses,\n",
    "    epsilon = sf.numeric_epsilon\n",
    ")"
   ]
  },
  {
   "cell_type": "code",
   "execution_count": 131,
   "id": "32ddcab0-80ac-4b80-a832-89b376db64cb",
   "metadata": {},
   "outputs": [
    {
     "name": "stdout",
     "output_type": "stream",
     "text": [
      "[2023-10-31 14:24:06.701] [info] LM<sym::Optimize> [iter    0] lambda: 1.000e+00, error prev/linear/new: 2.142e+34/0.000e+00/1.207e+34, rel reduction: 4.36170e-01\n",
      "[2023-10-31 14:24:06.712] [info] LM<sym::Optimize> [iter    1] lambda: 2.500e-01, error prev/linear/new: 1.207e+34/0.000e+00/1.207e+34, rel reduction: 0.00000e+00\n"
     ]
    }
   ],
   "source": [
    "from symforce.opt.optimizer import Optimizer\n",
    "\n",
    "optimizer = Optimizer(\n",
    "    factors=factors,\n",
    "    optimized_keys=[f\"poses[{i}]\" for i in range(n_poses)],\n",
    "    # So that we save more information about each iteration, to visualize later:\n",
    "    debug_stats=True,\n",
    ")\n",
    "result = optimizer.optimize(initial_values)"
   ]
  },
  {
   "cell_type": "code",
   "execution_count": 132,
   "id": "6c52ec53-cd3d-43af-8abf-3adf3e93cacb",
   "metadata": {},
   "outputs": [
    {
     "data": {
      "application/vnd.plotly.v1+json": {
       "config": {
        "plotlyServerURL": "https://plot.ly"
       },
       "data": [
        {
         "name": "initial",
         "type": "scatter3d",
         "x": [
          0,
          0,
          0.07649938017129898,
          0.15449874103069305
         ],
         "y": [
          0,
          0,
          0.00030846690060570836,
          -6.048370778444223e-06
         ],
         "z": [
          0,
          0,
          0,
          0
         ]
        },
        {
         "name": "optimized",
         "type": "scatter3d",
         "x": [
          3.4692333408322285e-16,
          6.938466681664457e-16,
          0.024999797344207764,
          8.326672684688674e-16
         ],
         "y": [
          9.754571048667922e-17,
          1.9509142097335843e-16,
          0.00031076068989932537,
          3.0893832685206096e-17
         ],
         "z": [
          0,
          0,
          0,
          0
         ]
        }
       ],
       "layout": {
        "height": 800,
        "scene": {
         "aspectmode": "data",
         "aspectratio": {
          "x": 4.2236128119801295,
          "y": 0.008660774830289342,
          "z": 27.3375225183295
         },
         "camera": {
          "center": {
           "x": 0,
           "y": 0,
           "z": 0
          },
          "eye": {
           "x": 0.632284565899619,
           "y": 0.6322845658996189,
           "z": 0.632284565899619
          },
          "projection": {
           "type": "perspective"
          },
          "up": {
           "x": 0,
           "y": 0,
           "z": 1
          }
         }
        },
        "template": {
         "data": {
          "bar": [
           {
            "error_x": {
             "color": "#2a3f5f"
            },
            "error_y": {
             "color": "#2a3f5f"
            },
            "marker": {
             "line": {
              "color": "#E5ECF6",
              "width": 0.5
             },
             "pattern": {
              "fillmode": "overlay",
              "size": 10,
              "solidity": 0.2
             }
            },
            "type": "bar"
           }
          ],
          "barpolar": [
           {
            "marker": {
             "line": {
              "color": "#E5ECF6",
              "width": 0.5
             },
             "pattern": {
              "fillmode": "overlay",
              "size": 10,
              "solidity": 0.2
             }
            },
            "type": "barpolar"
           }
          ],
          "carpet": [
           {
            "aaxis": {
             "endlinecolor": "#2a3f5f",
             "gridcolor": "white",
             "linecolor": "white",
             "minorgridcolor": "white",
             "startlinecolor": "#2a3f5f"
            },
            "baxis": {
             "endlinecolor": "#2a3f5f",
             "gridcolor": "white",
             "linecolor": "white",
             "minorgridcolor": "white",
             "startlinecolor": "#2a3f5f"
            },
            "type": "carpet"
           }
          ],
          "choropleth": [
           {
            "colorbar": {
             "outlinewidth": 0,
             "ticks": ""
            },
            "type": "choropleth"
           }
          ],
          "contour": [
           {
            "colorbar": {
             "outlinewidth": 0,
             "ticks": ""
            },
            "colorscale": [
             [
              0,
              "#0d0887"
             ],
             [
              0.1111111111111111,
              "#46039f"
             ],
             [
              0.2222222222222222,
              "#7201a8"
             ],
             [
              0.3333333333333333,
              "#9c179e"
             ],
             [
              0.4444444444444444,
              "#bd3786"
             ],
             [
              0.5555555555555556,
              "#d8576b"
             ],
             [
              0.6666666666666666,
              "#ed7953"
             ],
             [
              0.7777777777777778,
              "#fb9f3a"
             ],
             [
              0.8888888888888888,
              "#fdca26"
             ],
             [
              1,
              "#f0f921"
             ]
            ],
            "type": "contour"
           }
          ],
          "contourcarpet": [
           {
            "colorbar": {
             "outlinewidth": 0,
             "ticks": ""
            },
            "type": "contourcarpet"
           }
          ],
          "heatmap": [
           {
            "colorbar": {
             "outlinewidth": 0,
             "ticks": ""
            },
            "colorscale": [
             [
              0,
              "#0d0887"
             ],
             [
              0.1111111111111111,
              "#46039f"
             ],
             [
              0.2222222222222222,
              "#7201a8"
             ],
             [
              0.3333333333333333,
              "#9c179e"
             ],
             [
              0.4444444444444444,
              "#bd3786"
             ],
             [
              0.5555555555555556,
              "#d8576b"
             ],
             [
              0.6666666666666666,
              "#ed7953"
             ],
             [
              0.7777777777777778,
              "#fb9f3a"
             ],
             [
              0.8888888888888888,
              "#fdca26"
             ],
             [
              1,
              "#f0f921"
             ]
            ],
            "type": "heatmap"
           }
          ],
          "heatmapgl": [
           {
            "colorbar": {
             "outlinewidth": 0,
             "ticks": ""
            },
            "colorscale": [
             [
              0,
              "#0d0887"
             ],
             [
              0.1111111111111111,
              "#46039f"
             ],
             [
              0.2222222222222222,
              "#7201a8"
             ],
             [
              0.3333333333333333,
              "#9c179e"
             ],
             [
              0.4444444444444444,
              "#bd3786"
             ],
             [
              0.5555555555555556,
              "#d8576b"
             ],
             [
              0.6666666666666666,
              "#ed7953"
             ],
             [
              0.7777777777777778,
              "#fb9f3a"
             ],
             [
              0.8888888888888888,
              "#fdca26"
             ],
             [
              1,
              "#f0f921"
             ]
            ],
            "type": "heatmapgl"
           }
          ],
          "histogram": [
           {
            "marker": {
             "pattern": {
              "fillmode": "overlay",
              "size": 10,
              "solidity": 0.2
             }
            },
            "type": "histogram"
           }
          ],
          "histogram2d": [
           {
            "colorbar": {
             "outlinewidth": 0,
             "ticks": ""
            },
            "colorscale": [
             [
              0,
              "#0d0887"
             ],
             [
              0.1111111111111111,
              "#46039f"
             ],
             [
              0.2222222222222222,
              "#7201a8"
             ],
             [
              0.3333333333333333,
              "#9c179e"
             ],
             [
              0.4444444444444444,
              "#bd3786"
             ],
             [
              0.5555555555555556,
              "#d8576b"
             ],
             [
              0.6666666666666666,
              "#ed7953"
             ],
             [
              0.7777777777777778,
              "#fb9f3a"
             ],
             [
              0.8888888888888888,
              "#fdca26"
             ],
             [
              1,
              "#f0f921"
             ]
            ],
            "type": "histogram2d"
           }
          ],
          "histogram2dcontour": [
           {
            "colorbar": {
             "outlinewidth": 0,
             "ticks": ""
            },
            "colorscale": [
             [
              0,
              "#0d0887"
             ],
             [
              0.1111111111111111,
              "#46039f"
             ],
             [
              0.2222222222222222,
              "#7201a8"
             ],
             [
              0.3333333333333333,
              "#9c179e"
             ],
             [
              0.4444444444444444,
              "#bd3786"
             ],
             [
              0.5555555555555556,
              "#d8576b"
             ],
             [
              0.6666666666666666,
              "#ed7953"
             ],
             [
              0.7777777777777778,
              "#fb9f3a"
             ],
             [
              0.8888888888888888,
              "#fdca26"
             ],
             [
              1,
              "#f0f921"
             ]
            ],
            "type": "histogram2dcontour"
           }
          ],
          "mesh3d": [
           {
            "colorbar": {
             "outlinewidth": 0,
             "ticks": ""
            },
            "type": "mesh3d"
           }
          ],
          "parcoords": [
           {
            "line": {
             "colorbar": {
              "outlinewidth": 0,
              "ticks": ""
             }
            },
            "type": "parcoords"
           }
          ],
          "pie": [
           {
            "automargin": true,
            "type": "pie"
           }
          ],
          "scatter": [
           {
            "fillpattern": {
             "fillmode": "overlay",
             "size": 10,
             "solidity": 0.2
            },
            "type": "scatter"
           }
          ],
          "scatter3d": [
           {
            "line": {
             "colorbar": {
              "outlinewidth": 0,
              "ticks": ""
             }
            },
            "marker": {
             "colorbar": {
              "outlinewidth": 0,
              "ticks": ""
             }
            },
            "type": "scatter3d"
           }
          ],
          "scattercarpet": [
           {
            "marker": {
             "colorbar": {
              "outlinewidth": 0,
              "ticks": ""
             }
            },
            "type": "scattercarpet"
           }
          ],
          "scattergeo": [
           {
            "marker": {
             "colorbar": {
              "outlinewidth": 0,
              "ticks": ""
             }
            },
            "type": "scattergeo"
           }
          ],
          "scattergl": [
           {
            "marker": {
             "colorbar": {
              "outlinewidth": 0,
              "ticks": ""
             }
            },
            "type": "scattergl"
           }
          ],
          "scattermapbox": [
           {
            "marker": {
             "colorbar": {
              "outlinewidth": 0,
              "ticks": ""
             }
            },
            "type": "scattermapbox"
           }
          ],
          "scatterpolar": [
           {
            "marker": {
             "colorbar": {
              "outlinewidth": 0,
              "ticks": ""
             }
            },
            "type": "scatterpolar"
           }
          ],
          "scatterpolargl": [
           {
            "marker": {
             "colorbar": {
              "outlinewidth": 0,
              "ticks": ""
             }
            },
            "type": "scatterpolargl"
           }
          ],
          "scatterternary": [
           {
            "marker": {
             "colorbar": {
              "outlinewidth": 0,
              "ticks": ""
             }
            },
            "type": "scatterternary"
           }
          ],
          "surface": [
           {
            "colorbar": {
             "outlinewidth": 0,
             "ticks": ""
            },
            "colorscale": [
             [
              0,
              "#0d0887"
             ],
             [
              0.1111111111111111,
              "#46039f"
             ],
             [
              0.2222222222222222,
              "#7201a8"
             ],
             [
              0.3333333333333333,
              "#9c179e"
             ],
             [
              0.4444444444444444,
              "#bd3786"
             ],
             [
              0.5555555555555556,
              "#d8576b"
             ],
             [
              0.6666666666666666,
              "#ed7953"
             ],
             [
              0.7777777777777778,
              "#fb9f3a"
             ],
             [
              0.8888888888888888,
              "#fdca26"
             ],
             [
              1,
              "#f0f921"
             ]
            ],
            "type": "surface"
           }
          ],
          "table": [
           {
            "cells": {
             "fill": {
              "color": "#EBF0F8"
             },
             "line": {
              "color": "white"
             }
            },
            "header": {
             "fill": {
              "color": "#C8D4E3"
             },
             "line": {
              "color": "white"
             }
            },
            "type": "table"
           }
          ]
         },
         "layout": {
          "annotationdefaults": {
           "arrowcolor": "#2a3f5f",
           "arrowhead": 0,
           "arrowwidth": 1
          },
          "autotypenumbers": "strict",
          "coloraxis": {
           "colorbar": {
            "outlinewidth": 0,
            "ticks": ""
           }
          },
          "colorscale": {
           "diverging": [
            [
             0,
             "#8e0152"
            ],
            [
             0.1,
             "#c51b7d"
            ],
            [
             0.2,
             "#de77ae"
            ],
            [
             0.3,
             "#f1b6da"
            ],
            [
             0.4,
             "#fde0ef"
            ],
            [
             0.5,
             "#f7f7f7"
            ],
            [
             0.6,
             "#e6f5d0"
            ],
            [
             0.7,
             "#b8e186"
            ],
            [
             0.8,
             "#7fbc41"
            ],
            [
             0.9,
             "#4d9221"
            ],
            [
             1,
             "#276419"
            ]
           ],
           "sequential": [
            [
             0,
             "#0d0887"
            ],
            [
             0.1111111111111111,
             "#46039f"
            ],
            [
             0.2222222222222222,
             "#7201a8"
            ],
            [
             0.3333333333333333,
             "#9c179e"
            ],
            [
             0.4444444444444444,
             "#bd3786"
            ],
            [
             0.5555555555555556,
             "#d8576b"
            ],
            [
             0.6666666666666666,
             "#ed7953"
            ],
            [
             0.7777777777777778,
             "#fb9f3a"
            ],
            [
             0.8888888888888888,
             "#fdca26"
            ],
            [
             1,
             "#f0f921"
            ]
           ],
           "sequentialminus": [
            [
             0,
             "#0d0887"
            ],
            [
             0.1111111111111111,
             "#46039f"
            ],
            [
             0.2222222222222222,
             "#7201a8"
            ],
            [
             0.3333333333333333,
             "#9c179e"
            ],
            [
             0.4444444444444444,
             "#bd3786"
            ],
            [
             0.5555555555555556,
             "#d8576b"
            ],
            [
             0.6666666666666666,
             "#ed7953"
            ],
            [
             0.7777777777777778,
             "#fb9f3a"
            ],
            [
             0.8888888888888888,
             "#fdca26"
            ],
            [
             1,
             "#f0f921"
            ]
           ]
          },
          "colorway": [
           "#636efa",
           "#EF553B",
           "#00cc96",
           "#ab63fa",
           "#FFA15A",
           "#19d3f3",
           "#FF6692",
           "#B6E880",
           "#FF97FF",
           "#FECB52"
          ],
          "font": {
           "color": "#2a3f5f"
          },
          "geo": {
           "bgcolor": "white",
           "lakecolor": "white",
           "landcolor": "#E5ECF6",
           "showlakes": true,
           "showland": true,
           "subunitcolor": "white"
          },
          "hoverlabel": {
           "align": "left"
          },
          "hovermode": "closest",
          "mapbox": {
           "style": "light"
          },
          "paper_bgcolor": "white",
          "plot_bgcolor": "#E5ECF6",
          "polar": {
           "angularaxis": {
            "gridcolor": "white",
            "linecolor": "white",
            "ticks": ""
           },
           "bgcolor": "#E5ECF6",
           "radialaxis": {
            "gridcolor": "white",
            "linecolor": "white",
            "ticks": ""
           }
          },
          "scene": {
           "xaxis": {
            "backgroundcolor": "#E5ECF6",
            "gridcolor": "white",
            "gridwidth": 2,
            "linecolor": "white",
            "showbackground": true,
            "ticks": "",
            "zerolinecolor": "white"
           },
           "yaxis": {
            "backgroundcolor": "#E5ECF6",
            "gridcolor": "white",
            "gridwidth": 2,
            "linecolor": "white",
            "showbackground": true,
            "ticks": "",
            "zerolinecolor": "white"
           },
           "zaxis": {
            "backgroundcolor": "#E5ECF6",
            "gridcolor": "white",
            "gridwidth": 2,
            "linecolor": "white",
            "showbackground": true,
            "ticks": "",
            "zerolinecolor": "white"
           }
          },
          "shapedefaults": {
           "line": {
            "color": "#2a3f5f"
           }
          },
          "ternary": {
           "aaxis": {
            "gridcolor": "white",
            "linecolor": "white",
            "ticks": ""
           },
           "baxis": {
            "gridcolor": "white",
            "linecolor": "white",
            "ticks": ""
           },
           "bgcolor": "#E5ECF6",
           "caxis": {
            "gridcolor": "white",
            "linecolor": "white",
            "ticks": ""
           }
          },
          "title": {
           "x": 0.05
          },
          "xaxis": {
           "automargin": true,
           "gridcolor": "white",
           "linecolor": "white",
           "ticks": "",
           "title": {
            "standoff": 15
           },
           "zerolinecolor": "white",
           "zerolinewidth": 2
          },
          "yaxis": {
           "automargin": true,
           "gridcolor": "white",
           "linecolor": "white",
           "ticks": "",
           "title": {
            "standoff": 15
           },
           "zerolinecolor": "white",
           "zerolinewidth": 2
          }
         }
        },
        "width": 800
       }
      },
      "image/png": "[encoded data removed]",
      "text/html": [
       "<div>                            <div id=\"bf5d7a92-f231-4a2b-8af8-278374a1a6ac\" class=\"plotly-graph-div\" style=\"height:800px; width:800px;\"></div>            <script type=\"text/javascript\">                require([\"plotly\"], function(Plotly) {                    window.PLOTLYENV=window.PLOTLYENV || {};                                    if (document.getElementById(\"bf5d7a92-f231-4a2b-8af8-278374a1a6ac\")) {                    Plotly.newPlot(                        \"bf5d7a92-f231-4a2b-8af8-278374a1a6ac\",                        [{\"name\":\"initial\",\"x\":[0.0,0.0,0.07649938017129898,0.15449874103069305],\"y\":[0.0,0.0,0.00030846690060570836,-6.048370778444223e-06],\"z\":[0.0,0.0,0.0,0.0],\"type\":\"scatter3d\"},{\"name\":\"optimized\",\"x\":[3.4692333408322285e-16,6.938466681664457e-16,0.024999797344207764,8.326672684688674e-16],\"y\":[9.754571048667922e-17,1.9509142097335843e-16,0.00031076068989932537,3.0893832685206096e-17],\"z\":[0.0,0.0,0.0,0.0],\"type\":\"scatter3d\"}],                        {\"template\":{\"data\":{\"histogram2dcontour\":[{\"type\":\"histogram2dcontour\",\"colorbar\":{\"outlinewidth\":0,\"ticks\":\"\"},\"colorscale\":[[0.0,\"#0d0887\"],[0.1111111111111111,\"#46039f\"],[0.2222222222222222,\"#7201a8\"],[0.3333333333333333,\"#9c179e\"],[0.4444444444444444,\"#bd3786\"],[0.5555555555555556,\"#d8576b\"],[0.6666666666666666,\"#ed7953\"],[0.7777777777777778,\"#fb9f3a\"],[0.8888888888888888,\"#fdca26\"],[1.0,\"#f0f921\"]]}],\"choropleth\":[{\"type\":\"choropleth\",\"colorbar\":{\"outlinewidth\":0,\"ticks\":\"\"}}],\"histogram2d\":[{\"type\":\"histogram2d\",\"colorbar\":{\"outlinewidth\":0,\"ticks\":\"\"},\"colorscale\":[[0.0,\"#0d0887\"],[0.1111111111111111,\"#46039f\"],[0.2222222222222222,\"#7201a8\"],[0.3333333333333333,\"#9c179e\"],[0.4444444444444444,\"#bd3786\"],[0.5555555555555556,\"#d8576b\"],[0.6666666666666666,\"#ed7953\"],[0.7777777777777778,\"#fb9f3a\"],[0.8888888888888888,\"#fdca26\"],[1.0,\"#f0f921\"]]}],\"heatmap\":[{\"type\":\"heatmap\",\"colorbar\":{\"outlinewidth\":0,\"ticks\":\"\"},\"colorscale\":[[0.0,\"#0d0887\"],[0.1111111111111111,\"#46039f\"],[0.2222222222222222,\"#7201a8\"],[0.3333333333333333,\"#9c179e\"],[0.4444444444444444,\"#bd3786\"],[0.5555555555555556,\"#d8576b\"],[0.6666666666666666,\"#ed7953\"],[0.7777777777777778,\"#fb9f3a\"],[0.8888888888888888,\"#fdca26\"],[1.0,\"#f0f921\"]]}],\"heatmapgl\":[{\"type\":\"heatmapgl\",\"colorbar\":{\"outlinewidth\":0,\"ticks\":\"\"},\"colorscale\":[[0.0,\"#0d0887\"],[0.1111111111111111,\"#46039f\"],[0.2222222222222222,\"#7201a8\"],[0.3333333333333333,\"#9c179e\"],[0.4444444444444444,\"#bd3786\"],[0.5555555555555556,\"#d8576b\"],[0.6666666666666666,\"#ed7953\"],[0.7777777777777778,\"#fb9f3a\"],[0.8888888888888888,\"#fdca26\"],[1.0,\"#f0f921\"]]}],\"contourcarpet\":[{\"type\":\"contourcarpet\",\"colorbar\":{\"outlinewidth\":0,\"ticks\":\"\"}}],\"contour\":[{\"type\":\"contour\",\"colorbar\":{\"outlinewidth\":0,\"ticks\":\"\"},\"colorscale\":[[0.0,\"#0d0887\"],[0.1111111111111111,\"#46039f\"],[0.2222222222222222,\"#7201a8\"],[0.3333333333333333,\"#9c179e\"],[0.4444444444444444,\"#bd3786\"],[0.5555555555555556,\"#d8576b\"],[0.6666666666666666,\"#ed7953\"],[0.7777777777777778,\"#fb9f3a\"],[0.8888888888888888,\"#fdca26\"],[1.0,\"#f0f921\"]]}],\"surface\":[{\"type\":\"surface\",\"colorbar\":{\"outlinewidth\":0,\"ticks\":\"\"},\"colorscale\":[[0.0,\"#0d0887\"],[0.1111111111111111,\"#46039f\"],[0.2222222222222222,\"#7201a8\"],[0.3333333333333333,\"#9c179e\"],[0.4444444444444444,\"#bd3786\"],[0.5555555555555556,\"#d8576b\"],[0.6666666666666666,\"#ed7953\"],[0.7777777777777778,\"#fb9f3a\"],[0.8888888888888888,\"#fdca26\"],[1.0,\"#f0f921\"]]}],\"mesh3d\":[{\"type\":\"mesh3d\",\"colorbar\":{\"outlinewidth\":0,\"ticks\":\"\"}}],\"scatter\":[{\"fillpattern\":{\"fillmode\":\"overlay\",\"size\":10,\"solidity\":0.2},\"type\":\"scatter\"}],\"parcoords\":[{\"type\":\"parcoords\",\"line\":{\"colorbar\":{\"outlinewidth\":0,\"ticks\":\"\"}}}],\"scatterpolargl\":[{\"type\":\"scatterpolargl\",\"marker\":{\"colorbar\":{\"outlinewidth\":0,\"ticks\":\"\"}}}],\"bar\":[{\"error_x\":{\"color\":\"#2a3f5f\"},\"error_y\":{\"color\":\"#2a3f5f\"},\"marker\":{\"line\":{\"color\":\"#E5ECF6\",\"width\":0.5},\"pattern\":{\"fillmode\":\"overlay\",\"size\":10,\"solidity\":0.2}},\"type\":\"bar\"}],\"scattergeo\":[{\"type\":\"scattergeo\",\"marker\":{\"colorbar\":{\"outlinewidth\":0,\"ticks\":\"\"}}}],\"scatterpolar\":[{\"type\":\"scatterpolar\",\"marker\":{\"colorbar\":{\"outlinewidth\":0,\"ticks\":\"\"}}}],\"histogram\":[{\"marker\":{\"pattern\":{\"fillmode\":\"overlay\",\"size\":10,\"solidity\":0.2}},\"type\":\"histogram\"}],\"scattergl\":[{\"type\":\"scattergl\",\"marker\":{\"colorbar\":{\"outlinewidth\":0,\"ticks\":\"\"}}}],\"scatter3d\":[{\"type\":\"scatter3d\",\"line\":{\"colorbar\":{\"outlinewidth\":0,\"ticks\":\"\"}},\"marker\":{\"colorbar\":{\"outlinewidth\":0,\"ticks\":\"\"}}}],\"scattermapbox\":[{\"type\":\"scattermapbox\",\"marker\":{\"colorbar\":{\"outlinewidth\":0,\"ticks\":\"\"}}}],\"scatterternary\":[{\"type\":\"scatterternary\",\"marker\":{\"colorbar\":{\"outlinewidth\":0,\"ticks\":\"\"}}}],\"scattercarpet\":[{\"type\":\"scattercarpet\",\"marker\":{\"colorbar\":{\"outlinewidth\":0,\"ticks\":\"\"}}}],\"carpet\":[{\"aaxis\":{\"endlinecolor\":\"#2a3f5f\",\"gridcolor\":\"white\",\"linecolor\":\"white\",\"minorgridcolor\":\"white\",\"startlinecolor\":\"#2a3f5f\"},\"baxis\":{\"endlinecolor\":\"#2a3f5f\",\"gridcolor\":\"white\",\"linecolor\":\"white\",\"minorgridcolor\":\"white\",\"startlinecolor\":\"#2a3f5f\"},\"type\":\"carpet\"}],\"table\":[{\"cells\":{\"fill\":{\"color\":\"#EBF0F8\"},\"line\":{\"color\":\"white\"}},\"header\":{\"fill\":{\"color\":\"#C8D4E3\"},\"line\":{\"color\":\"white\"}},\"type\":\"table\"}],\"barpolar\":[{\"marker\":{\"line\":{\"color\":\"#E5ECF6\",\"width\":0.5},\"pattern\":{\"fillmode\":\"overlay\",\"size\":10,\"solidity\":0.2}},\"type\":\"barpolar\"}],\"pie\":[{\"automargin\":true,\"type\":\"pie\"}]},\"layout\":{\"autotypenumbers\":\"strict\",\"colorway\":[\"#636efa\",\"#EF553B\",\"#00cc96\",\"#ab63fa\",\"#FFA15A\",\"#19d3f3\",\"#FF6692\",\"#B6E880\",\"#FF97FF\",\"#FECB52\"],\"font\":{\"color\":\"#2a3f5f\"},\"hovermode\":\"closest\",\"hoverlabel\":{\"align\":\"left\"},\"paper_bgcolor\":\"white\",\"plot_bgcolor\":\"#E5ECF6\",\"polar\":{\"bgcolor\":\"#E5ECF6\",\"angularaxis\":{\"gridcolor\":\"white\",\"linecolor\":\"white\",\"ticks\":\"\"},\"radialaxis\":{\"gridcolor\":\"white\",\"linecolor\":\"white\",\"ticks\":\"\"}},\"ternary\":{\"bgcolor\":\"#E5ECF6\",\"aaxis\":{\"gridcolor\":\"white\",\"linecolor\":\"white\",\"ticks\":\"\"},\"baxis\":{\"gridcolor\":\"white\",\"linecolor\":\"white\",\"ticks\":\"\"},\"caxis\":{\"gridcolor\":\"white\",\"linecolor\":\"white\",\"ticks\":\"\"}},\"coloraxis\":{\"colorbar\":{\"outlinewidth\":0,\"ticks\":\"\"}},\"colorscale\":{\"sequential\":[[0.0,\"#0d0887\"],[0.1111111111111111,\"#46039f\"],[0.2222222222222222,\"#7201a8\"],[0.3333333333333333,\"#9c179e\"],[0.4444444444444444,\"#bd3786\"],[0.5555555555555556,\"#d8576b\"],[0.6666666666666666,\"#ed7953\"],[0.7777777777777778,\"#fb9f3a\"],[0.8888888888888888,\"#fdca26\"],[1.0,\"#f0f921\"]],\"sequentialminus\":[[0.0,\"#0d0887\"],[0.1111111111111111,\"#46039f\"],[0.2222222222222222,\"#7201a8\"],[0.3333333333333333,\"#9c179e\"],[0.4444444444444444,\"#bd3786\"],[0.5555555555555556,\"#d8576b\"],[0.6666666666666666,\"#ed7953\"],[0.7777777777777778,\"#fb9f3a\"],[0.8888888888888888,\"#fdca26\"],[1.0,\"#f0f921\"]],\"diverging\":[[0,\"#8e0152\"],[0.1,\"#c51b7d\"],[0.2,\"#de77ae\"],[0.3,\"#f1b6da\"],[0.4,\"#fde0ef\"],[0.5,\"#f7f7f7\"],[0.6,\"#e6f5d0\"],[0.7,\"#b8e186\"],[0.8,\"#7fbc41\"],[0.9,\"#4d9221\"],[1,\"#276419\"]]},\"xaxis\":{\"gridcolor\":\"white\",\"linecolor\":\"white\",\"ticks\":\"\",\"title\":{\"standoff\":15},\"zerolinecolor\":\"white\",\"automargin\":true,\"zerolinewidth\":2},\"yaxis\":{\"gridcolor\":\"white\",\"linecolor\":\"white\",\"ticks\":\"\",\"title\":{\"standoff\":15},\"zerolinecolor\":\"white\",\"automargin\":true,\"zerolinewidth\":2},\"scene\":{\"xaxis\":{\"backgroundcolor\":\"#E5ECF6\",\"gridcolor\":\"white\",\"linecolor\":\"white\",\"showbackground\":true,\"ticks\":\"\",\"zerolinecolor\":\"white\",\"gridwidth\":2},\"yaxis\":{\"backgroundcolor\":\"#E5ECF6\",\"gridcolor\":\"white\",\"linecolor\":\"white\",\"showbackground\":true,\"ticks\":\"\",\"zerolinecolor\":\"white\",\"gridwidth\":2},\"zaxis\":{\"backgroundcolor\":\"#E5ECF6\",\"gridcolor\":\"white\",\"linecolor\":\"white\",\"showbackground\":true,\"ticks\":\"\",\"zerolinecolor\":\"white\",\"gridwidth\":2}},\"shapedefaults\":{\"line\":{\"color\":\"#2a3f5f\"}},\"annotationdefaults\":{\"arrowcolor\":\"#2a3f5f\",\"arrowhead\":0,\"arrowwidth\":1},\"geo\":{\"bgcolor\":\"white\",\"landcolor\":\"#E5ECF6\",\"subunitcolor\":\"white\",\"showland\":true,\"showlakes\":true,\"lakecolor\":\"white\"},\"title\":{\"x\":0.05},\"mapbox\":{\"style\":\"light\"}}},\"scene\":{\"aspectmode\":\"data\"},\"width\":800,\"height\":800},                        {\"responsive\": true}                    ).then(function(){\n",
       "                            \n",
       "var gd = document.getElementById('bf5d7a92-f231-4a2b-8af8-278374a1a6ac');\n",
       "var x = new MutationObserver(function (mutations, observer) {{\n",
       "        var display = window.getComputedStyle(gd).display;\n",
       "        if (!display || display === 'none') {{\n",
       "            console.log([gd, 'removed!']);\n",
       "            Plotly.purge(gd);\n",
       "            observer.disconnect();\n",
       "        }}\n",
       "}});\n",
       "\n",
       "// Listen for the removal of the full notebook cells\n",
       "var notebookContainer = gd.closest('#notebook-container');\n",
       "if (notebookContainer) {{\n",
       "    x.observe(notebookContainer, {childList: true});\n",
       "}}\n",
       "\n",
       "// Listen for the clearing of the current output cell\n",
       "var outputEl = gd.closest('.output');\n",
       "if (outputEl) {{\n",
       "    x.observe(outputEl, {childList: true});\n",
       "}}\n",
       "\n",
       "                        })                };                });            </script>        </div>"
      ]
     },
     "metadata": {},
     "output_type": "display_data"
    }
   ],
   "source": [
    "import plotly.graph_objects as go\n",
    "\n",
    "robot_poses_initial = initial_poses\n",
    "robot_t_initial = np.array([pose.t for pose in robot_poses_initial], dtype=np.float32)\n",
    "\n",
    "robot_poses_optimized = result.optimized_values[\"poses\"]\n",
    "robot_t_optimized = np.array([pose.t for pose in robot_poses_optimized], dtype=np.float32)\n",
    "\n",
    "fig = go.Figure()\n",
    "fig.add_trace(go.Scatter3d(\n",
    "    x = robot_t_initial[:, 0],\n",
    "    y = robot_t_initial[:, 1],\n",
    "    z = robot_t_initial[:, 2],\n",
    "    name=\"initial\"\n",
    "))\n",
    "\n",
    "fig.add_trace(go.Scatter3d(\n",
    "    x = robot_t_optimized[:, 0],\n",
    "    y = robot_t_optimized[:, 1],\n",
    "    z = robot_t_optimized[:, 2],\n",
    "     name=\"optimized\"\n",
    "))\n",
    "fig.update_layout(width=800, height=800, scene_aspectmode=\"data\")"
   ]
  },
  {
   "cell_type": "code",
   "execution_count": 133,
   "id": "566e1bd3-7868-4bdc-aa58-0ef599fa9eb4",
   "metadata": {},
   "outputs": [
    {
     "data": {
      "image/svg+xml": [
       "<?xml version=\"1.0\" encoding=\"UTF-8\" standalone=\"no\"?>\n",
       "<!DOCTYPE svg PUBLIC \"-//W3C//DTD SVG 1.1//EN\"\n",
       " \"http://www.w3.org/Graphics/SVG/1.1/DTD/svg11.dtd\">\n",
       "<!-- Generated by graphviz version 2.43.0 (0)\n",
       " -->\n",
       "<!-- Title: %3 Pages: 1 -->\n",
       "<svg width=\"8585pt\" height=\"106pt\"\n",
       " viewBox=\"0.00 0.00 8584.53 105.80\" xmlns=\"http://www.w3.org/2000/svg\" xmlns:xlink=\"http://www.w3.org/1999/xlink\">\n",
       "<g id=\"graph0\" class=\"graph\" transform=\"scale(1 1) rotate(0) translate(4 101.8)\">\n",
       "<title>%3</title>\n",
       "<polygon fill=\"white\" stroke=\"transparent\" points=\"-4,4 -4,-101.8 8580.53,-101.8 8580.53,4 -4,4\"/>\n",
       "<!-- poses[0] -->\n",
       "<g id=\"node1\" class=\"node\">\n",
       "<title>poses[0]</title>\n",
       "<ellipse fill=\"none\" stroke=\"black\" cx=\"68.89\" cy=\"-18\" rx=\"68.79\" ry=\"18\"/>\n",
       "<text text-anchor=\"middle\" x=\"68.89\" y=\"-14.3\" font-family=\"Times,serif\" font-size=\"14.00\">poses[0] : Pose3</text>\n",
       "</g>\n",
       "<!-- poses[1] -->\n",
       "<g id=\"node2\" class=\"node\">\n",
       "<title>poses[1]</title>\n",
       "<ellipse fill=\"none\" stroke=\"black\" cx=\"1608.89\" cy=\"-18\" rx=\"68.79\" ry=\"18\"/>\n",
       "<text text-anchor=\"middle\" x=\"1608.89\" y=\"-14.3\" font-family=\"Times,serif\" font-size=\"14.00\">poses[1] : Pose3</text>\n",
       "</g>\n",
       "<!-- odoms[0] -->\n",
       "<g id=\"node3\" class=\"node\">\n",
       "<title>odoms[0]</title>\n",
       "<ellipse fill=\"none\" stroke=\"black\" cx=\"228.89\" cy=\"-18\" rx=\"73.39\" ry=\"18\"/>\n",
       "<text text-anchor=\"middle\" x=\"228.89\" y=\"-14.3\" font-family=\"Times,serif\" font-size=\"14.00\">odoms[0] : Pose3</text>\n",
       "</g>\n",
       "<!-- epsilon -->\n",
       "<g id=\"node4\" class=\"node\">\n",
       "<title>epsilon</title>\n",
       "<ellipse fill=\"none\" stroke=\"black\" cx=\"4437.89\" cy=\"-18\" rx=\"71.49\" ry=\"18\"/>\n",
       "<text text-anchor=\"middle\" x=\"4437.89\" y=\"-14.3\" font-family=\"Times,serif\" font-size=\"14.00\">epsilon : Symbol</text>\n",
       "</g>\n",
       "<!-- tag_poses[2][0] -->\n",
       "<g id=\"node5\" class=\"node\">\n",
       "<title>tag_poses[2][0]</title>\n",
       "<ellipse fill=\"none\" stroke=\"black\" cx=\"920.89\" cy=\"-18\" rx=\"94.48\" ry=\"18\"/>\n",
       "<text text-anchor=\"middle\" x=\"920.89\" y=\"-14.3\" font-family=\"Times,serif\" font-size=\"14.00\">tag_poses[2][0] : Pose3</text>\n",
       "</g>\n",
       "<!-- detections[2][0][0] -->\n",
       "<g id=\"node6\" class=\"node\">\n",
       "<title>detections[2][0][0]</title>\n",
       "<ellipse fill=\"none\" stroke=\"black\" cx=\"437.89\" cy=\"-18\" rx=\"117.78\" ry=\"18\"/>\n",
       "<text text-anchor=\"middle\" x=\"437.89\" y=\"-14.3\" font-family=\"Times,serif\" font-size=\"14.00\">detections[2][0][0] : Matrix12</text>\n",
       "</g>\n",
       "<!-- detections[2][0][1] -->\n",
       "<g id=\"node7\" class=\"node\">\n",
       "<title>detections[2][0][1]</title>\n",
       "<ellipse fill=\"none\" stroke=\"black\" cx=\"690.89\" cy=\"-18\" rx=\"117.78\" ry=\"18\"/>\n",
       "<text text-anchor=\"middle\" x=\"690.89\" y=\"-14.3\" font-family=\"Times,serif\" font-size=\"14.00\">detections[2][0][1] : Matrix12</text>\n",
       "</g>\n",
       "<!-- detections[2][0][2] -->\n",
       "<g id=\"node8\" class=\"node\">\n",
       "<title>detections[2][0][2]</title>\n",
       "<ellipse fill=\"none\" stroke=\"black\" cx=\"1150.89\" cy=\"-18\" rx=\"117.78\" ry=\"18\"/>\n",
       "<text text-anchor=\"middle\" x=\"1150.89\" y=\"-14.3\" font-family=\"Times,serif\" font-size=\"14.00\">detections[2][0][2] : Matrix12</text>\n",
       "</g>\n",
       "<!-- detections[2][0][3] -->\n",
       "<g id=\"node9\" class=\"node\">\n",
       "<title>detections[2][0][3]</title>\n",
       "<ellipse fill=\"none\" stroke=\"black\" cx=\"1403.89\" cy=\"-18\" rx=\"117.78\" ry=\"18\"/>\n",
       "<text text-anchor=\"middle\" x=\"1403.89\" y=\"-14.3\" font-family=\"Times,serif\" font-size=\"14.00\">detections[2][0][3] : Matrix12</text>\n",
       "</g>\n",
       "<!-- tag_poses[3][0] -->\n",
       "<g id=\"node10\" class=\"node\">\n",
       "<title>tag_poses[3][0]</title>\n",
       "<ellipse fill=\"none\" stroke=\"black\" cx=\"2296.89\" cy=\"-18\" rx=\"94.48\" ry=\"18\"/>\n",
       "<text text-anchor=\"middle\" x=\"2296.89\" y=\"-14.3\" font-family=\"Times,serif\" font-size=\"14.00\">tag_poses[3][0] : Pose3</text>\n",
       "</g>\n",
       "<!-- detections[3][0][0] -->\n",
       "<g id=\"node11\" class=\"node\">\n",
       "<title>detections[3][0][0]</title>\n",
       "<ellipse fill=\"none\" stroke=\"black\" cx=\"1813.89\" cy=\"-18\" rx=\"117.78\" ry=\"18\"/>\n",
       "<text text-anchor=\"middle\" x=\"1813.89\" y=\"-14.3\" font-family=\"Times,serif\" font-size=\"14.00\">detections[3][0][0] : Matrix12</text>\n",
       "</g>\n",
       "<!-- detections[3][0][1] -->\n",
       "<g id=\"node12\" class=\"node\">\n",
       "<title>detections[3][0][1]</title>\n",
       "<ellipse fill=\"none\" stroke=\"black\" cx=\"2066.89\" cy=\"-18\" rx=\"117.78\" ry=\"18\"/>\n",
       "<text text-anchor=\"middle\" x=\"2066.89\" y=\"-14.3\" font-family=\"Times,serif\" font-size=\"14.00\">detections[3][0][1] : Matrix12</text>\n",
       "</g>\n",
       "<!-- detections[3][0][2] -->\n",
       "<g id=\"node13\" class=\"node\">\n",
       "<title>detections[3][0][2]</title>\n",
       "<ellipse fill=\"none\" stroke=\"black\" cx=\"2526.89\" cy=\"-18\" rx=\"117.78\" ry=\"18\"/>\n",
       "<text text-anchor=\"middle\" x=\"2526.89\" y=\"-14.3\" font-family=\"Times,serif\" font-size=\"14.00\">detections[3][0][2] : Matrix12</text>\n",
       "</g>\n",
       "<!-- detections[3][0][3] -->\n",
       "<g id=\"node14\" class=\"node\">\n",
       "<title>detections[3][0][3]</title>\n",
       "<ellipse fill=\"none\" stroke=\"black\" cx=\"2779.89\" cy=\"-18\" rx=\"117.78\" ry=\"18\"/>\n",
       "<text text-anchor=\"middle\" x=\"2779.89\" y=\"-14.3\" font-family=\"Times,serif\" font-size=\"14.00\">detections[3][0][3] : Matrix12</text>\n",
       "</g>\n",
       "<!-- poses[2] -->\n",
       "<g id=\"node15\" class=\"node\">\n",
       "<title>poses[2]</title>\n",
       "<ellipse fill=\"none\" stroke=\"black\" cx=\"3148.89\" cy=\"-18\" rx=\"68.79\" ry=\"18\"/>\n",
       "<text text-anchor=\"middle\" x=\"3148.89\" y=\"-14.3\" font-family=\"Times,serif\" font-size=\"14.00\">poses[2] : Pose3</text>\n",
       "</g>\n",
       "<!-- odoms[1] -->\n",
       "<g id=\"node16\" class=\"node\">\n",
       "<title>odoms[1]</title>\n",
       "<ellipse fill=\"none\" stroke=\"black\" cx=\"2988.89\" cy=\"-18\" rx=\"73.39\" ry=\"18\"/>\n",
       "<text text-anchor=\"middle\" x=\"2988.89\" y=\"-14.3\" font-family=\"Times,serif\" font-size=\"14.00\">odoms[1] : Pose3</text>\n",
       "</g>\n",
       "<!-- poses[3] -->\n",
       "<g id=\"node17\" class=\"node\">\n",
       "<title>poses[3]</title>\n",
       "<ellipse fill=\"none\" stroke=\"black\" cx=\"6068.89\" cy=\"-18\" rx=\"68.79\" ry=\"18\"/>\n",
       "<text text-anchor=\"middle\" x=\"6068.89\" y=\"-14.3\" font-family=\"Times,serif\" font-size=\"14.00\">poses[3] : Pose3</text>\n",
       "</g>\n",
       "<!-- odoms[2] -->\n",
       "<g id=\"node18\" class=\"node\">\n",
       "<title>odoms[2]</title>\n",
       "<ellipse fill=\"none\" stroke=\"black\" cx=\"3308.89\" cy=\"-18\" rx=\"73.39\" ry=\"18\"/>\n",
       "<text text-anchor=\"middle\" x=\"3308.89\" y=\"-14.3\" font-family=\"Times,serif\" font-size=\"14.00\">odoms[2] : Pose3</text>\n",
       "</g>\n",
       "<!-- tag_poses[2][1] -->\n",
       "<g id=\"node19\" class=\"node\">\n",
       "<title>tag_poses[2][1]</title>\n",
       "<ellipse fill=\"none\" stroke=\"black\" cx=\"4000.89\" cy=\"-18\" rx=\"94.48\" ry=\"18\"/>\n",
       "<text text-anchor=\"middle\" x=\"4000.89\" y=\"-14.3\" font-family=\"Times,serif\" font-size=\"14.00\">tag_poses[2][1] : Pose3</text>\n",
       "</g>\n",
       "<!-- detections[2][1][0] -->\n",
       "<g id=\"node20\" class=\"node\">\n",
       "<title>detections[2][1][0]</title>\n",
       "<ellipse fill=\"none\" stroke=\"black\" cx=\"3517.89\" cy=\"-18\" rx=\"117.78\" ry=\"18\"/>\n",
       "<text text-anchor=\"middle\" x=\"3517.89\" y=\"-14.3\" font-family=\"Times,serif\" font-size=\"14.00\">detections[2][1][0] : Matrix12</text>\n",
       "</g>\n",
       "<!-- detections[2][1][1] -->\n",
       "<g id=\"node21\" class=\"node\">\n",
       "<title>detections[2][1][1]</title>\n",
       "<ellipse fill=\"none\" stroke=\"black\" cx=\"3770.89\" cy=\"-18\" rx=\"117.78\" ry=\"18\"/>\n",
       "<text text-anchor=\"middle\" x=\"3770.89\" y=\"-14.3\" font-family=\"Times,serif\" font-size=\"14.00\">detections[2][1][1] : Matrix12</text>\n",
       "</g>\n",
       "<!-- detections[2][1][2] -->\n",
       "<g id=\"node22\" class=\"node\">\n",
       "<title>detections[2][1][2]</title>\n",
       "<ellipse fill=\"none\" stroke=\"black\" cx=\"4230.89\" cy=\"-18\" rx=\"117.78\" ry=\"18\"/>\n",
       "<text text-anchor=\"middle\" x=\"4230.89\" y=\"-14.3\" font-family=\"Times,serif\" font-size=\"14.00\">detections[2][1][2] : Matrix12</text>\n",
       "</g>\n",
       "<!-- detections[2][1][3] -->\n",
       "<g id=\"node23\" class=\"node\">\n",
       "<title>detections[2][1][3]</title>\n",
       "<ellipse fill=\"none\" stroke=\"black\" cx=\"4644.89\" cy=\"-18\" rx=\"117.78\" ry=\"18\"/>\n",
       "<text text-anchor=\"middle\" x=\"4644.89\" y=\"-14.3\" font-family=\"Times,serif\" font-size=\"14.00\">detections[2][1][3] : Matrix12</text>\n",
       "</g>\n",
       "<!-- tag_poses[3][1] -->\n",
       "<g id=\"node24\" class=\"node\">\n",
       "<title>tag_poses[3][1]</title>\n",
       "<ellipse fill=\"none\" stroke=\"black\" cx=\"5380.89\" cy=\"-18\" rx=\"94.48\" ry=\"18\"/>\n",
       "<text text-anchor=\"middle\" x=\"5380.89\" y=\"-14.3\" font-family=\"Times,serif\" font-size=\"14.00\">tag_poses[3][1] : Pose3</text>\n",
       "</g>\n",
       "<!-- detections[3][1][0] -->\n",
       "<g id=\"node25\" class=\"node\">\n",
       "<title>detections[3][1][0]</title>\n",
       "<ellipse fill=\"none\" stroke=\"black\" cx=\"4897.89\" cy=\"-18\" rx=\"117.78\" ry=\"18\"/>\n",
       "<text text-anchor=\"middle\" x=\"4897.89\" y=\"-14.3\" font-family=\"Times,serif\" font-size=\"14.00\">detections[3][1][0] : Matrix12</text>\n",
       "</g>\n",
       "<!-- detections[3][1][1] -->\n",
       "<g id=\"node26\" class=\"node\">\n",
       "<title>detections[3][1][1]</title>\n",
       "<ellipse fill=\"none\" stroke=\"black\" cx=\"5150.89\" cy=\"-18\" rx=\"117.78\" ry=\"18\"/>\n",
       "<text text-anchor=\"middle\" x=\"5150.89\" y=\"-14.3\" font-family=\"Times,serif\" font-size=\"14.00\">detections[3][1][1] : Matrix12</text>\n",
       "</g>\n",
       "<!-- detections[3][1][2] -->\n",
       "<g id=\"node27\" class=\"node\">\n",
       "<title>detections[3][1][2]</title>\n",
       "<ellipse fill=\"none\" stroke=\"black\" cx=\"5610.89\" cy=\"-18\" rx=\"117.78\" ry=\"18\"/>\n",
       "<text text-anchor=\"middle\" x=\"5610.89\" y=\"-14.3\" font-family=\"Times,serif\" font-size=\"14.00\">detections[3][1][2] : Matrix12</text>\n",
       "</g>\n",
       "<!-- detections[3][1][3] -->\n",
       "<g id=\"node28\" class=\"node\">\n",
       "<title>detections[3][1][3]</title>\n",
       "<ellipse fill=\"none\" stroke=\"black\" cx=\"5863.89\" cy=\"-18\" rx=\"117.78\" ry=\"18\"/>\n",
       "<text text-anchor=\"middle\" x=\"5863.89\" y=\"-14.3\" font-family=\"Times,serif\" font-size=\"14.00\">detections[3][1][3] : Matrix12</text>\n",
       "</g>\n",
       "<!-- tag_poses[2][2] -->\n",
       "<g id=\"node29\" class=\"node\">\n",
       "<title>tag_poses[2][2]</title>\n",
       "<ellipse fill=\"none\" stroke=\"black\" cx=\"6756.89\" cy=\"-18\" rx=\"94.48\" ry=\"18\"/>\n",
       "<text text-anchor=\"middle\" x=\"6756.89\" y=\"-14.3\" font-family=\"Times,serif\" font-size=\"14.00\">tag_poses[2][2] : Pose3</text>\n",
       "</g>\n",
       "<!-- detections[2][2][0] -->\n",
       "<g id=\"node30\" class=\"node\">\n",
       "<title>detections[2][2][0]</title>\n",
       "<ellipse fill=\"none\" stroke=\"black\" cx=\"6273.89\" cy=\"-18\" rx=\"117.78\" ry=\"18\"/>\n",
       "<text text-anchor=\"middle\" x=\"6273.89\" y=\"-14.3\" font-family=\"Times,serif\" font-size=\"14.00\">detections[2][2][0] : Matrix12</text>\n",
       "</g>\n",
       "<!-- detections[2][2][1] -->\n",
       "<g id=\"node31\" class=\"node\">\n",
       "<title>detections[2][2][1]</title>\n",
       "<ellipse fill=\"none\" stroke=\"black\" cx=\"6526.89\" cy=\"-18\" rx=\"117.78\" ry=\"18\"/>\n",
       "<text text-anchor=\"middle\" x=\"6526.89\" y=\"-14.3\" font-family=\"Times,serif\" font-size=\"14.00\">detections[2][2][1] : Matrix12</text>\n",
       "</g>\n",
       "<!-- detections[2][2][2] -->\n",
       "<g id=\"node32\" class=\"node\">\n",
       "<title>detections[2][2][2]</title>\n",
       "<ellipse fill=\"none\" stroke=\"black\" cx=\"6986.89\" cy=\"-18\" rx=\"117.78\" ry=\"18\"/>\n",
       "<text text-anchor=\"middle\" x=\"6986.89\" y=\"-14.3\" font-family=\"Times,serif\" font-size=\"14.00\">detections[2][2][2] : Matrix12</text>\n",
       "</g>\n",
       "<!-- detections[2][2][3] -->\n",
       "<g id=\"node33\" class=\"node\">\n",
       "<title>detections[2][2][3]</title>\n",
       "<ellipse fill=\"none\" stroke=\"black\" cx=\"7239.89\" cy=\"-18\" rx=\"117.78\" ry=\"18\"/>\n",
       "<text text-anchor=\"middle\" x=\"7239.89\" y=\"-14.3\" font-family=\"Times,serif\" font-size=\"14.00\">detections[2][2][3] : Matrix12</text>\n",
       "</g>\n",
       "<!-- tag_poses[3][2] -->\n",
       "<g id=\"node34\" class=\"node\">\n",
       "<title>tag_poses[3][2]</title>\n",
       "<ellipse fill=\"none\" stroke=\"black\" cx=\"7975.89\" cy=\"-18\" rx=\"94.48\" ry=\"18\"/>\n",
       "<text text-anchor=\"middle\" x=\"7975.89\" y=\"-14.3\" font-family=\"Times,serif\" font-size=\"14.00\">tag_poses[3][2] : Pose3</text>\n",
       "</g>\n",
       "<!-- detections[3][2][0] -->\n",
       "<g id=\"node35\" class=\"node\">\n",
       "<title>detections[3][2][0]</title>\n",
       "<ellipse fill=\"none\" stroke=\"black\" cx=\"7492.89\" cy=\"-18\" rx=\"117.78\" ry=\"18\"/>\n",
       "<text text-anchor=\"middle\" x=\"7492.89\" y=\"-14.3\" font-family=\"Times,serif\" font-size=\"14.00\">detections[3][2][0] : Matrix12</text>\n",
       "</g>\n",
       "<!-- detections[3][2][1] -->\n",
       "<g id=\"node36\" class=\"node\">\n",
       "<title>detections[3][2][1]</title>\n",
       "<ellipse fill=\"none\" stroke=\"black\" cx=\"7745.89\" cy=\"-18\" rx=\"117.78\" ry=\"18\"/>\n",
       "<text text-anchor=\"middle\" x=\"7745.89\" y=\"-14.3\" font-family=\"Times,serif\" font-size=\"14.00\">detections[3][2][1] : Matrix12</text>\n",
       "</g>\n",
       "<!-- detections[3][2][2] -->\n",
       "<g id=\"node37\" class=\"node\">\n",
       "<title>detections[3][2][2]</title>\n",
       "<ellipse fill=\"none\" stroke=\"black\" cx=\"8205.89\" cy=\"-18\" rx=\"117.78\" ry=\"18\"/>\n",
       "<text text-anchor=\"middle\" x=\"8205.89\" y=\"-14.3\" font-family=\"Times,serif\" font-size=\"14.00\">detections[3][2][2] : Matrix12</text>\n",
       "</g>\n",
       "<!-- detections[3][2][3] -->\n",
       "<g id=\"node38\" class=\"node\">\n",
       "<title>detections[3][2][3]</title>\n",
       "<ellipse fill=\"none\" stroke=\"black\" cx=\"8458.89\" cy=\"-18\" rx=\"117.78\" ry=\"18\"/>\n",
       "<text text-anchor=\"middle\" x=\"8458.89\" y=\"-14.3\" font-family=\"Times,serif\" font-size=\"14.00\">detections[3][2][3] : Matrix12</text>\n",
       "</g>\n",
       "<!-- factor_0 -->\n",
       "<g id=\"node39\" class=\"node\">\n",
       "<title>factor_0</title>\n",
       "<ellipse fill=\"black\" stroke=\"black\" cx=\"603.89\" cy=\"-77.4\" rx=\"5.4\" ry=\"5.4\"/>\n",
       "<text text-anchor=\"middle\" x=\"540.99\" y=\"-86.6\" font-family=\"Times,serif\" font-size=\"14.00\">residual_between (0)</text>\n",
       "</g>\n",
       "<!-- factor_0&#45;&#45;poses[0] -->\n",
       "<g id=\"edge1\" class=\"edge\">\n",
       "<title>factor_0&#45;&#45;poses[0]</title>\n",
       "<path fill=\"none\" stroke=\"black\" d=\"M598.43,-76.18C560.39,-74.59 331.14,-64.11 146.89,-36 137.58,-34.58 127.71,-32.71 118.23,-30.74\"/>\n",
       "</g>\n",
       "<!-- factor_0&#45;&#45;poses[1] -->\n",
       "<g id=\"edge2\" class=\"edge\">\n",
       "<title>factor_0&#45;&#45;poses[1]</title>\n",
       "<path fill=\"none\" stroke=\"black\" d=\"M609.32,-76.29C675.94,-74.96 1336.8,-61.19 1530.89,-36 1540.51,-34.75 1550.71,-32.91 1560.44,-30.9\"/>\n",
       "</g>\n",
       "<!-- factor_0&#45;&#45;odoms[0] -->\n",
       "<g id=\"edge3\" class=\"edge\">\n",
       "<title>factor_0&#45;&#45;odoms[0]</title>\n",
       "<path fill=\"none\" stroke=\"black\" d=\"M598.67,-75.81C569.79,-72.54 426.77,-55.98 310.89,-36 301.58,-34.39 291.71,-32.51 282.17,-30.59\"/>\n",
       "</g>\n",
       "<!-- factor_0&#45;&#45;epsilon -->\n",
       "<g id=\"edge4\" class=\"edge\">\n",
       "<title>factor_0&#45;&#45;epsilon</title>\n",
       "<path fill=\"none\" stroke=\"black\" d=\"M609.6,-76.32C642.54,-75.88 811.73,-73.61 949.89,-72 1328.56,-67.59 3981.49,-77.56 4357.89,-36 4367.91,-34.89 4378.53,-33.09 4388.64,-31.07\"/>\n",
       "</g>\n",
       "<!-- factor_1 -->\n",
       "<g id=\"node40\" class=\"node\">\n",
       "<title>factor_1</title>\n",
       "<ellipse fill=\"black\" stroke=\"black\" cx=\"963.89\" cy=\"-77.4\" rx=\"5.4\" ry=\"5.4\"/>\n",
       "<text text-anchor=\"middle\" x=\"902.49\" y=\"-86.6\" font-family=\"Times,serif\" font-size=\"14.00\">residual_tag_obs (1)</text>\n",
       "</g>\n",
       "<!-- factor_1&#45;&#45;poses[1] -->\n",
       "<g id=\"edge5\" class=\"edge\">\n",
       "<title>factor_1&#45;&#45;poses[1]</title>\n",
       "<path fill=\"none\" stroke=\"black\" d=\"M969.24,-76.31C1011.79,-75.54 1299.88,-69.23 1530.89,-36 1540.36,-34.64 1550.39,-32.78 1559.99,-30.78\"/>\n",
       "</g>\n",
       "<!-- factor_1&#45;&#45;epsilon -->\n",
       "<g id=\"edge8\" class=\"edge\">\n",
       "<title>factor_1&#45;&#45;epsilon</title>\n",
       "<path fill=\"none\" stroke=\"black\" d=\"M969.18,-76.23C990.08,-75.59 1068.95,-73.2 1133.89,-72 1492.08,-65.37 4001.83,-75.43 4357.89,-36 4367.91,-34.89 4378.53,-33.09 4388.64,-31.06\"/>\n",
       "</g>\n",
       "<!-- factor_1&#45;&#45;tag_poses[2][0] -->\n",
       "<g id=\"edge6\" class=\"edge\">\n",
       "<title>factor_1&#45;&#45;tag_poses[2][0]</title>\n",
       "<path fill=\"none\" stroke=\"black\" d=\"M961.07,-72.63C955.58,-65.3 943.15,-48.71 933.56,-35.9\"/>\n",
       "</g>\n",
       "<!-- factor_1&#45;&#45;detections[2][0][0] -->\n",
       "<g id=\"edge7\" class=\"edge\">\n",
       "<title>factor_1&#45;&#45;detections[2][0][0]</title>\n",
       "<path fill=\"none\" stroke=\"black\" d=\"M958.25,-75.9C922.56,-72.74 724.71,-54.96 563.89,-36 550.19,-34.38 535.67,-32.54 521.55,-30.69\"/>\n",
       "</g>\n",
       "<!-- factor_2 -->\n",
       "<g id=\"node41\" class=\"node\">\n",
       "<title>factor_2</title>\n",
       "<ellipse fill=\"black\" stroke=\"black\" cx=\"1147.89\" cy=\"-77.4\" rx=\"5.4\" ry=\"5.4\"/>\n",
       "<text text-anchor=\"middle\" x=\"1086.49\" y=\"-86.6\" font-family=\"Times,serif\" font-size=\"14.00\">residual_tag_obs (2)</text>\n",
       "</g>\n",
       "<!-- factor_2&#45;&#45;poses[1] -->\n",
       "<g id=\"edge9\" class=\"edge\">\n",
       "<title>factor_2&#45;&#45;poses[1]</title>\n",
       "<path fill=\"none\" stroke=\"black\" d=\"M1153.32,-76.05C1187.63,-73.81 1377.75,-60.69 1530.89,-36 1540.2,-34.5 1550.06,-32.6 1559.53,-30.61\"/>\n",
       "</g>\n",
       "<!-- factor_2&#45;&#45;epsilon -->\n",
       "<g id=\"edge12\" class=\"edge\">\n",
       "<title>factor_2&#45;&#45;epsilon</title>\n",
       "<path fill=\"none\" stroke=\"black\" d=\"M1153.37,-76.1C1168.53,-75.28 1212.4,-73.01 1248.89,-72 1594.23,-62.48 4014.53,-74.09 4357.89,-36 4367.91,-34.89 4378.53,-33.09 4388.64,-31.06\"/>\n",
       "</g>\n",
       "<!-- factor_2&#45;&#45;tag_poses[2][0] -->\n",
       "<g id=\"edge10\" class=\"edge\">\n",
       "<title>factor_2&#45;&#45;tag_poses[2][0]</title>\n",
       "<path fill=\"none\" stroke=\"black\" d=\"M1142.73,-75.09C1120.75,-69.54 1033.52,-47.48 975.22,-32.74\"/>\n",
       "</g>\n",
       "<!-- factor_2&#45;&#45;detections[2][0][1] -->\n",
       "<g id=\"edge11\" class=\"edge\">\n",
       "<title>factor_2&#45;&#45;detections[2][0][1]</title>\n",
       "<path fill=\"none\" stroke=\"black\" d=\"M1142.45,-75.76C1111.01,-72.04 949.57,-52.87 817.89,-36 804.32,-34.26 789.94,-32.38 775.93,-30.52\"/>\n",
       "</g>\n",
       "<!-- factor_3 -->\n",
       "<g id=\"node42\" class=\"node\">\n",
       "<title>factor_3</title>\n",
       "<ellipse fill=\"black\" stroke=\"black\" cx=\"1262.89\" cy=\"-77.4\" rx=\"5.4\" ry=\"5.4\"/>\n",
       "<text text-anchor=\"middle\" x=\"1201.49\" y=\"-86.6\" font-family=\"Times,serif\" font-size=\"14.00\">residual_tag_obs (3)</text>\n",
       "</g>\n",
       "<!-- factor_3&#45;&#45;poses[1] -->\n",
       "<g id=\"edge13\" class=\"edge\">\n",
       "<title>factor_3&#45;&#45;poses[1]</title>\n",
       "<path fill=\"none\" stroke=\"black\" d=\"M1268.39,-75.71C1296.37,-72.15 1425.85,-55.34 1530.89,-36 1539.89,-34.34 1549.43,-32.41 1558.64,-30.46\"/>\n",
       "</g>\n",
       "<!-- factor_3&#45;&#45;epsilon -->\n",
       "<g id=\"edge16\" class=\"edge\">\n",
       "<title>factor_3&#45;&#45;epsilon</title>\n",
       "<path fill=\"none\" stroke=\"black\" d=\"M1268.22,-76.28C1293.33,-75.74 1402.44,-73.42 1491.89,-72 1810.32,-66.94 4041.38,-71.27 4357.89,-36 4367.91,-34.88 4378.53,-33.08 4388.64,-31.05\"/>\n",
       "</g>\n",
       "<!-- factor_3&#45;&#45;tag_poses[2][0] -->\n",
       "<g id=\"edge14\" class=\"edge\">\n",
       "<title>factor_3&#45;&#45;tag_poses[2][0]</title>\n",
       "<path fill=\"none\" stroke=\"black\" d=\"M1257.79,-75.54C1228.42,-70.61 1079.01,-45.54 989.32,-30.48\"/>\n",
       "</g>\n",
       "<!-- factor_3&#45;&#45;detections[2][0][2] -->\n",
       "<g id=\"edge15\" class=\"edge\">\n",
       "<title>factor_3&#45;&#45;detections[2][0][2]</title>\n",
       "<path fill=\"none\" stroke=\"black\" d=\"M1258.36,-74.08C1245.84,-67.66 1209.9,-49.24 1183,-35.46\"/>\n",
       "</g>\n",
       "<!-- factor_4 -->\n",
       "<g id=\"node43\" class=\"node\">\n",
       "<title>factor_4</title>\n",
       "<ellipse fill=\"black\" stroke=\"black\" cx=\"1505.89\" cy=\"-77.4\" rx=\"5.4\" ry=\"5.4\"/>\n",
       "<text text-anchor=\"middle\" x=\"1444.49\" y=\"-86.6\" font-family=\"Times,serif\" font-size=\"14.00\">residual_tag_obs (4)</text>\n",
       "</g>\n",
       "<!-- factor_4&#45;&#45;poses[1] -->\n",
       "<g id=\"edge17\" class=\"edge\">\n",
       "<title>factor_4&#45;&#45;poses[1]</title>\n",
       "<path fill=\"none\" stroke=\"black\" d=\"M1510.32,-73.93C1522.33,-67.24 1556.31,-48.3 1581.02,-34.53\"/>\n",
       "</g>\n",
       "<!-- factor_4&#45;&#45;epsilon -->\n",
       "<g id=\"edge20\" class=\"edge\">\n",
       "<title>factor_4&#45;&#45;epsilon</title>\n",
       "<path fill=\"none\" stroke=\"black\" d=\"M1511.58,-76.34C1650.27,-74.75 4281.23,-44.6 4357.89,-36 4367.77,-34.89 4378.23,-33.12 4388.21,-31.13\"/>\n",
       "</g>\n",
       "<!-- factor_4&#45;&#45;tag_poses[2][0] -->\n",
       "<g id=\"edge18\" class=\"edge\">\n",
       "<title>factor_4&#45;&#45;tag_poses[2][0]</title>\n",
       "<path fill=\"none\" stroke=\"black\" d=\"M1500.4,-76.11C1461.16,-73.98 1219.31,-60.28 1023.89,-36 1012.11,-34.54 999.62,-32.71 987.55,-30.8\"/>\n",
       "</g>\n",
       "<!-- factor_4&#45;&#45;detections[2][0][3] -->\n",
       "<g id=\"edge19\" class=\"edge\">\n",
       "<title>factor_4&#45;&#45;detections[2][0][3]</title>\n",
       "<path fill=\"none\" stroke=\"black\" d=\"M1501.51,-73.93C1489.92,-67.41 1457.68,-49.27 1433.4,-35.6\"/>\n",
       "</g>\n",
       "<!-- factor_5 -->\n",
       "<g id=\"node44\" class=\"node\">\n",
       "<title>factor_5</title>\n",
       "<ellipse fill=\"black\" stroke=\"black\" cx=\"1925.89\" cy=\"-77.4\" rx=\"5.4\" ry=\"5.4\"/>\n",
       "<text text-anchor=\"middle\" x=\"1864.49\" y=\"-86.6\" font-family=\"Times,serif\" font-size=\"14.00\">residual_tag_obs (5)</text>\n",
       "</g>\n",
       "<!-- factor_5&#45;&#45;poses[1] -->\n",
       "<g id=\"edge21\" class=\"edge\">\n",
       "<title>factor_5&#45;&#45;poses[1]</title>\n",
       "<path fill=\"none\" stroke=\"black\" d=\"M1920.66,-75.61C1895.05,-71.72 1780.27,-54.06 1686.89,-36 1677.91,-34.26 1668.38,-32.29 1659.17,-30.32\"/>\n",
       "</g>\n",
       "<!-- factor_5&#45;&#45;epsilon -->\n",
       "<g id=\"edge24\" class=\"edge\">\n",
       "<title>factor_5&#45;&#45;epsilon</title>\n",
       "<path fill=\"none\" stroke=\"black\" d=\"M1931.51,-76.28C1957.03,-75.76 2064.61,-73.58 2152.89,-72 2642.88,-63.25 3870.95,-91.19 4357.89,-36 4367.77,-34.88 4378.23,-33.1 4388.21,-31.11\"/>\n",
       "</g>\n",
       "<!-- factor_5&#45;&#45;tag_poses[3][0] -->\n",
       "<g id=\"edge22\" class=\"edge\">\n",
       "<title>factor_5&#45;&#45;tag_poses[3][0]</title>\n",
       "<path fill=\"none\" stroke=\"black\" d=\"M1931.01,-75.66C1958.13,-71.71 2087.92,-52.73 2193.89,-36 2205.08,-34.23 2216.95,-32.32 2228.49,-30.43\"/>\n",
       "</g>\n",
       "<!-- factor_5&#45;&#45;detections[3][0][0] -->\n",
       "<g id=\"edge23\" class=\"edge\">\n",
       "<title>factor_5&#45;&#45;detections[3][0][0]</title>\n",
       "<path fill=\"none\" stroke=\"black\" d=\"M1921.36,-74.08C1908.84,-67.66 1872.9,-49.24 1846,-35.46\"/>\n",
       "</g>\n",
       "<!-- factor_6 -->\n",
       "<g id=\"node45\" class=\"node\">\n",
       "<title>factor_6</title>\n",
       "<ellipse fill=\"black\" stroke=\"black\" cx=\"2166.89\" cy=\"-77.4\" rx=\"5.4\" ry=\"5.4\"/>\n",
       "<text text-anchor=\"middle\" x=\"2105.49\" y=\"-86.6\" font-family=\"Times,serif\" font-size=\"14.00\">residual_tag_obs (6)</text>\n",
       "</g>\n",
       "<!-- factor_6&#45;&#45;poses[1] -->\n",
       "<g id=\"edge25\" class=\"edge\">\n",
       "<title>factor_6&#45;&#45;poses[1]</title>\n",
       "<path fill=\"none\" stroke=\"black\" d=\"M2161.41,-76.21C2122.23,-74.8 1880.82,-65.17 1686.89,-36 1677.44,-34.58 1667.41,-32.69 1657.81,-30.68\"/>\n",
       "</g>\n",
       "<!-- factor_6&#45;&#45;epsilon -->\n",
       "<g id=\"edge28\" class=\"edge\">\n",
       "<title>factor_6&#45;&#45;epsilon</title>\n",
       "<path fill=\"none\" stroke=\"black\" d=\"M2172.22,-76.3C2197.33,-75.81 2306.44,-73.68 2395.89,-72 2831.89,-63.81 3924.64,-85.55 4357.89,-36 4367.77,-34.87 4378.22,-33.09 4388.21,-31.09\"/>\n",
       "</g>\n",
       "<!-- factor_6&#45;&#45;tag_poses[3][0] -->\n",
       "<g id=\"edge26\" class=\"edge\">\n",
       "<title>factor_6&#45;&#45;tag_poses[3][0]</title>\n",
       "<path fill=\"none\" stroke=\"black\" d=\"M2171.52,-74.36C2185.68,-68.11 2229.38,-48.81 2261.21,-34.75\"/>\n",
       "</g>\n",
       "<!-- factor_6&#45;&#45;detections[3][0][1] -->\n",
       "<g id=\"edge27\" class=\"edge\">\n",
       "<title>factor_6&#45;&#45;detections[3][0][1]</title>\n",
       "<path fill=\"none\" stroke=\"black\" d=\"M2162.6,-73.93C2151.23,-67.41 2119.62,-49.27 2095.82,-35.6\"/>\n",
       "</g>\n",
       "<!-- factor_7 -->\n",
       "<g id=\"node46\" class=\"node\">\n",
       "<title>factor_7</title>\n",
       "<ellipse fill=\"black\" stroke=\"black\" cx=\"2409.89\" cy=\"-77.4\" rx=\"5.4\" ry=\"5.4\"/>\n",
       "<text text-anchor=\"middle\" x=\"2348.49\" y=\"-86.6\" font-family=\"Times,serif\" font-size=\"14.00\">residual_tag_obs (7)</text>\n",
       "</g>\n",
       "<!-- factor_7&#45;&#45;poses[1] -->\n",
       "<g id=\"edge29\" class=\"edge\">\n",
       "<title>factor_7&#45;&#45;poses[1]</title>\n",
       "<path fill=\"none\" stroke=\"black\" d=\"M2404.28,-76.21C2345.24,-74.2 1837,-56.42 1686.89,-36 1677.28,-34.69 1667.09,-32.83 1657.36,-30.81\"/>\n",
       "</g>\n",
       "<!-- factor_7&#45;&#45;epsilon -->\n",
       "<g id=\"edge32\" class=\"edge\">\n",
       "<title>factor_7&#45;&#45;epsilon</title>\n",
       "<path fill=\"none\" stroke=\"black\" d=\"M2415.3,-76.19C2433.02,-75.5 2490.96,-73.29 2538.89,-72 2943.05,-61.11 3956.24,-82.23 4357.89,-36 4367.77,-34.86 4378.22,-33.08 4388.2,-31.08\"/>\n",
       "</g>\n",
       "<!-- factor_7&#45;&#45;tag_poses[3][0] -->\n",
       "<g id=\"edge30\" class=\"edge\">\n",
       "<title>factor_7&#45;&#45;tag_poses[3][0]</title>\n",
       "<path fill=\"none\" stroke=\"black\" d=\"M2405.32,-74.08C2392.57,-67.6 2355.71,-48.88 2328.5,-35.05\"/>\n",
       "</g>\n",
       "<!-- factor_7&#45;&#45;detections[3][0][2] -->\n",
       "<g id=\"edge31\" class=\"edge\">\n",
       "<title>factor_7&#45;&#45;detections[3][0][2]</title>\n",
       "<path fill=\"none\" stroke=\"black\" d=\"M2414.34,-74.22C2427.19,-67.91 2465.31,-49.21 2493.65,-35.31\"/>\n",
       "</g>\n",
       "<!-- factor_8 -->\n",
       "<g id=\"node47\" class=\"node\">\n",
       "<title>factor_8</title>\n",
       "<ellipse fill=\"black\" stroke=\"black\" cx=\"2552.89\" cy=\"-77.4\" rx=\"5.4\" ry=\"5.4\"/>\n",
       "<text text-anchor=\"middle\" x=\"2491.49\" y=\"-86.6\" font-family=\"Times,serif\" font-size=\"14.00\">residual_tag_obs (8)</text>\n",
       "</g>\n",
       "<!-- factor_8&#45;&#45;poses[1] -->\n",
       "<g id=\"edge33\" class=\"edge\">\n",
       "<title>factor_8&#45;&#45;poses[1]</title>\n",
       "<path fill=\"none\" stroke=\"black\" d=\"M2547.55,-76.21C2479.26,-73.72 1777.74,-47.93 1686.89,-36 1677.27,-34.74 1667.08,-32.89 1657.35,-30.88\"/>\n",
       "</g>\n",
       "<!-- factor_8&#45;&#45;epsilon -->\n",
       "<g id=\"edge36\" class=\"edge\">\n",
       "<title>factor_8&#45;&#45;epsilon</title>\n",
       "<path fill=\"none\" stroke=\"black\" d=\"M2558.4,-76.34C2661.02,-75.22 4165.44,-58.4 4357.89,-36 4367.77,-34.85 4378.22,-33.06 4388.2,-31.06\"/>\n",
       "</g>\n",
       "<!-- factor_8&#45;&#45;tag_poses[3][0] -->\n",
       "<g id=\"edge34\" class=\"edge\">\n",
       "<title>factor_8&#45;&#45;tag_poses[3][0]</title>\n",
       "<path fill=\"none\" stroke=\"black\" d=\"M2547.55,-75.2C2523.28,-69.76 2421.82,-47.01 2355.66,-32.18\"/>\n",
       "</g>\n",
       "<!-- factor_8&#45;&#45;detections[3][0][3] -->\n",
       "<g id=\"edge35\" class=\"edge\">\n",
       "<title>factor_8&#45;&#45;detections[3][0][3]</title>\n",
       "<path fill=\"none\" stroke=\"black\" d=\"M2558.06,-75.09C2579.58,-69.65 2663.63,-48.4 2721.85,-33.68\"/>\n",
       "</g>\n",
       "<!-- factor_9 -->\n",
       "<g id=\"node48\" class=\"node\">\n",
       "<title>factor_9</title>\n",
       "<ellipse fill=\"black\" stroke=\"black\" cx=\"3068.89\" cy=\"-77.4\" rx=\"5.4\" ry=\"5.4\"/>\n",
       "<text text-anchor=\"middle\" x=\"3005.99\" y=\"-86.6\" font-family=\"Times,serif\" font-size=\"14.00\">residual_between (9)</text>\n",
       "</g>\n",
       "<!-- factor_9&#45;&#45;poses[1] -->\n",
       "<g id=\"edge37\" class=\"edge\">\n",
       "<title>factor_9&#45;&#45;poses[1]</title>\n",
       "<path fill=\"none\" stroke=\"black\" d=\"M3063.59,-76.38C2981.84,-76.09 1979.35,-71.83 1686.89,-36 1677.13,-34.8 1666.78,-32.96 1656.92,-30.93\"/>\n",
       "</g>\n",
       "<!-- factor_9&#45;&#45;epsilon -->\n",
       "<g id=\"edge40\" class=\"edge\">\n",
       "<title>factor_9&#45;&#45;epsilon</title>\n",
       "<path fill=\"none\" stroke=\"black\" d=\"M3074.32,-76.37C3153.89,-75.83 4085.61,-68.93 4357.89,-36 4367.76,-34.81 4378.21,-32.99 4388.19,-30.99\"/>\n",
       "</g>\n",
       "<!-- factor_9&#45;&#45;poses[2] -->\n",
       "<g id=\"edge38\" class=\"edge\">\n",
       "<title>factor_9&#45;&#45;poses[2]</title>\n",
       "<path fill=\"none\" stroke=\"black\" d=\"M3073.2,-73.31C3083.06,-66.23 3107.9,-48.41 3126.45,-35.1\"/>\n",
       "</g>\n",
       "<!-- factor_9&#45;&#45;odoms[1] -->\n",
       "<g id=\"edge39\" class=\"edge\">\n",
       "<title>factor_9&#45;&#45;odoms[1]</title>\n",
       "<path fill=\"none\" stroke=\"black\" d=\"M3064.59,-73.31C3054.79,-66.28 3030.22,-48.65 3011.7,-35.37\"/>\n",
       "</g>\n",
       "<!-- factor_10 -->\n",
       "<g id=\"node49\" class=\"node\">\n",
       "<title>factor_10</title>\n",
       "<ellipse fill=\"black\" stroke=\"black\" cx=\"3639.89\" cy=\"-77.4\" rx=\"5.4\" ry=\"5.4\"/>\n",
       "<text text-anchor=\"middle\" x=\"3573.99\" y=\"-86.6\" font-family=\"Times,serif\" font-size=\"14.00\">residual_between (10)</text>\n",
       "</g>\n",
       "<!-- factor_10&#45;&#45;epsilon -->\n",
       "<g id=\"edge44\" class=\"edge\">\n",
       "<title>factor_10&#45;&#45;epsilon</title>\n",
       "<path fill=\"none\" stroke=\"black\" d=\"M3645.36,-76.41C3694.35,-76.46 4062.75,-75.43 4357.89,-36 4367.6,-34.7 4377.89,-32.87 4387.74,-30.88\"/>\n",
       "</g>\n",
       "<!-- factor_10&#45;&#45;poses[2] -->\n",
       "<g id=\"edge41\" class=\"edge\">\n",
       "<title>factor_10&#45;&#45;poses[2]</title>\n",
       "<path fill=\"none\" stroke=\"black\" d=\"M3634.51,-76.11C3598.81,-74.15 3392.72,-62.09 3226.89,-36 3217.58,-34.54 3207.72,-32.65 3198.24,-30.67\"/>\n",
       "</g>\n",
       "<!-- factor_10&#45;&#45;poses[3] -->\n",
       "<g id=\"edge42\" class=\"edge\">\n",
       "<title>factor_10&#45;&#45;poses[3]</title>\n",
       "<path fill=\"none\" stroke=\"black\" d=\"M3645.5,-76.34C3768.25,-74.93 5864.94,-50.66 5990.89,-36 6000.67,-34.86 6011.02,-33.05 6020.88,-31.02\"/>\n",
       "</g>\n",
       "<!-- factor_10&#45;&#45;odoms[2] -->\n",
       "<g id=\"edge43\" class=\"edge\">\n",
       "<title>factor_10&#45;&#45;odoms[2]</title>\n",
       "<path fill=\"none\" stroke=\"black\" d=\"M3634.45,-75.61C3607.77,-71.7 3488.22,-53.98 3390.89,-36 3381.6,-34.28 3371.74,-32.34 3362.2,-30.4\"/>\n",
       "</g>\n",
       "<!-- factor_11 -->\n",
       "<g id=\"node50\" class=\"node\">\n",
       "<title>factor_11</title>\n",
       "<ellipse fill=\"black\" stroke=\"black\" cx=\"4043.89\" cy=\"-77.4\" rx=\"5.4\" ry=\"5.4\"/>\n",
       "<text text-anchor=\"middle\" x=\"3979.49\" y=\"-86.6\" font-family=\"Times,serif\" font-size=\"14.00\">residual_tag_obs (11)</text>\n",
       "</g>\n",
       "<!-- factor_11&#45;&#45;epsilon -->\n",
       "<g id=\"edge48\" class=\"edge\">\n",
       "<title>factor_11&#45;&#45;epsilon</title>\n",
       "<path fill=\"none\" stroke=\"black\" d=\"M4049.1,-75.89C4079.12,-72.92 4233.27,-57.22 4357.89,-36 4367.13,-34.43 4376.92,-32.53 4386.37,-30.59\"/>\n",
       "</g>\n",
       "<!-- factor_11&#45;&#45;poses[3] -->\n",
       "<g id=\"edge45\" class=\"edge\">\n",
       "<title>factor_11&#45;&#45;poses[3]</title>\n",
       "<path fill=\"none\" stroke=\"black\" d=\"M4049.23,-76.22C4068.4,-75.58 4135.51,-73.38 4190.89,-72 4590.85,-62.01 5593.56,-82.82 5990.89,-36 6000.67,-34.85 6011.02,-33.03 6020.88,-31\"/>\n",
       "</g>\n",
       "<!-- factor_11&#45;&#45;tag_poses[2][1] -->\n",
       "<g id=\"edge46\" class=\"edge\">\n",
       "<title>factor_11&#45;&#45;tag_poses[2][1]</title>\n",
       "<path fill=\"none\" stroke=\"black\" d=\"M4041.07,-72.63C4035.58,-65.3 4023.15,-48.71 4013.56,-35.9\"/>\n",
       "</g>\n",
       "<!-- factor_11&#45;&#45;detections[2][1][0] -->\n",
       "<g id=\"edge47\" class=\"edge\">\n",
       "<title>factor_11&#45;&#45;detections[2][1][0]</title>\n",
       "<path fill=\"none\" stroke=\"black\" d=\"M4038.25,-75.9C4002.56,-72.74 3804.71,-54.96 3643.89,-36 3630.19,-34.38 3615.67,-32.54 3601.55,-30.69\"/>\n",
       "</g>\n",
       "<!-- factor_12 -->\n",
       "<g id=\"node51\" class=\"node\">\n",
       "<title>factor_12</title>\n",
       "<ellipse fill=\"black\" stroke=\"black\" cx=\"4204.89\" cy=\"-77.4\" rx=\"5.4\" ry=\"5.4\"/>\n",
       "<text text-anchor=\"middle\" x=\"4140.49\" y=\"-86.6\" font-family=\"Times,serif\" font-size=\"14.00\">residual_tag_obs (12)</text>\n",
       "</g>\n",
       "<!-- factor_12&#45;&#45;epsilon -->\n",
       "<g id=\"edge52\" class=\"edge\">\n",
       "<title>factor_12&#45;&#45;epsilon</title>\n",
       "<path fill=\"none\" stroke=\"black\" d=\"M4210.2,-75.09C4233.6,-69.33 4329.1,-45.8 4388.74,-31.11\"/>\n",
       "</g>\n",
       "<!-- factor_12&#45;&#45;poses[3] -->\n",
       "<g id=\"edge49\" class=\"edge\">\n",
       "<title>factor_12&#45;&#45;poses[3]</title>\n",
       "<path fill=\"none\" stroke=\"black\" d=\"M4210.37,-76.12C4225.54,-75.35 4269.41,-73.18 4305.89,-72 4680.23,-59.85 5618.97,-80.08 5990.89,-36 6000.67,-34.84 6011.02,-33.02 6020.87,-30.99\"/>\n",
       "</g>\n",
       "<!-- factor_12&#45;&#45;tag_poses[2][1] -->\n",
       "<g id=\"edge50\" class=\"edge\">\n",
       "<title>factor_12&#45;&#45;tag_poses[2][1]</title>\n",
       "<path fill=\"none\" stroke=\"black\" d=\"M4199.85,-74.98C4179.73,-69.32 4103.73,-47.94 4051.71,-33.3\"/>\n",
       "</g>\n",
       "<!-- factor_12&#45;&#45;detections[2][1][1] -->\n",
       "<g id=\"edge51\" class=\"edge\">\n",
       "<title>factor_12&#45;&#45;detections[2][1][1]</title>\n",
       "<path fill=\"none\" stroke=\"black\" d=\"M4199.44,-75.69C4169.29,-71.74 4019.93,-52.2 3897.89,-36 3884.44,-34.21 3870.19,-32.31 3856.28,-30.46\"/>\n",
       "</g>\n",
       "<!-- factor_13 -->\n",
       "<g id=\"node52\" class=\"node\">\n",
       "<title>factor_13</title>\n",
       "<ellipse fill=\"black\" stroke=\"black\" cx=\"4319.89\" cy=\"-77.4\" rx=\"5.4\" ry=\"5.4\"/>\n",
       "<text text-anchor=\"middle\" x=\"4255.49\" y=\"-60.8\" font-family=\"Times,serif\" font-size=\"14.00\">residual_tag_obs (13)</text>\n",
       "</g>\n",
       "<!-- factor_13&#45;&#45;epsilon -->\n",
       "<g id=\"edge56\" class=\"edge\">\n",
       "<title>factor_13&#45;&#45;epsilon</title>\n",
       "<path fill=\"none\" stroke=\"black\" d=\"M4324.38,-74.22C4337.68,-67.75 4377.8,-48.23 4406.57,-34.24\"/>\n",
       "</g>\n",
       "<!-- factor_13&#45;&#45;poses[3] -->\n",
       "<g id=\"edge53\" class=\"edge\">\n",
       "<title>factor_13&#45;&#45;poses[3]</title>\n",
       "<path fill=\"none\" stroke=\"black\" d=\"M4325.46,-76.28C4429.13,-74.05 5946.37,-41.34 5990.89,-36 6000.66,-34.83 6011.01,-33 6020.87,-30.97\"/>\n",
       "</g>\n",
       "<!-- factor_13&#45;&#45;tag_poses[2][1] -->\n",
       "<g id=\"edge54\" class=\"edge\">\n",
       "<title>factor_13&#45;&#45;tag_poses[2][1]</title>\n",
       "<path fill=\"none\" stroke=\"black\" d=\"M4314.62,-75.45C4286.31,-70.36 4150.46,-45.91 4067.09,-30.91\"/>\n",
       "</g>\n",
       "<!-- factor_13&#45;&#45;detections[2][1][2] -->\n",
       "<g id=\"edge55\" class=\"edge\">\n",
       "<title>factor_13&#45;&#45;detections[2][1][2]</title>\n",
       "<path fill=\"none\" stroke=\"black\" d=\"M4315.6,-73.63C4305.11,-66.87 4277.53,-49.08 4256.66,-35.62\"/>\n",
       "</g>\n",
       "<!-- factor_14 -->\n",
       "<g id=\"node53\" class=\"node\">\n",
       "<title>factor_14</title>\n",
       "<ellipse fill=\"black\" stroke=\"black\" cx=\"4540.89\" cy=\"-77.4\" rx=\"5.4\" ry=\"5.4\"/>\n",
       "<text text-anchor=\"middle\" x=\"4476.49\" y=\"-86.6\" font-family=\"Times,serif\" font-size=\"14.00\">residual_tag_obs (14)</text>\n",
       "</g>\n",
       "<!-- factor_14&#45;&#45;epsilon -->\n",
       "<g id=\"edge60\" class=\"edge\">\n",
       "<title>factor_14&#45;&#45;epsilon</title>\n",
       "<path fill=\"none\" stroke=\"black\" d=\"M4536.47,-73.93C4524.53,-67.28 4490.91,-48.55 4466.24,-34.8\"/>\n",
       "</g>\n",
       "<!-- factor_14&#45;&#45;poses[3] -->\n",
       "<g id=\"edge57\" class=\"edge\">\n",
       "<title>factor_14&#45;&#45;poses[3]</title>\n",
       "<path fill=\"none\" stroke=\"black\" d=\"M4546.37,-76.31C4637.52,-74.81 5837,-54.75 5990.89,-36 6000.66,-34.81 6011.01,-32.97 6020.87,-30.94\"/>\n",
       "</g>\n",
       "<!-- factor_14&#45;&#45;tag_poses[2][1] -->\n",
       "<g id=\"edge58\" class=\"edge\">\n",
       "<title>factor_14&#45;&#45;tag_poses[2][1]</title>\n",
       "<path fill=\"none\" stroke=\"black\" d=\"M4535.21,-76.03C4497.54,-73.53 4279.97,-58.64 4103.89,-36 4092.21,-34.5 4079.82,-32.66 4067.83,-30.76\"/>\n",
       "</g>\n",
       "<!-- factor_14&#45;&#45;detections[2][1][3] -->\n",
       "<g id=\"edge59\" class=\"edge\">\n",
       "<title>factor_14&#45;&#45;detections[2][1][3]</title>\n",
       "<path fill=\"none\" stroke=\"black\" d=\"M4545.36,-73.93C4557.18,-67.41 4590.05,-49.27 4614.81,-35.6\"/>\n",
       "</g>\n",
       "<!-- factor_15 -->\n",
       "<g id=\"node54\" class=\"node\">\n",
       "<title>factor_15</title>\n",
       "<ellipse fill=\"black\" stroke=\"black\" cx=\"5009.89\" cy=\"-77.4\" rx=\"5.4\" ry=\"5.4\"/>\n",
       "<text text-anchor=\"middle\" x=\"4945.49\" y=\"-86.6\" font-family=\"Times,serif\" font-size=\"14.00\">residual_tag_obs (15)</text>\n",
       "</g>\n",
       "<!-- factor_15&#45;&#45;epsilon -->\n",
       "<g id=\"edge64\" class=\"edge\">\n",
       "<title>factor_15&#45;&#45;epsilon</title>\n",
       "<path fill=\"none\" stroke=\"black\" d=\"M5004.53,-76.22C4965.18,-74.84 4717.17,-65.23 4517.89,-36 4508.34,-34.6 4498.22,-32.74 4488.5,-30.77\"/>\n",
       "</g>\n",
       "<!-- factor_15&#45;&#45;poses[3] -->\n",
       "<g id=\"edge61\" class=\"edge\">\n",
       "<title>factor_15&#45;&#45;poses[3]</title>\n",
       "<path fill=\"none\" stroke=\"black\" d=\"M5015.21,-76.31C5083.25,-75.14 5785.06,-62.47 5990.89,-36 6000.52,-34.76 6010.71,-32.93 6020.44,-30.92\"/>\n",
       "</g>\n",
       "<!-- factor_15&#45;&#45;tag_poses[3][1] -->\n",
       "<g id=\"edge62\" class=\"edge\">\n",
       "<title>factor_15&#45;&#45;tag_poses[3][1]</title>\n",
       "<path fill=\"none\" stroke=\"black\" d=\"M5015.01,-75.66C5042.13,-71.71 5171.92,-52.73 5277.89,-36 5289.08,-34.23 5300.95,-32.32 5312.49,-30.43\"/>\n",
       "</g>\n",
       "<!-- factor_15&#45;&#45;detections[3][1][0] -->\n",
       "<g id=\"edge63\" class=\"edge\">\n",
       "<title>factor_15&#45;&#45;detections[3][1][0]</title>\n",
       "<path fill=\"none\" stroke=\"black\" d=\"M5005.36,-74.08C4992.84,-67.66 4956.9,-49.24 4930,-35.46\"/>\n",
       "</g>\n",
       "<!-- factor_16 -->\n",
       "<g id=\"node55\" class=\"node\">\n",
       "<title>factor_16</title>\n",
       "<ellipse fill=\"black\" stroke=\"black\" cx=\"5250.89\" cy=\"-77.4\" rx=\"5.4\" ry=\"5.4\"/>\n",
       "<text text-anchor=\"middle\" x=\"5186.49\" y=\"-86.6\" font-family=\"Times,serif\" font-size=\"14.00\">residual_tag_obs (16)</text>\n",
       "</g>\n",
       "<!-- factor_16&#45;&#45;epsilon -->\n",
       "<g id=\"edge68\" class=\"edge\">\n",
       "<title>factor_16&#45;&#45;epsilon</title>\n",
       "<path fill=\"none\" stroke=\"black\" d=\"M5245.57,-76.22C5187.49,-74.25 4670.45,-56.29 4517.89,-36 4508.18,-34.71 4497.89,-32.88 4488.05,-30.89\"/>\n",
       "</g>\n",
       "<!-- factor_16&#45;&#45;poses[3] -->\n",
       "<g id=\"edge65\" class=\"edge\">\n",
       "<title>factor_16&#45;&#45;poses[3]</title>\n",
       "<path fill=\"none\" stroke=\"black\" d=\"M5256.27,-76.23C5314.91,-74.31 5836.94,-56.84 5990.89,-36 6000.51,-34.7 6010.7,-32.84 6020.43,-30.82\"/>\n",
       "</g>\n",
       "<!-- factor_16&#45;&#45;tag_poses[3][1] -->\n",
       "<g id=\"edge66\" class=\"edge\">\n",
       "<title>factor_16&#45;&#45;tag_poses[3][1]</title>\n",
       "<path fill=\"none\" stroke=\"black\" d=\"M5255.52,-74.36C5269.68,-68.11 5313.38,-48.81 5345.21,-34.75\"/>\n",
       "</g>\n",
       "<!-- factor_16&#45;&#45;detections[3][1][1] -->\n",
       "<g id=\"edge67\" class=\"edge\">\n",
       "<title>factor_16&#45;&#45;detections[3][1][1]</title>\n",
       "<path fill=\"none\" stroke=\"black\" d=\"M5246.6,-73.93C5235.23,-67.41 5203.62,-49.27 5179.82,-35.6\"/>\n",
       "</g>\n",
       "<!-- factor_17 -->\n",
       "<g id=\"node56\" class=\"node\">\n",
       "<title>factor_17</title>\n",
       "<ellipse fill=\"black\" stroke=\"black\" cx=\"5495.89\" cy=\"-77.4\" rx=\"5.4\" ry=\"5.4\"/>\n",
       "<text text-anchor=\"middle\" x=\"5431.49\" y=\"-86.6\" font-family=\"Times,serif\" font-size=\"14.00\">residual_tag_obs (17)</text>\n",
       "</g>\n",
       "<!-- factor_17&#45;&#45;epsilon -->\n",
       "<g id=\"edge72\" class=\"edge\">\n",
       "<title>factor_17&#45;&#45;epsilon</title>\n",
       "<path fill=\"none\" stroke=\"black\" d=\"M5490.59,-76.31C5422.76,-75.08 4723.17,-61.86 4517.89,-36 4508.17,-34.78 4497.88,-32.98 4488.03,-31\"/>\n",
       "</g>\n",
       "<!-- factor_17&#45;&#45;poses[3] -->\n",
       "<g id=\"edge69\" class=\"edge\">\n",
       "<title>factor_17&#45;&#45;poses[3]</title>\n",
       "<path fill=\"none\" stroke=\"black\" d=\"M5501.29,-76.23C5540.89,-74.95 5790.48,-65.88 5990.89,-36 6000.35,-34.59 6010.38,-32.7 6019.98,-30.7\"/>\n",
       "</g>\n",
       "<!-- factor_17&#45;&#45;tag_poses[3][1] -->\n",
       "<g id=\"edge70\" class=\"edge\">\n",
       "<title>factor_17&#45;&#45;tag_poses[3][1]</title>\n",
       "<path fill=\"none\" stroke=\"black\" d=\"M5491.53,-74.22C5478.81,-67.87 5440.93,-48.97 5413.03,-35.04\"/>\n",
       "</g>\n",
       "<!-- factor_17&#45;&#45;detections[3][1][2] -->\n",
       "<g id=\"edge71\" class=\"edge\">\n",
       "<title>factor_17&#45;&#45;detections[3][1][2]</title>\n",
       "<path fill=\"none\" stroke=\"black\" d=\"M5500.26,-74.22C5512.9,-67.91 5550.37,-49.21 5578.22,-35.31\"/>\n",
       "</g>\n",
       "<!-- factor_18 -->\n",
       "<g id=\"node57\" class=\"node\">\n",
       "<title>factor_18</title>\n",
       "<ellipse fill=\"black\" stroke=\"black\" cx=\"5694.89\" cy=\"-77.4\" rx=\"5.4\" ry=\"5.4\"/>\n",
       "<text text-anchor=\"middle\" x=\"5630.49\" y=\"-86.6\" font-family=\"Times,serif\" font-size=\"14.00\">residual_tag_obs (18)</text>\n",
       "</g>\n",
       "<!-- factor_18&#45;&#45;epsilon -->\n",
       "<g id=\"edge76\" class=\"edge\">\n",
       "<title>factor_18&#45;&#45;epsilon</title>\n",
       "<path fill=\"none\" stroke=\"black\" d=\"M5689.25,-76.27C5606.6,-74.31 4642.2,-51.22 4517.89,-36 4508.03,-34.79 4497.58,-32.97 4487.6,-30.97\"/>\n",
       "</g>\n",
       "<!-- factor_18&#45;&#45;poses[3] -->\n",
       "<g id=\"edge73\" class=\"edge\">\n",
       "<title>factor_18&#45;&#45;poses[3]</title>\n",
       "<path fill=\"none\" stroke=\"black\" d=\"M5700.17,-75.84C5729.37,-72.69 5873.94,-56.69 5990.89,-36 6000.04,-34.38 6009.74,-32.45 6019.08,-30.47\"/>\n",
       "</g>\n",
       "<!-- factor_18&#45;&#45;tag_poses[3][1] -->\n",
       "<g id=\"edge74\" class=\"edge\">\n",
       "<title>factor_18&#45;&#45;tag_poses[3][1]</title>\n",
       "<path fill=\"none\" stroke=\"black\" d=\"M5689.44,-75.4C5661.06,-70.22 5528.37,-45.96 5446.51,-30.99\"/>\n",
       "</g>\n",
       "<!-- factor_18&#45;&#45;detections[3][1][3] -->\n",
       "<g id=\"edge75\" class=\"edge\">\n",
       "<title>factor_18&#45;&#45;detections[3][1][3]</title>\n",
       "<path fill=\"none\" stroke=\"black\" d=\"M5699.77,-74.74C5716.87,-68.94 5775.38,-49.06 5817.67,-34.7\"/>\n",
       "</g>\n",
       "<!-- factor_19 -->\n",
       "<g id=\"node58\" class=\"node\">\n",
       "<title>factor_19</title>\n",
       "<ellipse fill=\"black\" stroke=\"black\" cx=\"6116.89\" cy=\"-77.4\" rx=\"5.4\" ry=\"5.4\"/>\n",
       "<text text-anchor=\"middle\" x=\"6052.49\" y=\"-86.6\" font-family=\"Times,serif\" font-size=\"14.00\">residual_tag_obs (19)</text>\n",
       "</g>\n",
       "<!-- factor_19&#45;&#45;epsilon -->\n",
       "<g id=\"edge80\" class=\"edge\">\n",
       "<title>factor_19&#45;&#45;epsilon</title>\n",
       "<path fill=\"none\" stroke=\"black\" d=\"M6111.45,-76.32C6015.72,-74.98 4688.02,-56.05 4517.89,-36 4508.02,-34.84 4497.57,-33.04 4487.59,-31.04\"/>\n",
       "</g>\n",
       "<!-- factor_19&#45;&#45;poses[3] -->\n",
       "<g id=\"edge77\" class=\"edge\">\n",
       "<title>factor_19&#45;&#45;poses[3]</title>\n",
       "<path fill=\"none\" stroke=\"black\" d=\"M6113.74,-72.63C6107.57,-65.25 6093.55,-48.48 6082.81,-35.64\"/>\n",
       "</g>\n",
       "<!-- factor_19&#45;&#45;tag_poses[2][2] -->\n",
       "<g id=\"edge78\" class=\"edge\">\n",
       "<title>factor_19&#45;&#45;tag_poses[2][2]</title>\n",
       "<path fill=\"none\" stroke=\"black\" d=\"M6122.2,-76.18C6163.29,-74.44 6434.82,-62.27 6653.89,-36 6665.77,-34.58 6678.37,-32.76 6690.53,-30.84\"/>\n",
       "</g>\n",
       "<!-- factor_19&#45;&#45;detections[2][2][0] -->\n",
       "<g id=\"edge79\" class=\"edge\">\n",
       "<title>factor_19&#45;&#45;detections[2][2][0]</title>\n",
       "<path fill=\"none\" stroke=\"black\" d=\"M6121.76,-74.62C6138.02,-68.68 6191.55,-49.1 6230.53,-34.85\"/>\n",
       "</g>\n",
       "<!-- factor_20 -->\n",
       "<g id=\"node59\" class=\"node\">\n",
       "<title>factor_20</title>\n",
       "<ellipse fill=\"black\" stroke=\"black\" cx=\"6359.89\" cy=\"-77.4\" rx=\"5.4\" ry=\"5.4\"/>\n",
       "<text text-anchor=\"middle\" x=\"6295.49\" y=\"-86.6\" font-family=\"Times,serif\" font-size=\"14.00\">residual_tag_obs (20)</text>\n",
       "</g>\n",
       "<!-- factor_20&#45;&#45;epsilon -->\n",
       "<g id=\"edge84\" class=\"edge\">\n",
       "<title>factor_20&#45;&#45;epsilon</title>\n",
       "<path fill=\"none\" stroke=\"black\" d=\"M6354.43,-76.29C6246.26,-74.21 4567.09,-41.72 4517.89,-36 4508.02,-34.85 4497.57,-33.06 4487.59,-31.07\"/>\n",
       "</g>\n",
       "<!-- factor_20&#45;&#45;poses[3] -->\n",
       "<g id=\"edge81\" class=\"edge\">\n",
       "<title>factor_20&#45;&#45;poses[3]</title>\n",
       "<path fill=\"none\" stroke=\"black\" d=\"M6354.61,-75.45C6330.63,-71.14 6229.51,-52.83 6146.89,-36 6138.07,-34.2 6128.69,-32.22 6119.62,-30.26\"/>\n",
       "</g>\n",
       "<!-- factor_20&#45;&#45;tag_poses[2][2] -->\n",
       "<g id=\"edge82\" class=\"edge\">\n",
       "<title>factor_20&#45;&#45;tag_poses[2][2]</title>\n",
       "<path fill=\"none\" stroke=\"black\" d=\"M6365.12,-75.74C6394.03,-72.05 6537.24,-53.64 6653.89,-36 6665.18,-34.29 6677.15,-32.4 6688.79,-30.51\"/>\n",
       "</g>\n",
       "<!-- factor_20&#45;&#45;detections[2][2][1] -->\n",
       "<g id=\"edge83\" class=\"edge\">\n",
       "<title>factor_20&#45;&#45;detections[2][2][1]</title>\n",
       "<path fill=\"none\" stroke=\"black\" d=\"M6364.71,-74.74C6381.61,-68.94 6439.43,-49.06 6481.22,-34.7\"/>\n",
       "</g>\n",
       "<!-- factor_21 -->\n",
       "<g id=\"node60\" class=\"node\">\n",
       "<title>factor_21</title>\n",
       "<ellipse fill=\"black\" stroke=\"black\" cx=\"6581.89\" cy=\"-77.4\" rx=\"5.4\" ry=\"5.4\"/>\n",
       "<text text-anchor=\"middle\" x=\"6517.49\" y=\"-86.6\" font-family=\"Times,serif\" font-size=\"14.00\">residual_tag_obs (21)</text>\n",
       "</g>\n",
       "<!-- factor_21&#45;&#45;epsilon -->\n",
       "<g id=\"edge88\" class=\"edge\">\n",
       "<title>factor_21&#45;&#45;epsilon</title>\n",
       "<path fill=\"none\" stroke=\"black\" d=\"M6576.43,-76.28C6552.49,-75.76 6454.42,-73.63 6373.89,-72 5961.46,-63.64 4927.72,-83.09 4517.89,-36 4508.02,-34.87 4497.56,-33.08 4487.58,-31.09\"/>\n",
       "</g>\n",
       "<!-- factor_21&#45;&#45;poses[3] -->\n",
       "<g id=\"edge85\" class=\"edge\">\n",
       "<title>factor_21&#45;&#45;poses[3]</title>\n",
       "<path fill=\"none\" stroke=\"black\" d=\"M6576.22,-76.14C6538.62,-74.33 6321.53,-63.04 6146.89,-36 6137.58,-34.56 6127.71,-32.68 6118.24,-30.71\"/>\n",
       "</g>\n",
       "<!-- factor_21&#45;&#45;tag_poses[2][2] -->\n",
       "<g id=\"edge86\" class=\"edge\">\n",
       "<title>factor_21&#45;&#45;tag_poses[2][2]</title>\n",
       "<path fill=\"none\" stroke=\"black\" d=\"M6586.94,-74.74C6604.99,-68.83 6667.56,-48.3 6711.51,-33.89\"/>\n",
       "</g>\n",
       "<!-- factor_21&#45;&#45;detections[2][2][2] -->\n",
       "<g id=\"edge87\" class=\"edge\">\n",
       "<title>factor_21&#45;&#45;detections[2][2][2]</title>\n",
       "<path fill=\"none\" stroke=\"black\" d=\"M6587.01,-75.67C6619.25,-71.11 6796.16,-46.03 6903.59,-30.81\"/>\n",
       "</g>\n",
       "<!-- factor_22 -->\n",
       "<g id=\"node61\" class=\"node\">\n",
       "<title>factor_22</title>\n",
       "<ellipse fill=\"black\" stroke=\"black\" cx=\"6707.89\" cy=\"-77.4\" rx=\"5.4\" ry=\"5.4\"/>\n",
       "<text text-anchor=\"middle\" x=\"6643.49\" y=\"-86.6\" font-family=\"Times,serif\" font-size=\"14.00\">residual_tag_obs (22)</text>\n",
       "</g>\n",
       "<!-- factor_22&#45;&#45;epsilon -->\n",
       "<g id=\"edge92\" class=\"edge\">\n",
       "<title>factor_22&#45;&#45;epsilon</title>\n",
       "<path fill=\"none\" stroke=\"black\" d=\"M6702.3,-76.14C6685.94,-75.38 6636.74,-73.16 6595.89,-72 6134.23,-58.93 4976.78,-88.24 4517.89,-36 4508.02,-34.88 4497.56,-33.1 4487.58,-31.1\"/>\n",
       "</g>\n",
       "<!-- factor_22&#45;&#45;poses[3] -->\n",
       "<g id=\"edge89\" class=\"edge\">\n",
       "<title>factor_22&#45;&#45;poses[3]</title>\n",
       "<path fill=\"none\" stroke=\"black\" d=\"M6702.65,-76.13C6652.83,-73.51 6262.63,-52.69 6146.89,-36 6137.43,-34.63 6127.4,-32.77 6117.8,-30.78\"/>\n",
       "</g>\n",
       "<!-- factor_22&#45;&#45;tag_poses[2][2] -->\n",
       "<g id=\"edge90\" class=\"edge\">\n",
       "<title>factor_22&#45;&#45;tag_poses[2][2]</title>\n",
       "<path fill=\"none\" stroke=\"black\" d=\"M6711.11,-72.63C6717.37,-65.3 6731.54,-48.71 6742.47,-35.9\"/>\n",
       "</g>\n",
       "<!-- factor_22&#45;&#45;detections[2][2][3] -->\n",
       "<g id=\"edge91\" class=\"edge\">\n",
       "<title>factor_22&#45;&#45;detections[2][2][3]</title>\n",
       "<path fill=\"none\" stroke=\"black\" d=\"M6713.17,-75.95C6748.12,-72.92 6949.97,-55.21 7113.89,-36 7127.6,-34.39 7142.12,-32.56 7156.24,-30.7\"/>\n",
       "</g>\n",
       "<!-- factor_23 -->\n",
       "<g id=\"node62\" class=\"node\">\n",
       "<title>factor_23</title>\n",
       "<ellipse fill=\"black\" stroke=\"black\" cx=\"7138.89\" cy=\"-77.4\" rx=\"5.4\" ry=\"5.4\"/>\n",
       "<text text-anchor=\"middle\" x=\"7074.49\" y=\"-86.6\" font-family=\"Times,serif\" font-size=\"14.00\">residual_tag_obs (23)</text>\n",
       "</g>\n",
       "<!-- factor_23&#45;&#45;epsilon -->\n",
       "<g id=\"edge96\" class=\"edge\">\n",
       "<title>factor_23&#45;&#45;epsilon</title>\n",
       "<path fill=\"none\" stroke=\"black\" d=\"M7133.28,-76.33C7001.37,-74.66 4588.27,-43.94 4517.89,-36 4508.02,-34.89 4497.56,-33.11 4487.58,-31.12\"/>\n",
       "</g>\n",
       "<!-- factor_23&#45;&#45;poses[3] -->\n",
       "<g id=\"edge93\" class=\"edge\">\n",
       "<title>factor_23&#45;&#45;poses[3]</title>\n",
       "<path fill=\"none\" stroke=\"black\" d=\"M7133.52,-76.31C7064.71,-75.16 6355.04,-62.71 6146.89,-36 6137.27,-34.76 6127.08,-32.93 6117.35,-30.93\"/>\n",
       "</g>\n",
       "<!-- factor_23&#45;&#45;tag_poses[3][2] -->\n",
       "<g id=\"edge94\" class=\"edge\">\n",
       "<title>factor_23&#45;&#45;tag_poses[3][2]</title>\n",
       "<path fill=\"none\" stroke=\"black\" d=\"M7144.47,-76.32C7194.45,-75.6 7570.33,-69.2 7872.89,-36 7884.96,-34.68 7897.77,-32.88 7910.1,-30.95\"/>\n",
       "</g>\n",
       "<!-- factor_23&#45;&#45;detections[3][2][0] -->\n",
       "<g id=\"edge95\" class=\"edge\">\n",
       "<title>factor_23&#45;&#45;detections[3][2][0]</title>\n",
       "<path fill=\"none\" stroke=\"black\" d=\"M7144.17,-75.54C7173.85,-70.73 7321.86,-46.73 7415.27,-31.59\"/>\n",
       "</g>\n",
       "<!-- factor_24 -->\n",
       "<g id=\"node63\" class=\"node\">\n",
       "<title>factor_24</title>\n",
       "<ellipse fill=\"black\" stroke=\"black\" cx=\"7480.89\" cy=\"-77.4\" rx=\"5.4\" ry=\"5.4\"/>\n",
       "<text text-anchor=\"middle\" x=\"7416.49\" y=\"-86.6\" font-family=\"Times,serif\" font-size=\"14.00\">residual_tag_obs (24)</text>\n",
       "</g>\n",
       "<!-- factor_24&#45;&#45;epsilon -->\n",
       "<g id=\"edge100\" class=\"edge\">\n",
       "<title>factor_24&#45;&#45;epsilon</title>\n",
       "<path fill=\"none\" stroke=\"black\" d=\"M7475.27,-76.32C7332.59,-74.4 4522.88,-36.56 4517.89,-36 4508.02,-34.89 4497.56,-33.12 4487.58,-31.13\"/>\n",
       "</g>\n",
       "<!-- factor_24&#45;&#45;poses[3] -->\n",
       "<g id=\"edge97\" class=\"edge\">\n",
       "<title>factor_24&#45;&#45;poses[3]</title>\n",
       "<path fill=\"none\" stroke=\"black\" d=\"M7475.59,-76.3C7389.76,-74.67 6288.32,-53.4 6146.89,-36 6137.13,-34.8 6126.78,-32.96 6116.92,-30.92\"/>\n",
       "</g>\n",
       "<!-- factor_24&#45;&#45;tag_poses[3][2] -->\n",
       "<g id=\"edge98\" class=\"edge\">\n",
       "<title>factor_24&#45;&#45;tag_poses[3][2]</title>\n",
       "<path fill=\"none\" stroke=\"black\" d=\"M7486.44,-75.96C7521.45,-73.13 7715.57,-57.07 7872.89,-36 7884.48,-34.45 7896.77,-32.6 7908.66,-30.7\"/>\n",
       "</g>\n",
       "<!-- factor_24&#45;&#45;detections[3][2][1] -->\n",
       "<g id=\"edge99\" class=\"edge\">\n",
       "<title>factor_24&#45;&#45;detections[3][2][1]</title>\n",
       "<path fill=\"none\" stroke=\"black\" d=\"M7485.95,-75.3C7509.71,-70.16 7611.95,-48.01 7680.91,-33.08\"/>\n",
       "</g>\n",
       "<!-- factor_25 -->\n",
       "<g id=\"node64\" class=\"node\">\n",
       "<title>factor_25</title>\n",
       "<ellipse fill=\"black\" stroke=\"black\" cx=\"7751.89\" cy=\"-77.4\" rx=\"5.4\" ry=\"5.4\"/>\n",
       "<text text-anchor=\"middle\" x=\"7687.49\" y=\"-86.6\" font-family=\"Times,serif\" font-size=\"14.00\">residual_tag_obs (25)</text>\n",
       "</g>\n",
       "<!-- factor_25&#45;&#45;epsilon -->\n",
       "<g id=\"edge104\" class=\"edge\">\n",
       "<title>factor_25&#45;&#45;epsilon</title>\n",
       "<path fill=\"none\" stroke=\"black\" d=\"M7746.29,-76.29C7718.82,-75.77 7595.73,-73.47 7494.89,-72 7164.13,-67.17 4846.67,-72.56 4517.89,-36 4507.87,-34.89 4497.26,-33.08 4487.15,-31.06\"/>\n",
       "</g>\n",
       "<!-- factor_25&#45;&#45;poses[3] -->\n",
       "<g id=\"edge101\" class=\"edge\">\n",
       "<title>factor_25&#45;&#45;poses[3]</title>\n",
       "<path fill=\"none\" stroke=\"black\" d=\"M7746.4,-76.29C7647.03,-74.33 6232.34,-46.29 6146.89,-36 6137.12,-34.82 6126.77,-32.99 6116.92,-30.96\"/>\n",
       "</g>\n",
       "<!-- factor_25&#45;&#45;tag_poses[3][2] -->\n",
       "<g id=\"edge102\" class=\"edge\">\n",
       "<title>factor_25&#45;&#45;tag_poses[3][2]</title>\n",
       "<path fill=\"none\" stroke=\"black\" d=\"M7756.99,-75.09C7778.65,-69.54 7864.49,-47.55 7922.03,-32.8\"/>\n",
       "</g>\n",
       "<!-- factor_25&#45;&#45;detections[3][2][2] -->\n",
       "<g id=\"edge103\" class=\"edge\">\n",
       "<title>factor_25&#45;&#45;detections[3][2][2]</title>\n",
       "<path fill=\"none\" stroke=\"black\" d=\"M7757.29,-75.75C7788.44,-72.02 7948.4,-52.79 8078.89,-36 8092.46,-34.25 8106.84,-32.37 8120.86,-30.5\"/>\n",
       "</g>\n",
       "<!-- factor_26 -->\n",
       "<g id=\"node65\" class=\"node\">\n",
       "<title>factor_26</title>\n",
       "<ellipse fill=\"black\" stroke=\"black\" cx=\"7901.89\" cy=\"-77.4\" rx=\"5.4\" ry=\"5.4\"/>\n",
       "<text text-anchor=\"middle\" x=\"7837.49\" y=\"-86.6\" font-family=\"Times,serif\" font-size=\"14.00\">residual_tag_obs (26)</text>\n",
       "</g>\n",
       "<!-- factor_26&#45;&#45;epsilon -->\n",
       "<g id=\"edge108\" class=\"edge\">\n",
       "<title>factor_26&#45;&#45;epsilon</title>\n",
       "<path fill=\"none\" stroke=\"black\" d=\"M7896.45,-76.18C7878.08,-75.46 7816.67,-73.1 7765.89,-72 7405.07,-64.16 4876.61,-75.7 4517.89,-36 4507.87,-34.89 4497.26,-33.09 4487.15,-31.06\"/>\n",
       "</g>\n",
       "<!-- factor_26&#45;&#45;poses[3] -->\n",
       "<g id=\"edge105\" class=\"edge\">\n",
       "<title>factor_26&#45;&#45;poses[3]</title>\n",
       "<path fill=\"none\" stroke=\"black\" d=\"M7896.45,-76.2C7878.08,-75.55 7816.67,-73.39 7765.89,-72 7406.16,-62.18 6504.24,-78.51 6146.89,-36 6137.12,-34.84 6126.77,-33.01 6116.91,-30.98\"/>\n",
       "</g>\n",
       "<!-- factor_26&#45;&#45;tag_poses[3][2] -->\n",
       "<g id=\"edge106\" class=\"edge\">\n",
       "<title>factor_26&#45;&#45;tag_poses[3][2]</title>\n",
       "<path fill=\"none\" stroke=\"black\" d=\"M7905.87,-73.31C7914.88,-66.33 7937.37,-48.88 7954.45,-35.63\"/>\n",
       "</g>\n",
       "<!-- factor_26&#45;&#45;detections[3][2][3] -->\n",
       "<g id=\"edge107\" class=\"edge\">\n",
       "<title>factor_26&#45;&#45;detections[3][2][3]</title>\n",
       "<path fill=\"none\" stroke=\"black\" d=\"M7907.49,-75.96C7944.6,-73.04 8158.92,-55.88 8332.89,-36 8346.71,-34.42 8361.36,-32.59 8375.59,-30.73\"/>\n",
       "</g>\n",
       "</g>\n",
       "</svg>\n"
      ],
      "text/plain": [
       "<graphviz.graphs.Graph at 0x7f1650bebf10>"
      ]
     },
     "execution_count": 133,
     "metadata": {},
     "output_type": "execute_result"
    }
   ],
   "source": [
    "symforce.opt.factor.visualize_factors(factors)\n",
    "\n",
    "# TODOS:\n",
    "# 1. Initialize the pose estimates using integrated odometry measurements\n",
    "# 2. Diagram and think through how to handle tag detections coming \n",
    "#    in at a higher rate than the odometry"
   ]
  },
  {
   "cell_type": "code",
   "execution_count": null,
   "id": "ab85c797-070d-42e8-97f3-16a9be2815b8",
   "metadata": {},
   "outputs": [],
   "source": []
  }
 ],
 "metadata": {
  "kernelspec": {
   "display_name": "Python 3 (ipykernel)",
   "language": "python",
   "name": "python3"
  },
  "language_info": {
   "codemirror_mode": {
    "name": "ipython",
    "version": 3
   },
   "file_extension": ".py",
   "mimetype": "text/x-python",
   "name": "python",
   "nbconvert_exporter": "python",
   "pygments_lexer": "ipython3",
   "version": "3.10.13"
  }
 },
 "nbformat": 4,
 "nbformat_minor": 5
}
