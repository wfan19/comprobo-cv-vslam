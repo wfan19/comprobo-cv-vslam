{
 "cells": [
  {
   "cell_type": "code",
   "execution_count": 1,
   "id": "b3e2dddc-2b32-4f3e-8b06-9de1d41b8c78",
   "metadata": {},
   "outputs": [],
   "source": [
    "import symforce\n",
    "symforce.set_epsilon_to_symbol()"
   ]
  },
  {
   "cell_type": "code",
   "execution_count": 2,
   "id": "f282ef20-3848-4b87-bfab-13581c28a6da",
   "metadata": {},
   "outputs": [],
   "source": [
    "import numpy as np\n",
    "from symforce.values import Values\n",
    "\n",
    "import rosbag2_py\n",
    "from rclpy.serialization import deserialize_message"
   ]
  },
  {
   "cell_type": "code",
   "execution_count": 3,
   "id": "11730aae-96e5-4004-b6cc-2ed257460a98",
   "metadata": {},
   "outputs": [
    {
     "name": "stderr",
     "output_type": "stream",
     "text": [
      "[INFO] [1698691007.324500612] [rosbag2_storage]: Opened database '../bags/dataset_drive_square_no_vid/rosbag2_2023_10_25-11_14_04_0.db3' for READ_ONLY.\n"
     ]
    }
   ],
   "source": [
    "bag_path = \"../bags/dataset_drive_square_no_vid\"\n",
    "# Copied the following from https://qiita.com/nonanonno/items/8f7bce03953709fd5af9\n",
    "storage_options = rosbag2_py.StorageOptions(uri=bag_path, storage_id=\"sqlite3\")\n",
    "converter_options = rosbag2_py.ConverterOptions(input_serialization_format=\"cdr\", output_serialization_format=\"cdr\")\n",
    "\n",
    "sr = rosbag2_py.SequentialReader()\n",
    "sr.open(storage_options, converter_options)\n",
    "sr.set_filter(rosbag2_py.StorageFilter(topics=[\"/odom\", \"/detections\", \"/camera/camera_info\"]))"
   ]
  },
  {
   "cell_type": "code",
   "execution_count": 4,
   "id": "1f5e06c6-0a4b-468f-bcb0-5058108ac3fc",
   "metadata": {},
   "outputs": [],
   "source": [
    "# Create a dictionary of each topic's message type\n",
    "# This will be used for deserializing the messages.\n",
    "import importlib\n",
    "def get_type_from_str(type_str: str):\n",
    "    # dynamic load message package\n",
    "    pkg = importlib.import_module(\".\".join(type_str.split(\"/\")[:-1]))\n",
    "    return eval(f\"pkg.{type_str.split('/')[-1]}\")\n",
    "\n",
    "msg_type_table = {}\n",
    "for topic in sr.get_all_topics_and_types():\n",
    "    msg_type_table[topic.name] = get_type_from_str(topic.type)"
   ]
  },
  {
   "cell_type": "code",
   "execution_count": 5,
   "id": "e6f6d936-9af0-4823-bebe-c7840175cc15",
   "metadata": {},
   "outputs": [
    {
     "name": "stderr",
     "output_type": "stream",
     "text": [
      "[INFO] [1698691007.484943617] [rosbag2_storage]: Opened database '../bags/dataset_drive_square_no_vid/rosbag2_2023_10_25-11_14_04_0.db3' for READ_ONLY.\n"
     ]
    }
   ],
   "source": [
    "# Now we extract messages from the entire bag\n",
    "sr.seek(0)\n",
    "msgs = []\n",
    "while sr.has_next():\n",
    "    msgs.append(sr.read_next())\n",
    "\n",
    "msgs_no_cam = [msg for msg in msgs if not (msg[0] == \"/camera/camera_info\")]"
   ]
  },
  {
   "cell_type": "code",
   "execution_count": 6,
   "id": "d50c21f7-6e35-4996-89b8-fda70b085a7d",
   "metadata": {},
   "outputs": [
    {
     "name": "stdout",
     "output_type": "stream",
     "text": [
      "nav_msgs.msg.Odometry(header=std_msgs.msg.Header(stamp=builtin_interfaces.msg.Time(sec=1697911413, nanosec=507019835), frame_id='odom'), child_frame_id='base_footprint', pose=geometry_msgs.msg.PoseWithCovariance(pose=geometry_msgs.msg.Pose(position=geometry_msgs.msg.Point(x=0.002499930899425671, y=2.0161891289617244e-06, z=0.0), orientation=geometry_msgs.msg.Quaternion(x=0.0, y=0.0, z=-0.010080474430627446, w=0.9999491907268356)), covariance=array([1.e-01, 0.e+00, 0.e+00, 0.e+00, 0.e+00, 0.e+00, 0.e+00, 1.e-01,\n",
      "       0.e+00, 0.e+00, 0.e+00, 0.e+00, 0.e+00, 0.e+00, 1.e-01, 0.e+00,\n",
      "       0.e+00, 0.e+00, 0.e+00, 0.e+00, 0.e+00, 1.e+05, 0.e+00, 0.e+00,\n",
      "       0.e+00, 0.e+00, 0.e+00, 0.e+00, 1.e+05, 0.e+00, 0.e+00, 0.e+00,\n",
      "       0.e+00, 0.e+00, 0.e+00, 1.e+05])), twist=geometry_msgs.msg.TwistWithCovariance(twist=geometry_msgs.msg.Twist(linear=geometry_msgs.msg.Vector3(x=0.0, y=0.0, z=0.0), angular=geometry_msgs.msg.Vector3(x=0.0, y=0.0, z=0.0)), covariance=array([0., 0., 0., 0., 0., 0., 0., 0., 0., 0., 0., 0., 0., 0., 0., 0., 0.,\n",
      "       0., 0., 0., 0., 0., 0., 0., 0., 0., 0., 0., 0., 0., 0., 0., 0., 0.,\n",
      "       0., 0.])))\n",
      "---\n",
      "apriltag_msgs.msg.AprilTagDetectionArray(header=std_msgs.msg.Header(stamp=builtin_interfaces.msg.Time(sec=1697911413, nanosec=495530676), frame_id='camera'), detections=[apriltag_msgs.msg.AprilTagDetection(family='tag36h11', id=2, hamming=0, goodness=0.0, decision_margin=108.31108093261719, centre=apriltag_msgs.msg.Point(x=310.9918610968816, y=175.92624968999823), corners=[apriltag_msgs.msg.Point(x=321.1826477050781, y=186.10935974121097), apriltag_msgs.msg.Point(x=321.05401611328125, y=165.68884277343747), apriltag_msgs.msg.Point(x=300.90603637695307, y=165.84802246093747), apriltag_msgs.msg.Point(x=301.0301208496093, y=186.06149291992185)], homography=array([-3.80170664e-02,  8.49016741e+00,  3.10991861e+02, -1.01440047e+01,\n",
      "       -9.24289843e-01,  1.75926250e+02,  8.08767293e-05, -5.09562375e-03,\n",
      "        1.00000000e+00])), apriltag_msgs.msg.AprilTagDetection(family='tag36h11', id=3, hamming=0, goodness=0.0, decision_margin=67.95487976074219, centre=apriltag_msgs.msg.Point(x=143.63054090701175, y=173.3569013940378), corners=[apriltag_msgs.msg.Point(x=182.1328582763672, y=134.07746887207034), apriltag_msgs.msg.Point(x=103.13464355468749, y=133.94833374023438), apriltag_msgs.msg.Point(x=105.16831970214844, y=212.59542846679688), apriltag_msgs.msg.Point(x=183.53684997558594, y=212.19171142578122)], homography=array([-3.98298070e+01, -1.42237528e+00,  1.43630541e+02, -5.20763094e-01,\n",
      "       -3.98700459e+01,  1.73356901e+02, -3.40600852e-03, -3.92697785e-03,\n",
      "        1.00000000e+00]))])\n",
      "---\n",
      "sensor_msgs.msg.CameraInfo(header=std_msgs.msg.Header(stamp=builtin_interfaces.msg.Time(sec=1697911413, nanosec=495530676), frame_id='camera'), height=432, width=768, distortion_model='plumb_bob', d=[-0.049922, 0.049023, 0.002386, -0.004925, 0.0], k=array([491.08741,   0.     , 372.63814,   0.     , 490.2843 , 221.30161,\n",
      "         0.     ,   0.     ,   1.     ]), r=array([1., 0., 0., 0., 1., 0., 0., 0., 1.]), p=array([487.56742,   0.     , 368.28725,   0.     ,   0.     , 489.20578,\n",
      "       222.56956,   0.     ,   0.     ,   0.     ,   1.     ,   0.     ]), binning_x=0, binning_y=0, roi=sensor_msgs.msg.RegionOfInterest(x_offset=0, y_offset=0, height=0, width=0, do_rectify=False))\n"
     ]
    }
   ],
   "source": [
    "# Extract detections and odometry messages\n",
    "f_deserialize_msg = lambda msg: deserialize_message(msg[1], msg_type_table[msg[0]])\n",
    "def get_first_msg_of_topic(topic):\n",
    "    return next(deserialize_message(msg[1], msg_type_table[msg[0]]) for msg in msgs if msg[0] == topic)\n",
    "\n",
    "example_odom_data = get_first_msg_of_topic(\"/odom\")\n",
    "example_detections_data = get_first_msg_of_topic(\"/detections\")\n",
    "example_camera_info_data = get_first_msg_of_topic(\"/camera/camera_info\")\n",
    "\n",
    "print(example_odom_data)\n",
    "print(\"---\")\n",
    "print(example_detections_data)\n",
    "print(\"---\")\n",
    "print(example_camera_info_data)"
   ]
  },
  {
   "cell_type": "code",
   "execution_count": 7,
   "id": "b3352b16-9d61-4ad1-9f00-106ca7ff12c8",
   "metadata": {},
   "outputs": [],
   "source": [
    "import symforce.symbolic as sf\n",
    "# Get the example messages into np form to play around with them\n",
    "example_corners = np.array([\n",
    "    np.array([corner.x, corner.y])\n",
    "    for corner in example_detections_data.detections[0].corners\n",
    "])\n",
    "\n",
    "camera_K = np.reshape(example_camera_info_data.k, (3, 3))\n",
    "focal_length = [camera_K[0, 0], camera_K[1, 1]]\n",
    "principal_point = [camera_K[0, 2], camera_K[1, 2]]\n",
    "camera_cal = sf.LinearCameraCal(focal_length=focal_length, principal_point = principal_point)"
   ]
  },
  {
   "cell_type": "code",
   "execution_count": 8,
   "id": "8f405cf2-0d8f-4645-a580-ce3c1b01809b",
   "metadata": {},
   "outputs": [],
   "source": [
    "## Phase 1: Integrate odometry using Symforce?\n",
    "# Define the odometry residual function?\n",
    "from symforce.codegen.geo_factors_codegen import prior_factor, between_factor\n",
    "\n",
    "def residual_between(pose_1: sf.Pose3, pose_2: sf.Pose3, rdelta_measured: sf.Pose3, epsilon: sf.Scalar):\n",
    "    # Compute the expected body-frame displacement\n",
    "    # pose_1 * rdelta = pose_2\n",
    "    rdelta_expected = pose_1.inverse() * pose_2\n",
    "\n",
    "    # The \"error\": rdelta_expected ⊟ rdelta_measured\n",
    "    error = rdelta_measured.local_coordinates(rdelta_expected, epsilon)\n",
    "    return error\n",
    "\n",
    "def get_tag_corner_residual(i_corner: np.int_):\n",
    "    ## Get the position of the tags in the camera frame\n",
    "    # Define the displacements from the tag center to each tag corner\n",
    "    R = sf.Rot3.identity()\n",
    "    w = 0.203\n",
    "    # Corner order: start in bottom left (-x, -y) and go ccw\n",
    "    g_tag_c1 = sf.Pose3(R, sf.Vector3([-w/2, -w/2, 0]))\n",
    "    g_tag_c2 = sf.Pose3(R, sf.Vector3([-w/2, w/2, 0]))\n",
    "    g_tag_c3 = sf.Pose3(R, sf.Vector3([w/2, w/2, 0]))\n",
    "    g_tag_c4 = sf.Pose3(R, sf.Vector3([w/2, -w/2, 0]))\n",
    "    g_tag_corners = [g_tag_c1, g_tag_c2, g_tag_c3, g_tag_c4]\n",
    "    g_tag_ci = g_tag_corners[i_corner]\n",
    "\n",
    "    def residual_tag_obs(camera_pose: sf.Pose3, tag_pose: sf.Pose3, corners_px_measured: sf.M12, epsilon: sf.Scalar):\n",
    "        # Measure the error between the expected pixel coordinates of the tag corners\n",
    "        # versus the actual measured ones.\n",
    "    \n",
    "        # Compute the expected tag corner positions in the camera frame\n",
    "        # based on the hypothesized camera and tag poses.\n",
    "        g_cam_tag = camera_pose.inverse() * tag_pose\n",
    "        g_cam_corner = g_cam_tag * g_tag_ci\n",
    "    \n",
    "        # Project the tag corner positions into the camera frame using the camera model\n",
    "        corners_px_expected = camera_cal.pixel_from_camera_point(g_cam_corner.t)[0]\n",
    "    \n",
    "        return corners_px_measured.T - corners_px_expected\n",
    "    return residual_tag_obs\n",
    "    "
   ]
  },
  {
   "cell_type": "code",
   "execution_count": 69,
   "id": "669202b1-1f3f-40b7-aa37-7db3066f3cc9",
   "metadata": {},
   "outputs": [],
   "source": [
    "from symforce.opt.factor import Factor\n",
    "from symforce.values import Values\n",
    "\n",
    "start_factor = 300\n",
    "n_factors = 2000\n",
    "tag_ids = [0, 1, 2, 3, 4, 5]\n",
    "\n",
    "# Supporting functions\n",
    "def pose3_msg_to_sf(msg):\n",
    "    q_xyz = [msg.orientation.x, msg.orientation.y, msg.orientation.z]\n",
    "    w = msg.orientation.w\n",
    "    quat = sf.Quaternion(xyz=sf.Vector3(q_xyz), w=w)\n",
    "    R = sf.Rot3(quat)\n",
    "\n",
    "    posn = [msg.position.x, msg.position.y, msg.position.z]\n",
    "    t = sf.Vector3(posn)\n",
    "    return sf.Pose3(R, t)\n",
    "\n",
    "## Initialize storage vars\n",
    "factors = []\n",
    "# Store odometry sensor data\n",
    "i_pose = 0\n",
    "odoms = []\n",
    "last_pose = sf.Pose3.identity()\n",
    "# Store tag detections\n",
    "n_detections = [0 for id in tag_ids]\n",
    "detections = [[] for id in tag_ids]\n",
    "#n_detections = {id: 0 for id in tag_ids}\n",
    "#detections = {id: [] for id in tag_ids}\n",
    "#tag_poses = {id: [[]] for id in tag_ids}\n",
    "for i in range(start_factor, start_factor + n_factors):\n",
    "    topic, bdata, time = msgs_no_cam[i]\n",
    "    data = f_deserialize_msg(msgs_no_cam[i])\n",
    "\n",
    "    if topic == \"/odom\":\n",
    "        ## Add a between-factor to the factor graph\n",
    "        factors.append(Factor(\n",
    "            residual=residual_between,\n",
    "            keys=[f\"poses[{i_pose}]\", f\"poses[{i_pose+1}]\", f\"odoms[{i_pose}]\", \"epsilon\"]\n",
    "        ))\n",
    "\n",
    "        ## Record the sensor data into the list of displacements\n",
    "        pose = pose3_msg_to_sf(data.pose.pose)\n",
    "        if i_pose == 0:\n",
    "            # If first displacement measurement, simply record 0\n",
    "            odoms.append(sf.Pose3.identity())\n",
    "            last_pose = pose\n",
    "        else:\n",
    "            # Otherwise, record the displacement from the last pose\n",
    "            # last_pose * delta = pose\n",
    "            # => delta = inv(last_pose) * pose\n",
    "            delta = last_pose.inverse() * pose\n",
    "            odoms.append(delta)\n",
    "        i_pose = i_pose + 1\n",
    "        \n",
    "    elif topic == \"/detections\":\n",
    "        pass\n",
    "        # for detection in data.detections:\n",
    "        #     tag_id = detection.id\n",
    "            \n",
    "        #     corners_i = []\n",
    "        #     for i, corner in enumerate(detection.corners):\n",
    "        #         factors.append(Factor(\n",
    "        #             residual=get_tag_corner_residual(i),\n",
    "        #             keys=[\n",
    "        #                 f\"poses[{i_pose}]\",\n",
    "        #                 f\"tag_poses[{tag_id}][{n_detections[tag_id]}]\",\n",
    "        #                 f\"detections[{tag_id}][{n_detections[tag_id]}][{i}]\",\n",
    "        #                 \"epsilon\"\n",
    "        #             ]\n",
    "        #         ))\n",
    "\n",
    "        #         corners_i.append(sf.M12([corner.x, corner.y]))\n",
    "        #     detections[tag_id].append(corners_i)\n",
    "        #     # Count a new detection for this tag\n",
    "        #     n_detections[tag_id] += 1\n",
    "\n",
    "n_poses = i_pose + 1\n",
    "initial_poses = [sf.Pose3.identity()] * n_poses\n",
    "initial_tag_poses = [[sf.Pose3.identity()] * n_detections[id] for id in tag_ids]\n",
    "\n",
    "for i, detection_list in enumerate(detections):\n",
    "    if n_detections[i] == 0:\n",
    "        detections[i] = [[0]]\n",
    "        initial_tag_poses[i] = [sf.Pose3.identity()]\n",
    "\n",
    "initial_values = Values(\n",
    "    poses = initial_poses,\n",
    "    odoms = odoms,\n",
    "    detections = detections,\n",
    "    tag_poses = initial_tag_poses,\n",
    "    epsilon = sf.numeric_epsilon\n",
    ")"
   ]
  },
  {
   "cell_type": "code",
   "execution_count": 70,
   "id": "32ddcab0-80ac-4b80-a832-89b376db64cb",
   "metadata": {},
   "outputs": [
    {
     "name": "stdout",
     "output_type": "stream",
     "text": [
      "[2023-10-30 15:22:39.205] [info] LM<sym::Optimize> [iter    0] lambda: 1.000e+00, error prev/linear/new: 2.261e+03/0.000e+00/2.228e+03, rel reduction: 1.48050e-02\n",
      "[2023-10-30 15:22:39.220] [info] LM<sym::Optimize> [iter    1] lambda: 2.500e-01, error prev/linear/new: 2.228e+03/0.000e+00/2.164e+03, rel reduction: 2.84259e-02\n",
      "[2023-10-30 15:22:39.236] [info] LM<sym::Optimize> [iter    2] lambda: 6.250e-02, error prev/linear/new: 2.164e+03/0.000e+00/2.116e+03, rel reduction: 2.23931e-02\n",
      "[2023-10-30 15:22:39.252] [info] LM<sym::Optimize> [iter    3] lambda: 1.562e-02, error prev/linear/new: 2.116e+03/0.000e+00/3.053e+03, rel reduction: -4.42736e-01\n",
      "[2023-10-30 15:22:39.269] [info] LM<sym::Optimize> [iter    4] lambda: 6.250e-02, error prev/linear/new: 2.116e+03/0.000e+00/3.168e+03, rel reduction: -4.97241e-01\n",
      "[2023-10-30 15:22:39.285] [info] LM<sym::Optimize> [iter    5] lambda: 2.500e-01, error prev/linear/new: 2.116e+03/0.000e+00/2.675e+03, rel reduction: -2.64521e-01\n",
      "[2023-10-30 15:22:39.301] [info] LM<sym::Optimize> [iter    6] lambda: 1.000e+00, error prev/linear/new: 2.116e+03/0.000e+00/2.069e+03, rel reduction: 2.18887e-02\n",
      "[2023-10-30 15:22:39.317] [info] LM<sym::Optimize> [iter    7] lambda: 2.500e-01, error prev/linear/new: 2.069e+03/0.000e+00/1.915e+03, rel reduction: 7.47287e-02\n",
      "[2023-10-30 15:22:39.333] [info] LM<sym::Optimize> [iter    8] lambda: 6.250e-02, error prev/linear/new: 1.915e+03/0.000e+00/2.488e+03, rel reduction: -2.99202e-01\n",
      "[2023-10-30 15:22:39.349] [info] LM<sym::Optimize> [iter    9] lambda: 2.500e-01, error prev/linear/new: 1.915e+03/0.000e+00/1.608e+03, rel reduction: 1.60488e-01\n",
      "[2023-10-30 15:22:39.364] [info] LM<sym::Optimize> [iter   10] lambda: 6.250e-02, error prev/linear/new: 1.608e+03/0.000e+00/1.289e+03, rel reduction: 1.98437e-01\n",
      "[2023-10-30 15:22:39.379] [info] LM<sym::Optimize> [iter   11] lambda: 1.562e-02, error prev/linear/new: 1.289e+03/0.000e+00/1.081e+03, rel reduction: 1.60789e-01\n",
      "[2023-10-30 15:22:39.394] [info] LM<sym::Optimize> [iter   12] lambda: 3.906e-03, error prev/linear/new: 1.081e+03/0.000e+00/9.978e+02, rel reduction: 7.72629e-02\n",
      "[2023-10-30 15:22:39.410] [info] LM<sym::Optimize> [iter   13] lambda: 9.766e-04, error prev/linear/new: 9.978e+02/0.000e+00/1.552e+03, rel reduction: -5.55794e-01\n",
      "[2023-10-30 15:22:39.426] [info] LM<sym::Optimize> [iter   14] lambda: 3.906e-03, error prev/linear/new: 9.978e+02/0.000e+00/3.367e+02, rel reduction: 6.62556e-01\n",
      "[2023-10-30 15:22:39.443] [info] LM<sym::Optimize> [iter   15] lambda: 9.766e-04, error prev/linear/new: 3.367e+02/0.000e+00/2.435e+02, rel reduction: 2.76769e-01\n",
      "[2023-10-30 15:22:39.459] [info] LM<sym::Optimize> [iter   16] lambda: 2.441e-04, error prev/linear/new: 2.435e+02/0.000e+00/1.682e+03, rel reduction: -5.90798e+00\n",
      "[2023-10-30 15:22:39.475] [info] LM<sym::Optimize> [iter   17] lambda: 9.766e-04, error prev/linear/new: 2.435e+02/0.000e+00/1.219e+02, rel reduction: 4.99409e-01\n",
      "[2023-10-30 15:22:39.490] [info] LM<sym::Optimize> [iter   18] lambda: 2.441e-04, error prev/linear/new: 1.219e+02/0.000e+00/1.846e+03, rel reduction: -1.41468e+01\n",
      "[2023-10-30 15:22:39.510] [info] LM<sym::Optimize> [iter   19] lambda: 9.766e-04, error prev/linear/new: 1.219e+02/0.000e+00/1.262e+02, rel reduction: -3.51456e-02\n",
      "[2023-10-30 15:22:39.525] [info] LM<sym::Optimize> [iter   20] lambda: 3.906e-03, error prev/linear/new: 1.219e+02/0.000e+00/2.797e+01, rel reduction: 7.70581e-01\n",
      "[2023-10-30 15:22:39.540] [info] LM<sym::Optimize> [iter   21] lambda: 9.766e-04, error prev/linear/new: 2.797e+01/0.000e+00/1.406e+02, rel reduction: -4.02776e+00\n",
      "[2023-10-30 15:22:39.555] [info] LM<sym::Optimize> [iter   22] lambda: 3.906e-03, error prev/linear/new: 2.797e+01/0.000e+00/1.933e+01, rel reduction: 3.08853e-01\n",
      "[2023-10-30 15:22:39.570] [info] LM<sym::Optimize> [iter   23] lambda: 9.766e-04, error prev/linear/new: 1.933e+01/0.000e+00/1.133e+02, rel reduction: -4.86127e+00\n",
      "[2023-10-30 15:22:39.584] [info] LM<sym::Optimize> [iter   24] lambda: 3.906e-03, error prev/linear/new: 1.933e+01/0.000e+00/1.778e+01, rel reduction: 8.01482e-02\n",
      "[2023-10-30 15:22:39.598] [info] LM<sym::Optimize> [iter   25] lambda: 9.766e-04, error prev/linear/new: 1.778e+01/0.000e+00/8.401e+01, rel reduction: -3.72534e+00\n",
      "[2023-10-30 15:22:39.612] [info] LM<sym::Optimize> [iter   26] lambda: 3.906e-03, error prev/linear/new: 1.778e+01/0.000e+00/1.610e+01, rel reduction: 9.46862e-02\n",
      "[2023-10-30 15:22:39.627] [info] LM<sym::Optimize> [iter   27] lambda: 9.766e-04, error prev/linear/new: 1.610e+01/0.000e+00/6.492e+01, rel reduction: -3.03321e+00\n",
      "[2023-10-30 15:22:39.641] [info] LM<sym::Optimize> [iter   28] lambda: 3.906e-03, error prev/linear/new: 1.610e+01/0.000e+00/1.488e+01, rel reduction: 7.54325e-02\n",
      "[2023-10-30 15:22:39.655] [info] LM<sym::Optimize> [iter   29] lambda: 9.766e-04, error prev/linear/new: 1.488e+01/0.000e+00/5.238e+01, rel reduction: -2.51970e+00\n",
      "[2023-10-30 15:22:39.669] [info] LM<sym::Optimize> [iter   30] lambda: 3.906e-03, error prev/linear/new: 1.488e+01/0.000e+00/1.407e+01, rel reduction: 5.46550e-02\n",
      "[2023-10-30 15:22:39.684] [info] LM<sym::Optimize> [iter   31] lambda: 9.766e-04, error prev/linear/new: 1.407e+01/0.000e+00/4.372e+01, rel reduction: -2.10752e+00\n",
      "[2023-10-30 15:22:39.699] [info] LM<sym::Optimize> [iter   32] lambda: 3.906e-03, error prev/linear/new: 1.407e+01/0.000e+00/1.347e+01, rel reduction: 4.28488e-02\n",
      "[2023-10-30 15:22:39.715] [info] LM<sym::Optimize> [iter   33] lambda: 9.766e-04, error prev/linear/new: 1.347e+01/0.000e+00/3.746e+01, rel reduction: -1.78207e+00\n",
      "[2023-10-30 15:22:39.730] [info] LM<sym::Optimize> [iter   34] lambda: 3.906e-03, error prev/linear/new: 1.347e+01/0.000e+00/1.298e+01, rel reduction: 3.61045e-02\n",
      "[2023-10-30 15:22:39.746] [info] LM<sym::Optimize> [iter   35] lambda: 9.766e-04, error prev/linear/new: 1.298e+01/0.000e+00/3.276e+01, rel reduction: -1.52404e+00\n",
      "[2023-10-30 15:22:39.761] [info] LM<sym::Optimize> [iter   36] lambda: 3.906e-03, error prev/linear/new: 1.298e+01/0.000e+00/1.256e+01, rel reduction: 3.20305e-02\n",
      "[2023-10-30 15:22:39.777] [info] LM<sym::Optimize> [iter   37] lambda: 9.766e-04, error prev/linear/new: 1.256e+01/0.000e+00/2.910e+01, rel reduction: -1.31636e+00\n",
      "[2023-10-30 15:22:39.793] [info] LM<sym::Optimize> [iter   38] lambda: 3.906e-03, error prev/linear/new: 1.256e+01/0.000e+00/1.219e+01, rel reduction: 2.95382e-02\n",
      "[2023-10-30 15:22:39.809] [info] LM<sym::Optimize> [iter   39] lambda: 9.766e-04, error prev/linear/new: 1.219e+01/0.000e+00/2.617e+01, rel reduction: -1.14617e+00\n",
      "[2023-10-30 15:22:39.824] [info] LM<sym::Optimize> [iter   40] lambda: 3.906e-03, error prev/linear/new: 1.219e+01/0.000e+00/1.185e+01, rel reduction: 2.80561e-02\n",
      "[2023-10-30 15:22:39.840] [info] LM<sym::Optimize> [iter   41] lambda: 9.766e-04, error prev/linear/new: 1.185e+01/0.000e+00/2.375e+01, rel reduction: -1.00409e+00\n",
      "[2023-10-30 15:22:39.856] [info] LM<sym::Optimize> [iter   42] lambda: 3.906e-03, error prev/linear/new: 1.185e+01/0.000e+00/1.153e+01, rel reduction: 2.72595e-02\n",
      "[2023-10-30 15:22:39.871] [info] LM<sym::Optimize> [iter   43] lambda: 9.766e-04, error prev/linear/new: 1.153e+01/0.000e+00/2.171e+01, rel reduction: -8.83486e-01\n",
      "[2023-10-30 15:22:39.887] [info] LM<sym::Optimize> [iter   44] lambda: 3.906e-03, error prev/linear/new: 1.153e+01/0.000e+00/1.122e+01, rel reduction: 2.69633e-02\n",
      "[2023-10-30 15:22:39.902] [info] LM<sym::Optimize> [iter   45] lambda: 9.766e-04, error prev/linear/new: 1.122e+01/0.000e+00/1.996e+01, rel reduction: -7.79721e-01\n",
      "[2023-10-30 15:22:39.917] [info] LM<sym::Optimize> [iter   46] lambda: 3.906e-03, error prev/linear/new: 1.122e+01/0.000e+00/1.091e+01, rel reduction: 2.70691e-02\n",
      "[2023-10-30 15:22:39.932] [info] LM<sym::Optimize> [iter   47] lambda: 9.766e-04, error prev/linear/new: 1.091e+01/0.000e+00/1.844e+01, rel reduction: -6.89688e-01\n",
      "[2023-10-30 15:22:39.947] [info] LM<sym::Optimize> [iter   48] lambda: 3.906e-03, error prev/linear/new: 1.091e+01/0.000e+00/1.061e+01, rel reduction: 2.75362e-02\n",
      "[2023-10-30 15:22:39.962] [info] LM<sym::Optimize> [iter   49] lambda: 9.766e-04, error prev/linear/new: 1.061e+01/0.000e+00/1.710e+01, rel reduction: -6.11454e-01\n"
     ]
    }
   ],
   "source": [
    "from symforce.opt.optimizer import Optimizer\n",
    "\n",
    "optimizer = Optimizer(\n",
    "    factors=factors,\n",
    "    optimized_keys=[f\"poses[{i}]\" for i in range(n_poses)],\n",
    "    # So that we save more information about each iteration, to visualize later:\n",
    "    debug_stats=True,\n",
    ")\n",
    "result = optimizer.optimize(initial_values)"
   ]
  },
  {
   "cell_type": "code",
   "execution_count": 73,
   "id": "6c52ec53-cd3d-43af-8abf-3adf3e93cacb",
   "metadata": {},
   "outputs": [
    {
     "data": {
      "application/vnd.plotly.v1+json": {
       "config": {
        "plotlyServerURL": "https://plot.ly"
       },
       "data": [
        {
         "type": "scatter3d",
         "x": [
          -24.45872688293457,
          -24.458873748779297,
          -24.38276481628418,
          -24.228775024414062,
          -23.999826431274414,
          -23.69882583618164,
          -23.322166442871094,
          -22.857580184936523,
          -22.31768035888672,
          -21.699665069580078,
          -21.00728416442871,
          -20.251285552978516,
          -19.420146942138672,
          -18.508399963378906,
          -17.5518856048584,
          -16.55638313293457,
          -15.550890922546387,
          -14.5513916015625,
          -13.59064769744873,
          -12.713567733764648,
          -11.949610710144043,
          -11.333154678344727,
          -10.892297744750977,
          -10.625528335571289,
          -10.534429550170898,
          -10.53308391571045,
          -10.588369369506836,
          -10.645308494567871,
          -10.633122444152832,
          -10.453582763671875,
          -9.99709415435791,
          -9.15325927734375,
          -7.809899806976318,
          -5.9110870361328125,
          -3.556058406829834,
          -1.029067873954773,
          1.1822006702423096,
          2.6266822814941406,
          3.0614736080169678,
          2.5646116733551025,
          1.3660300970077515,
          -0.23678813874721527,
          -1.9763643741607666,
          -3.589621067047119,
          -4.710961818695068,
          -4.850449085235596,
          -3.474912643432617,
          -0.5131425857543945,
          2.912036418914795,
          5.065834045410156,
          5.177971363067627,
          3.646615505218506,
          1.1109848022460938,
          -1.9308503866195679,
          -5.162966251373291,
          -8.210777282714844,
          -10.672831535339355,
          -11.802582740783691,
          -10.591814041137695,
          -6.789578437805176,
          -2.8609938621520996,
          -1.5984876155853271,
          -2.8293042182922363,
          -5.135105609893799,
          -7.184457302093506,
          -7.41105318069458,
          -4.44983434677124,
          0.41146576404571533,
          4.516843318939209,
          7.679751396179199,
          11.129758834838867,
          15.88150405883789,
          20.787811279296875,
          22.42985725402832,
          20.056758880615234,
          15.562164306640625,
          10.339666366577148,
          4.93750524520874,
          -0.26684895157814026,
          -4.556399822235107,
          -6.388777732849121,
          -4.046506881713867,
          1.6138668060302734,
          6.7473039627075195,
          9.051119804382324,
          8.774351119995117,
          6.98667049407959,
          4.736075401306152,
          2.9003689289093018,
          2.421481132507324,
          4.105192184448242,
          8.267074584960938,
          14.25789737701416,
          20.969635009765625,
          27.47723960876465,
          33.31179428100586,
          38.30685043334961,
          42.39118957519531,
          45.37820053100586,
          46.980159759521484,
          46.675697326660156,
          43.88795471191406,
          38.380767822265625,
          31.108596801757812,
          24.229625701904297,
          19.651491165161133,
          17.764511108398438,
          17.753116607666016,
          18.403749465942383,
          18.38736343383789,
          16.355924606323242,
          11.321195602416992,
          3.7926902770996094,
          -3.526015520095825,
          -7.7328691482543945,
          -8.18110466003418,
          -6.026347637176514,
          -2.8426287174224854,
          -0.8522309064865112,
          -2.5539469718933105,
          -8.838140487670898,
          -16.58476448059082,
          -21.385114669799805,
          -21.748855590820312,
          -18.272939682006836,
          -12.006450653076172,
          -4.164669036865234,
          2.61604642868042,
          3.1833784580230713,
          -4.223443508148193,
          -8.291050910949707,
          -3.6068785190582275,
          4.242600917816162,
          6.478241443634033,
          -0.4174891412258148,
          -5.225912094116211,
          0.26825428009033203,
          7.109374046325684,
          4.0016961097717285,
          -3.4033641815185547,
          -0.5859273076057434,
          7.0970659255981445,
          5.183053493499756,
          -2.5595388412475586,
          0.026432542130351067
         ],
         "y": [
          10.546929359436035,
          10.548593521118164,
          10.559123992919922,
          10.577248573303223,
          10.601675033569336,
          10.630671501159668,
          10.66248607635498,
          10.691242218017578,
          10.713289260864258,
          10.721272468566895,
          10.705192565917969,
          10.652937889099121,
          10.547365188598633,
          10.366064071655273,
          10.0916748046875,
          9.698144912719727,
          9.16560173034668,
          8.466304779052734,
          7.590147972106934,
          6.527712821960449,
          5.294913291931152,
          3.901512622833252,
          2.3699424266815186,
          0.7230315804481506,
          -1.0224778652191162,
          -2.84501576423645,
          -4.740808963775635,
          -6.713278770446777,
          -8.763150215148926,
          -10.877623558044434,
          -13.028289794921875,
          -15.133691787719727,
          -17.04920196533203,
          -18.526412963867188,
          -19.25486183166504,
          -18.963804244995117,
          -17.58028793334961,
          -15.321335792541504,
          -12.594487190246582,
          -9.800682067871094,
          -7.123291015625,
          -4.572444915771484,
          -2.022382974624634,
          0.7030175924301147,
          3.733920097351074,
          7.031070709228516,
          10.109068870544434,
          11.84161376953125,
          11.158852577209473,
          8.305880546569824,
          4.646821975708008,
          1.2195439338684082,
          -1.6626149415969849,
          -4.119631767272949,
          -6.459869384765625,
          -9.14111614227295,
          -12.451484680175781,
          -16.483123779296875,
          -20.550222396850586,
          -22.54214859008789,
          -20.637115478515625,
          -16.353492736816406,
          -11.960209846496582,
          -7.930713176727295,
          -3.6899328231811523,
          1.0615532398223877,
          4.819708347320557,
          5.0917840003967285,
          2.2752833366394043,
          -1.7301416397094727,
          -5.568472862243652,
          -7.63753604888916,
          -5.8721184730529785,
          -0.8488261103630066,
          3.9836344718933105,
          7.086434364318848,
          8.915717124938965,
          10.413522720336914,
          12.655681610107422,
          16.455713272094727,
          21.948148727416992,
          27.308334350585938,
          28.9884033203125,
          25.957792282104492,
          20.3492488861084,
          14.214315414428711,
          8.252872467041016,
          2.3837902545928955,
          -3.6944122314453125,
          -10.092446327209473,
          -16.351207733154297,
          -21.423410415649414,
          -24.28705596923828,
          -24.57950210571289,
          -22.62529945373535,
          -18.99346160888672,
          -14.17428207397461,
          -8.472354888916016,
          -2.0531110763549805,
          4.885292053222656,
          12.07378101348877,
          18.775468826293945,
          23.606069564819336,
          24.911148071289062,
          22.04050636291504,
          16.060211181640625,
          8.686910629272461,
          1.0044554471969604,
          -6.7333664894104,
          -14.572859764099121,
          -22.181346893310547,
          -28.22808837890625,
          -30.48790740966797,
          -27.62567901611328,
          -20.982023239135742,
          -13.124198913574219,
          -5.549246788024902,
          1.6562597751617432,
          9.27421760559082,
          16.954421997070312,
          21.679738998413086,
          20.276426315307617,
          14.01611328125,
          6.122331619262695,
          -0.9835519194602966,
          -5.81650972366333,
          -6.85920524597168,
          -2.807298421859741,
          5.0465312004089355,
          7.670181751251221,
          0.9201140403747559,
          -5.452424049377441,
          -4.415211200714111,
          3.1755244731903076,
          7.053508281707764,
          0.7523645758628845,
          -4.991355895996094,
          -0.9167167544364929,
          6.427286624908447,
          3.434502601623535,
          -4.0492262840271,
          -1.7942633628845215,
          5.994590759277344,
          3.865899085998535,
          -3.7393388748168945
         ],
         "z": [
          0,
          0,
          0,
          0,
          0,
          0,
          0,
          0,
          0,
          0,
          0,
          0,
          0,
          0,
          0,
          0,
          0,
          0,
          0,
          0,
          0,
          0,
          0,
          0,
          0,
          0,
          0,
          0,
          0,
          0,
          0,
          0,
          0,
          0,
          0,
          0,
          0,
          0,
          0,
          0,
          0,
          0,
          0,
          0,
          0,
          0,
          0,
          0,
          0,
          0,
          0,
          0,
          0,
          0,
          0,
          0,
          0,
          0,
          0,
          0,
          0,
          0,
          0,
          0,
          0,
          0,
          0,
          0,
          0,
          0,
          0,
          0,
          0,
          0,
          0,
          0,
          0,
          0,
          0,
          0,
          0,
          0,
          0,
          0,
          0,
          0,
          0,
          0,
          0,
          0,
          0,
          0,
          0,
          0,
          0,
          0,
          0,
          0,
          0,
          0,
          0,
          0,
          0,
          0,
          0,
          0,
          0,
          0,
          0,
          0,
          0,
          0,
          0,
          0,
          0,
          0,
          0,
          0,
          0,
          0,
          0,
          0,
          0,
          0,
          0,
          0,
          0,
          0,
          0,
          0,
          0,
          0,
          0,
          0,
          0,
          0,
          0,
          0,
          0,
          0,
          0,
          0,
          0,
          0,
          0
         ]
        }
       ],
       "layout": {
        "height": 800,
        "scene": {
         "aspectmode": "data",
         "aspectratio": {
          "x": 4.410715437727289,
          "y": 3.672125293874651,
          "z": 0.0617409729824353
         },
         "camera": {
          "center": {
           "x": 0,
           "y": 0,
           "z": 0
          },
          "eye": {
           "x": -3.91571043951899,
           "y": 3.726046725339227,
           "z": 3.792302834231709
          },
          "projection": {
           "type": "perspective"
          },
          "up": {
           "x": -0.003267985265988339,
           "y": -0.0034229353819369645,
           "z": 0.9999888018301367
          }
         }
        },
        "template": {
         "data": {
          "bar": [
           {
            "error_x": {
             "color": "#2a3f5f"
            },
            "error_y": {
             "color": "#2a3f5f"
            },
            "marker": {
             "line": {
              "color": "#E5ECF6",
              "width": 0.5
             },
             "pattern": {
              "fillmode": "overlay",
              "size": 10,
              "solidity": 0.2
             }
            },
            "type": "bar"
           }
          ],
          "barpolar": [
           {
            "marker": {
             "line": {
              "color": "#E5ECF6",
              "width": 0.5
             },
             "pattern": {
              "fillmode": "overlay",
              "size": 10,
              "solidity": 0.2
             }
            },
            "type": "barpolar"
           }
          ],
          "carpet": [
           {
            "aaxis": {
             "endlinecolor": "#2a3f5f",
             "gridcolor": "white",
             "linecolor": "white",
             "minorgridcolor": "white",
             "startlinecolor": "#2a3f5f"
            },
            "baxis": {
             "endlinecolor": "#2a3f5f",
             "gridcolor": "white",
             "linecolor": "white",
             "minorgridcolor": "white",
             "startlinecolor": "#2a3f5f"
            },
            "type": "carpet"
           }
          ],
          "choropleth": [
           {
            "colorbar": {
             "outlinewidth": 0,
             "ticks": ""
            },
            "type": "choropleth"
           }
          ],
          "contour": [
           {
            "colorbar": {
             "outlinewidth": 0,
             "ticks": ""
            },
            "colorscale": [
             [
              0,
              "#0d0887"
             ],
             [
              0.1111111111111111,
              "#46039f"
             ],
             [
              0.2222222222222222,
              "#7201a8"
             ],
             [
              0.3333333333333333,
              "#9c179e"
             ],
             [
              0.4444444444444444,
              "#bd3786"
             ],
             [
              0.5555555555555556,
              "#d8576b"
             ],
             [
              0.6666666666666666,
              "#ed7953"
             ],
             [
              0.7777777777777778,
              "#fb9f3a"
             ],
             [
              0.8888888888888888,
              "#fdca26"
             ],
             [
              1,
              "#f0f921"
             ]
            ],
            "type": "contour"
           }
          ],
          "contourcarpet": [
           {
            "colorbar": {
             "outlinewidth": 0,
             "ticks": ""
            },
            "type": "contourcarpet"
           }
          ],
          "heatmap": [
           {
            "colorbar": {
             "outlinewidth": 0,
             "ticks": ""
            },
            "colorscale": [
             [
              0,
              "#0d0887"
             ],
             [
              0.1111111111111111,
              "#46039f"
             ],
             [
              0.2222222222222222,
              "#7201a8"
             ],
             [
              0.3333333333333333,
              "#9c179e"
             ],
             [
              0.4444444444444444,
              "#bd3786"
             ],
             [
              0.5555555555555556,
              "#d8576b"
             ],
             [
              0.6666666666666666,
              "#ed7953"
             ],
             [
              0.7777777777777778,
              "#fb9f3a"
             ],
             [
              0.8888888888888888,
              "#fdca26"
             ],
             [
              1,
              "#f0f921"
             ]
            ],
            "type": "heatmap"
           }
          ],
          "heatmapgl": [
           {
            "colorbar": {
             "outlinewidth": 0,
             "ticks": ""
            },
            "colorscale": [
             [
              0,
              "#0d0887"
             ],
             [
              0.1111111111111111,
              "#46039f"
             ],
             [
              0.2222222222222222,
              "#7201a8"
             ],
             [
              0.3333333333333333,
              "#9c179e"
             ],
             [
              0.4444444444444444,
              "#bd3786"
             ],
             [
              0.5555555555555556,
              "#d8576b"
             ],
             [
              0.6666666666666666,
              "#ed7953"
             ],
             [
              0.7777777777777778,
              "#fb9f3a"
             ],
             [
              0.8888888888888888,
              "#fdca26"
             ],
             [
              1,
              "#f0f921"
             ]
            ],
            "type": "heatmapgl"
           }
          ],
          "histogram": [
           {
            "marker": {
             "pattern": {
              "fillmode": "overlay",
              "size": 10,
              "solidity": 0.2
             }
            },
            "type": "histogram"
           }
          ],
          "histogram2d": [
           {
            "colorbar": {
             "outlinewidth": 0,
             "ticks": ""
            },
            "colorscale": [
             [
              0,
              "#0d0887"
             ],
             [
              0.1111111111111111,
              "#46039f"
             ],
             [
              0.2222222222222222,
              "#7201a8"
             ],
             [
              0.3333333333333333,
              "#9c179e"
             ],
             [
              0.4444444444444444,
              "#bd3786"
             ],
             [
              0.5555555555555556,
              "#d8576b"
             ],
             [
              0.6666666666666666,
              "#ed7953"
             ],
             [
              0.7777777777777778,
              "#fb9f3a"
             ],
             [
              0.8888888888888888,
              "#fdca26"
             ],
             [
              1,
              "#f0f921"
             ]
            ],
            "type": "histogram2d"
           }
          ],
          "histogram2dcontour": [
           {
            "colorbar": {
             "outlinewidth": 0,
             "ticks": ""
            },
            "colorscale": [
             [
              0,
              "#0d0887"
             ],
             [
              0.1111111111111111,
              "#46039f"
             ],
             [
              0.2222222222222222,
              "#7201a8"
             ],
             [
              0.3333333333333333,
              "#9c179e"
             ],
             [
              0.4444444444444444,
              "#bd3786"
             ],
             [
              0.5555555555555556,
              "#d8576b"
             ],
             [
              0.6666666666666666,
              "#ed7953"
             ],
             [
              0.7777777777777778,
              "#fb9f3a"
             ],
             [
              0.8888888888888888,
              "#fdca26"
             ],
             [
              1,
              "#f0f921"
             ]
            ],
            "type": "histogram2dcontour"
           }
          ],
          "mesh3d": [
           {
            "colorbar": {
             "outlinewidth": 0,
             "ticks": ""
            },
            "type": "mesh3d"
           }
          ],
          "parcoords": [
           {
            "line": {
             "colorbar": {
              "outlinewidth": 0,
              "ticks": ""
             }
            },
            "type": "parcoords"
           }
          ],
          "pie": [
           {
            "automargin": true,
            "type": "pie"
           }
          ],
          "scatter": [
           {
            "fillpattern": {
             "fillmode": "overlay",
             "size": 10,
             "solidity": 0.2
            },
            "type": "scatter"
           }
          ],
          "scatter3d": [
           {
            "line": {
             "colorbar": {
              "outlinewidth": 0,
              "ticks": ""
             }
            },
            "marker": {
             "colorbar": {
              "outlinewidth": 0,
              "ticks": ""
             }
            },
            "type": "scatter3d"
           }
          ],
          "scattercarpet": [
           {
            "marker": {
             "colorbar": {
              "outlinewidth": 0,
              "ticks": ""
             }
            },
            "type": "scattercarpet"
           }
          ],
          "scattergeo": [
           {
            "marker": {
             "colorbar": {
              "outlinewidth": 0,
              "ticks": ""
             }
            },
            "type": "scattergeo"
           }
          ],
          "scattergl": [
           {
            "marker": {
             "colorbar": {
              "outlinewidth": 0,
              "ticks": ""
             }
            },
            "type": "scattergl"
           }
          ],
          "scattermapbox": [
           {
            "marker": {
             "colorbar": {
              "outlinewidth": 0,
              "ticks": ""
             }
            },
            "type": "scattermapbox"
           }
          ],
          "scatterpolar": [
           {
            "marker": {
             "colorbar": {
              "outlinewidth": 0,
              "ticks": ""
             }
            },
            "type": "scatterpolar"
           }
          ],
          "scatterpolargl": [
           {
            "marker": {
             "colorbar": {
              "outlinewidth": 0,
              "ticks": ""
             }
            },
            "type": "scatterpolargl"
           }
          ],
          "scatterternary": [
           {
            "marker": {
             "colorbar": {
              "outlinewidth": 0,
              "ticks": ""
             }
            },
            "type": "scatterternary"
           }
          ],
          "surface": [
           {
            "colorbar": {
             "outlinewidth": 0,
             "ticks": ""
            },
            "colorscale": [
             [
              0,
              "#0d0887"
             ],
             [
              0.1111111111111111,
              "#46039f"
             ],
             [
              0.2222222222222222,
              "#7201a8"
             ],
             [
              0.3333333333333333,
              "#9c179e"
             ],
             [
              0.4444444444444444,
              "#bd3786"
             ],
             [
              0.5555555555555556,
              "#d8576b"
             ],
             [
              0.6666666666666666,
              "#ed7953"
             ],
             [
              0.7777777777777778,
              "#fb9f3a"
             ],
             [
              0.8888888888888888,
              "#fdca26"
             ],
             [
              1,
              "#f0f921"
             ]
            ],
            "type": "surface"
           }
          ],
          "table": [
           {
            "cells": {
             "fill": {
              "color": "#EBF0F8"
             },
             "line": {
              "color": "white"
             }
            },
            "header": {
             "fill": {
              "color": "#C8D4E3"
             },
             "line": {
              "color": "white"
             }
            },
            "type": "table"
           }
          ]
         },
         "layout": {
          "annotationdefaults": {
           "arrowcolor": "#2a3f5f",
           "arrowhead": 0,
           "arrowwidth": 1
          },
          "autotypenumbers": "strict",
          "coloraxis": {
           "colorbar": {
            "outlinewidth": 0,
            "ticks": ""
           }
          },
          "colorscale": {
           "diverging": [
            [
             0,
             "#8e0152"
            ],
            [
             0.1,
             "#c51b7d"
            ],
            [
             0.2,
             "#de77ae"
            ],
            [
             0.3,
             "#f1b6da"
            ],
            [
             0.4,
             "#fde0ef"
            ],
            [
             0.5,
             "#f7f7f7"
            ],
            [
             0.6,
             "#e6f5d0"
            ],
            [
             0.7,
             "#b8e186"
            ],
            [
             0.8,
             "#7fbc41"
            ],
            [
             0.9,
             "#4d9221"
            ],
            [
             1,
             "#276419"
            ]
           ],
           "sequential": [
            [
             0,
             "#0d0887"
            ],
            [
             0.1111111111111111,
             "#46039f"
            ],
            [
             0.2222222222222222,
             "#7201a8"
            ],
            [
             0.3333333333333333,
             "#9c179e"
            ],
            [
             0.4444444444444444,
             "#bd3786"
            ],
            [
             0.5555555555555556,
             "#d8576b"
            ],
            [
             0.6666666666666666,
             "#ed7953"
            ],
            [
             0.7777777777777778,
             "#fb9f3a"
            ],
            [
             0.8888888888888888,
             "#fdca26"
            ],
            [
             1,
             "#f0f921"
            ]
           ],
           "sequentialminus": [
            [
             0,
             "#0d0887"
            ],
            [
             0.1111111111111111,
             "#46039f"
            ],
            [
             0.2222222222222222,
             "#7201a8"
            ],
            [
             0.3333333333333333,
             "#9c179e"
            ],
            [
             0.4444444444444444,
             "#bd3786"
            ],
            [
             0.5555555555555556,
             "#d8576b"
            ],
            [
             0.6666666666666666,
             "#ed7953"
            ],
            [
             0.7777777777777778,
             "#fb9f3a"
            ],
            [
             0.8888888888888888,
             "#fdca26"
            ],
            [
             1,
             "#f0f921"
            ]
           ]
          },
          "colorway": [
           "#636efa",
           "#EF553B",
           "#00cc96",
           "#ab63fa",
           "#FFA15A",
           "#19d3f3",
           "#FF6692",
           "#B6E880",
           "#FF97FF",
           "#FECB52"
          ],
          "font": {
           "color": "#2a3f5f"
          },
          "geo": {
           "bgcolor": "white",
           "lakecolor": "white",
           "landcolor": "#E5ECF6",
           "showlakes": true,
           "showland": true,
           "subunitcolor": "white"
          },
          "hoverlabel": {
           "align": "left"
          },
          "hovermode": "closest",
          "mapbox": {
           "style": "light"
          },
          "paper_bgcolor": "white",
          "plot_bgcolor": "#E5ECF6",
          "polar": {
           "angularaxis": {
            "gridcolor": "white",
            "linecolor": "white",
            "ticks": ""
           },
           "bgcolor": "#E5ECF6",
           "radialaxis": {
            "gridcolor": "white",
            "linecolor": "white",
            "ticks": ""
           }
          },
          "scene": {
           "xaxis": {
            "backgroundcolor": "#E5ECF6",
            "gridcolor": "white",
            "gridwidth": 2,
            "linecolor": "white",
            "showbackground": true,
            "ticks": "",
            "zerolinecolor": "white"
           },
           "yaxis": {
            "backgroundcolor": "#E5ECF6",
            "gridcolor": "white",
            "gridwidth": 2,
            "linecolor": "white",
            "showbackground": true,
            "ticks": "",
            "zerolinecolor": "white"
           },
           "zaxis": {
            "backgroundcolor": "#E5ECF6",
            "gridcolor": "white",
            "gridwidth": 2,
            "linecolor": "white",
            "showbackground": true,
            "ticks": "",
            "zerolinecolor": "white"
           }
          },
          "shapedefaults": {
           "line": {
            "color": "#2a3f5f"
           }
          },
          "ternary": {
           "aaxis": {
            "gridcolor": "white",
            "linecolor": "white",
            "ticks": ""
           },
           "baxis": {
            "gridcolor": "white",
            "linecolor": "white",
            "ticks": ""
           },
           "bgcolor": "#E5ECF6",
           "caxis": {
            "gridcolor": "white",
            "linecolor": "white",
            "ticks": ""
           }
          },
          "title": {
           "x": 0.05
          },
          "xaxis": {
           "automargin": true,
           "gridcolor": "white",
           "linecolor": "white",
           "ticks": "",
           "title": {
            "standoff": 15
           },
           "zerolinecolor": "white",
           "zerolinewidth": 2
          },
          "yaxis": {
           "automargin": true,
           "gridcolor": "white",
           "linecolor": "white",
           "ticks": "",
           "title": {
            "standoff": 15
           },
           "zerolinecolor": "white",
           "zerolinewidth": 2
          }
         }
        },
        "width": 800
       }
      },
      "image/png": "[encoded data removed]",
      "text/html": [
       "<div>                            <div id=\"cc607997-890d-477a-b34a-3b060425e2fc\" class=\"plotly-graph-div\" style=\"height:800px; width:800px;\"></div>            <script type=\"text/javascript\">                require([\"plotly\"], function(Plotly) {                    window.PLOTLYENV=window.PLOTLYENV || {};                                    if (document.getElementById(\"cc607997-890d-477a-b34a-3b060425e2fc\")) {                    Plotly.newPlot(                        \"cc607997-890d-477a-b34a-3b060425e2fc\",                        [{\"x\":[-24.45872688293457,-24.458873748779297,-24.38276481628418,-24.228775024414062,-23.999826431274414,-23.69882583618164,-23.322166442871094,-22.857580184936523,-22.31768035888672,-21.699665069580078,-21.00728416442871,-20.251285552978516,-19.420146942138672,-18.508399963378906,-17.5518856048584,-16.55638313293457,-15.550890922546387,-14.5513916015625,-13.59064769744873,-12.713567733764648,-11.949610710144043,-11.333154678344727,-10.892297744750977,-10.625528335571289,-10.534429550170898,-10.53308391571045,-10.588369369506836,-10.645308494567871,-10.633122444152832,-10.453582763671875,-9.99709415435791,-9.15325927734375,-7.809899806976318,-5.9110870361328125,-3.556058406829834,-1.029067873954773,1.1822006702423096,2.6266822814941406,3.0614736080169678,2.5646116733551025,1.3660300970077515,-0.23678813874721527,-1.9763643741607666,-3.589621067047119,-4.710961818695068,-4.850449085235596,-3.474912643432617,-0.5131425857543945,2.912036418914795,5.065834045410156,5.177971363067627,3.646615505218506,1.1109848022460938,-1.9308503866195679,-5.162966251373291,-8.210777282714844,-10.672831535339355,-11.802582740783691,-10.591814041137695,-6.789578437805176,-2.8609938621520996,-1.5984876155853271,-2.8293042182922363,-5.135105609893799,-7.184457302093506,-7.41105318069458,-4.44983434677124,0.41146576404571533,4.516843318939209,7.679751396179199,11.129758834838867,15.88150405883789,20.787811279296875,22.42985725402832,20.056758880615234,15.562164306640625,10.339666366577148,4.93750524520874,-0.26684895157814026,-4.556399822235107,-6.388777732849121,-4.046506881713867,1.6138668060302734,6.7473039627075195,9.051119804382324,8.774351119995117,6.98667049407959,4.736075401306152,2.9003689289093018,2.421481132507324,4.105192184448242,8.267074584960938,14.25789737701416,20.969635009765625,27.47723960876465,33.31179428100586,38.30685043334961,42.39118957519531,45.37820053100586,46.980159759521484,46.675697326660156,43.88795471191406,38.380767822265625,31.108596801757812,24.229625701904297,19.651491165161133,17.764511108398438,17.753116607666016,18.403749465942383,18.38736343383789,16.355924606323242,11.321195602416992,3.7926902770996094,-3.526015520095825,-7.7328691482543945,-8.18110466003418,-6.026347637176514,-2.8426287174224854,-0.8522309064865112,-2.5539469718933105,-8.838140487670898,-16.58476448059082,-21.385114669799805,-21.748855590820312,-18.272939682006836,-12.006450653076172,-4.164669036865234,2.61604642868042,3.1833784580230713,-4.223443508148193,-8.291050910949707,-3.6068785190582275,4.242600917816162,6.478241443634033,-0.4174891412258148,-5.225912094116211,0.26825428009033203,7.109374046325684,4.0016961097717285,-3.4033641815185547,-0.5859273076057434,7.0970659255981445,5.183053493499756,-2.5595388412475586,0.026432542130351067],\"y\":[10.546929359436035,10.548593521118164,10.559123992919922,10.577248573303223,10.601675033569336,10.630671501159668,10.66248607635498,10.691242218017578,10.713289260864258,10.721272468566895,10.705192565917969,10.652937889099121,10.547365188598633,10.366064071655273,10.0916748046875,9.698144912719727,9.16560173034668,8.466304779052734,7.590147972106934,6.527712821960449,5.294913291931152,3.901512622833252,2.3699424266815186,0.7230315804481506,-1.0224778652191162,-2.84501576423645,-4.740808963775635,-6.713278770446777,-8.763150215148926,-10.877623558044434,-13.028289794921875,-15.133691787719727,-17.04920196533203,-18.526412963867188,-19.25486183166504,-18.963804244995117,-17.58028793334961,-15.321335792541504,-12.594487190246582,-9.800682067871094,-7.123291015625,-4.572444915771484,-2.022382974624634,0.7030175924301147,3.733920097351074,7.031070709228516,10.109068870544434,11.84161376953125,11.158852577209473,8.305880546569824,4.646821975708008,1.2195439338684082,-1.6626149415969849,-4.119631767272949,-6.459869384765625,-9.14111614227295,-12.451484680175781,-16.483123779296875,-20.550222396850586,-22.54214859008789,-20.637115478515625,-16.353492736816406,-11.960209846496582,-7.930713176727295,-3.6899328231811523,1.0615532398223877,4.819708347320557,5.0917840003967285,2.2752833366394043,-1.7301416397094727,-5.568472862243652,-7.63753604888916,-5.8721184730529785,-0.8488261103630066,3.9836344718933105,7.086434364318848,8.915717124938965,10.413522720336914,12.655681610107422,16.455713272094727,21.948148727416992,27.308334350585938,28.9884033203125,25.957792282104492,20.3492488861084,14.214315414428711,8.252872467041016,2.3837902545928955,-3.6944122314453125,-10.092446327209473,-16.351207733154297,-21.423410415649414,-24.28705596923828,-24.57950210571289,-22.62529945373535,-18.99346160888672,-14.17428207397461,-8.472354888916016,-2.0531110763549805,4.885292053222656,12.07378101348877,18.775468826293945,23.606069564819336,24.911148071289062,22.04050636291504,16.060211181640625,8.686910629272461,1.0044554471969604,-6.7333664894104,-14.572859764099121,-22.181346893310547,-28.22808837890625,-30.48790740966797,-27.62567901611328,-20.982023239135742,-13.124198913574219,-5.549246788024902,1.6562597751617432,9.27421760559082,16.954421997070312,21.679738998413086,20.276426315307617,14.01611328125,6.122331619262695,-0.9835519194602966,-5.81650972366333,-6.85920524597168,-2.807298421859741,5.0465312004089355,7.670181751251221,0.9201140403747559,-5.452424049377441,-4.415211200714111,3.1755244731903076,7.053508281707764,0.7523645758628845,-4.991355895996094,-0.9167167544364929,6.427286624908447,3.434502601623535,-4.0492262840271,-1.7942633628845215,5.994590759277344,3.865899085998535,-3.7393388748168945],\"z\":[0.0,0.0,0.0,0.0,0.0,0.0,0.0,0.0,0.0,0.0,0.0,0.0,0.0,0.0,0.0,0.0,0.0,0.0,0.0,0.0,0.0,0.0,0.0,0.0,0.0,0.0,0.0,0.0,0.0,0.0,0.0,0.0,0.0,0.0,0.0,0.0,0.0,0.0,0.0,0.0,0.0,0.0,0.0,0.0,0.0,0.0,0.0,0.0,0.0,0.0,0.0,0.0,0.0,0.0,0.0,0.0,0.0,0.0,0.0,0.0,0.0,0.0,0.0,0.0,0.0,0.0,0.0,0.0,0.0,0.0,0.0,0.0,0.0,0.0,0.0,0.0,0.0,0.0,0.0,0.0,0.0,0.0,0.0,0.0,0.0,0.0,0.0,0.0,0.0,0.0,0.0,0.0,0.0,0.0,0.0,0.0,0.0,0.0,0.0,0.0,0.0,0.0,0.0,0.0,0.0,0.0,0.0,0.0,0.0,0.0,0.0,0.0,0.0,0.0,0.0,0.0,0.0,0.0,0.0,0.0,0.0,0.0,0.0,0.0,0.0,0.0,0.0,0.0,0.0,0.0,0.0,0.0,0.0,0.0,0.0,0.0,0.0,0.0,0.0,0.0,0.0,0.0,0.0,0.0,0.0],\"type\":\"scatter3d\"}],                        {\"template\":{\"data\":{\"histogram2dcontour\":[{\"type\":\"histogram2dcontour\",\"colorbar\":{\"outlinewidth\":0,\"ticks\":\"\"},\"colorscale\":[[0.0,\"#0d0887\"],[0.1111111111111111,\"#46039f\"],[0.2222222222222222,\"#7201a8\"],[0.3333333333333333,\"#9c179e\"],[0.4444444444444444,\"#bd3786\"],[0.5555555555555556,\"#d8576b\"],[0.6666666666666666,\"#ed7953\"],[0.7777777777777778,\"#fb9f3a\"],[0.8888888888888888,\"#fdca26\"],[1.0,\"#f0f921\"]]}],\"choropleth\":[{\"type\":\"choropleth\",\"colorbar\":{\"outlinewidth\":0,\"ticks\":\"\"}}],\"histogram2d\":[{\"type\":\"histogram2d\",\"colorbar\":{\"outlinewidth\":0,\"ticks\":\"\"},\"colorscale\":[[0.0,\"#0d0887\"],[0.1111111111111111,\"#46039f\"],[0.2222222222222222,\"#7201a8\"],[0.3333333333333333,\"#9c179e\"],[0.4444444444444444,\"#bd3786\"],[0.5555555555555556,\"#d8576b\"],[0.6666666666666666,\"#ed7953\"],[0.7777777777777778,\"#fb9f3a\"],[0.8888888888888888,\"#fdca26\"],[1.0,\"#f0f921\"]]}],\"heatmap\":[{\"type\":\"heatmap\",\"colorbar\":{\"outlinewidth\":0,\"ticks\":\"\"},\"colorscale\":[[0.0,\"#0d0887\"],[0.1111111111111111,\"#46039f\"],[0.2222222222222222,\"#7201a8\"],[0.3333333333333333,\"#9c179e\"],[0.4444444444444444,\"#bd3786\"],[0.5555555555555556,\"#d8576b\"],[0.6666666666666666,\"#ed7953\"],[0.7777777777777778,\"#fb9f3a\"],[0.8888888888888888,\"#fdca26\"],[1.0,\"#f0f921\"]]}],\"heatmapgl\":[{\"type\":\"heatmapgl\",\"colorbar\":{\"outlinewidth\":0,\"ticks\":\"\"},\"colorscale\":[[0.0,\"#0d0887\"],[0.1111111111111111,\"#46039f\"],[0.2222222222222222,\"#7201a8\"],[0.3333333333333333,\"#9c179e\"],[0.4444444444444444,\"#bd3786\"],[0.5555555555555556,\"#d8576b\"],[0.6666666666666666,\"#ed7953\"],[0.7777777777777778,\"#fb9f3a\"],[0.8888888888888888,\"#fdca26\"],[1.0,\"#f0f921\"]]}],\"contourcarpet\":[{\"type\":\"contourcarpet\",\"colorbar\":{\"outlinewidth\":0,\"ticks\":\"\"}}],\"contour\":[{\"type\":\"contour\",\"colorbar\":{\"outlinewidth\":0,\"ticks\":\"\"},\"colorscale\":[[0.0,\"#0d0887\"],[0.1111111111111111,\"#46039f\"],[0.2222222222222222,\"#7201a8\"],[0.3333333333333333,\"#9c179e\"],[0.4444444444444444,\"#bd3786\"],[0.5555555555555556,\"#d8576b\"],[0.6666666666666666,\"#ed7953\"],[0.7777777777777778,\"#fb9f3a\"],[0.8888888888888888,\"#fdca26\"],[1.0,\"#f0f921\"]]}],\"surface\":[{\"type\":\"surface\",\"colorbar\":{\"outlinewidth\":0,\"ticks\":\"\"},\"colorscale\":[[0.0,\"#0d0887\"],[0.1111111111111111,\"#46039f\"],[0.2222222222222222,\"#7201a8\"],[0.3333333333333333,\"#9c179e\"],[0.4444444444444444,\"#bd3786\"],[0.5555555555555556,\"#d8576b\"],[0.6666666666666666,\"#ed7953\"],[0.7777777777777778,\"#fb9f3a\"],[0.8888888888888888,\"#fdca26\"],[1.0,\"#f0f921\"]]}],\"mesh3d\":[{\"type\":\"mesh3d\",\"colorbar\":{\"outlinewidth\":0,\"ticks\":\"\"}}],\"scatter\":[{\"fillpattern\":{\"fillmode\":\"overlay\",\"size\":10,\"solidity\":0.2},\"type\":\"scatter\"}],\"parcoords\":[{\"type\":\"parcoords\",\"line\":{\"colorbar\":{\"outlinewidth\":0,\"ticks\":\"\"}}}],\"scatterpolargl\":[{\"type\":\"scatterpolargl\",\"marker\":{\"colorbar\":{\"outlinewidth\":0,\"ticks\":\"\"}}}],\"bar\":[{\"error_x\":{\"color\":\"#2a3f5f\"},\"error_y\":{\"color\":\"#2a3f5f\"},\"marker\":{\"line\":{\"color\":\"#E5ECF6\",\"width\":0.5},\"pattern\":{\"fillmode\":\"overlay\",\"size\":10,\"solidity\":0.2}},\"type\":\"bar\"}],\"scattergeo\":[{\"type\":\"scattergeo\",\"marker\":{\"colorbar\":{\"outlinewidth\":0,\"ticks\":\"\"}}}],\"scatterpolar\":[{\"type\":\"scatterpolar\",\"marker\":{\"colorbar\":{\"outlinewidth\":0,\"ticks\":\"\"}}}],\"histogram\":[{\"marker\":{\"pattern\":{\"fillmode\":\"overlay\",\"size\":10,\"solidity\":0.2}},\"type\":\"histogram\"}],\"scattergl\":[{\"type\":\"scattergl\",\"marker\":{\"colorbar\":{\"outlinewidth\":0,\"ticks\":\"\"}}}],\"scatter3d\":[{\"type\":\"scatter3d\",\"line\":{\"colorbar\":{\"outlinewidth\":0,\"ticks\":\"\"}},\"marker\":{\"colorbar\":{\"outlinewidth\":0,\"ticks\":\"\"}}}],\"scattermapbox\":[{\"type\":\"scattermapbox\",\"marker\":{\"colorbar\":{\"outlinewidth\":0,\"ticks\":\"\"}}}],\"scatterternary\":[{\"type\":\"scatterternary\",\"marker\":{\"colorbar\":{\"outlinewidth\":0,\"ticks\":\"\"}}}],\"scattercarpet\":[{\"type\":\"scattercarpet\",\"marker\":{\"colorbar\":{\"outlinewidth\":0,\"ticks\":\"\"}}}],\"carpet\":[{\"aaxis\":{\"endlinecolor\":\"#2a3f5f\",\"gridcolor\":\"white\",\"linecolor\":\"white\",\"minorgridcolor\":\"white\",\"startlinecolor\":\"#2a3f5f\"},\"baxis\":{\"endlinecolor\":\"#2a3f5f\",\"gridcolor\":\"white\",\"linecolor\":\"white\",\"minorgridcolor\":\"white\",\"startlinecolor\":\"#2a3f5f\"},\"type\":\"carpet\"}],\"table\":[{\"cells\":{\"fill\":{\"color\":\"#EBF0F8\"},\"line\":{\"color\":\"white\"}},\"header\":{\"fill\":{\"color\":\"#C8D4E3\"},\"line\":{\"color\":\"white\"}},\"type\":\"table\"}],\"barpolar\":[{\"marker\":{\"line\":{\"color\":\"#E5ECF6\",\"width\":0.5},\"pattern\":{\"fillmode\":\"overlay\",\"size\":10,\"solidity\":0.2}},\"type\":\"barpolar\"}],\"pie\":[{\"automargin\":true,\"type\":\"pie\"}]},\"layout\":{\"autotypenumbers\":\"strict\",\"colorway\":[\"#636efa\",\"#EF553B\",\"#00cc96\",\"#ab63fa\",\"#FFA15A\",\"#19d3f3\",\"#FF6692\",\"#B6E880\",\"#FF97FF\",\"#FECB52\"],\"font\":{\"color\":\"#2a3f5f\"},\"hovermode\":\"closest\",\"hoverlabel\":{\"align\":\"left\"},\"paper_bgcolor\":\"white\",\"plot_bgcolor\":\"#E5ECF6\",\"polar\":{\"bgcolor\":\"#E5ECF6\",\"angularaxis\":{\"gridcolor\":\"white\",\"linecolor\":\"white\",\"ticks\":\"\"},\"radialaxis\":{\"gridcolor\":\"white\",\"linecolor\":\"white\",\"ticks\":\"\"}},\"ternary\":{\"bgcolor\":\"#E5ECF6\",\"aaxis\":{\"gridcolor\":\"white\",\"linecolor\":\"white\",\"ticks\":\"\"},\"baxis\":{\"gridcolor\":\"white\",\"linecolor\":\"white\",\"ticks\":\"\"},\"caxis\":{\"gridcolor\":\"white\",\"linecolor\":\"white\",\"ticks\":\"\"}},\"coloraxis\":{\"colorbar\":{\"outlinewidth\":0,\"ticks\":\"\"}},\"colorscale\":{\"sequential\":[[0.0,\"#0d0887\"],[0.1111111111111111,\"#46039f\"],[0.2222222222222222,\"#7201a8\"],[0.3333333333333333,\"#9c179e\"],[0.4444444444444444,\"#bd3786\"],[0.5555555555555556,\"#d8576b\"],[0.6666666666666666,\"#ed7953\"],[0.7777777777777778,\"#fb9f3a\"],[0.8888888888888888,\"#fdca26\"],[1.0,\"#f0f921\"]],\"sequentialminus\":[[0.0,\"#0d0887\"],[0.1111111111111111,\"#46039f\"],[0.2222222222222222,\"#7201a8\"],[0.3333333333333333,\"#9c179e\"],[0.4444444444444444,\"#bd3786\"],[0.5555555555555556,\"#d8576b\"],[0.6666666666666666,\"#ed7953\"],[0.7777777777777778,\"#fb9f3a\"],[0.8888888888888888,\"#fdca26\"],[1.0,\"#f0f921\"]],\"diverging\":[[0,\"#8e0152\"],[0.1,\"#c51b7d\"],[0.2,\"#de77ae\"],[0.3,\"#f1b6da\"],[0.4,\"#fde0ef\"],[0.5,\"#f7f7f7\"],[0.6,\"#e6f5d0\"],[0.7,\"#b8e186\"],[0.8,\"#7fbc41\"],[0.9,\"#4d9221\"],[1,\"#276419\"]]},\"xaxis\":{\"gridcolor\":\"white\",\"linecolor\":\"white\",\"ticks\":\"\",\"title\":{\"standoff\":15},\"zerolinecolor\":\"white\",\"automargin\":true,\"zerolinewidth\":2},\"yaxis\":{\"gridcolor\":\"white\",\"linecolor\":\"white\",\"ticks\":\"\",\"title\":{\"standoff\":15},\"zerolinecolor\":\"white\",\"automargin\":true,\"zerolinewidth\":2},\"scene\":{\"xaxis\":{\"backgroundcolor\":\"#E5ECF6\",\"gridcolor\":\"white\",\"linecolor\":\"white\",\"showbackground\":true,\"ticks\":\"\",\"zerolinecolor\":\"white\",\"gridwidth\":2},\"yaxis\":{\"backgroundcolor\":\"#E5ECF6\",\"gridcolor\":\"white\",\"linecolor\":\"white\",\"showbackground\":true,\"ticks\":\"\",\"zerolinecolor\":\"white\",\"gridwidth\":2},\"zaxis\":{\"backgroundcolor\":\"#E5ECF6\",\"gridcolor\":\"white\",\"linecolor\":\"white\",\"showbackground\":true,\"ticks\":\"\",\"zerolinecolor\":\"white\",\"gridwidth\":2}},\"shapedefaults\":{\"line\":{\"color\":\"#2a3f5f\"}},\"annotationdefaults\":{\"arrowcolor\":\"#2a3f5f\",\"arrowhead\":0,\"arrowwidth\":1},\"geo\":{\"bgcolor\":\"white\",\"landcolor\":\"#E5ECF6\",\"subunitcolor\":\"white\",\"showland\":true,\"showlakes\":true,\"lakecolor\":\"white\"},\"title\":{\"x\":0.05},\"mapbox\":{\"style\":\"light\"}}},\"scene\":{\"aspectmode\":\"data\"},\"width\":800,\"height\":800},                        {\"responsive\": true}                    ).then(function(){\n",
       "                            \n",
       "var gd = document.getElementById('cc607997-890d-477a-b34a-3b060425e2fc');\n",
       "var x = new MutationObserver(function (mutations, observer) {{\n",
       "        var display = window.getComputedStyle(gd).display;\n",
       "        if (!display || display === 'none') {{\n",
       "            console.log([gd, 'removed!']);\n",
       "            Plotly.purge(gd);\n",
       "            observer.disconnect();\n",
       "        }}\n",
       "}});\n",
       "\n",
       "// Listen for the removal of the full notebook cells\n",
       "var notebookContainer = gd.closest('#notebook-container');\n",
       "if (notebookContainer) {{\n",
       "    x.observe(notebookContainer, {childList: true});\n",
       "}}\n",
       "\n",
       "// Listen for the clearing of the current output cell\n",
       "var outputEl = gd.closest('.output');\n",
       "if (outputEl) {{\n",
       "    x.observe(outputEl, {childList: true});\n",
       "}}\n",
       "\n",
       "                        })                };                });            </script>        </div>"
      ]
     },
     "metadata": {},
     "output_type": "display_data"
    }
   ],
   "source": [
    "import plotly.graph_objects as go\n",
    "\n",
    "robot_poses_optimized = result.optimized_values[\"poses\"]\n",
    "robot_t_optimized = np.array([pose.t for pose in robot_poses_optimized], dtype=np.float32)\n",
    "\n",
    "fig = go.Figure()\n",
    "fig.add_trace(go.Scatter3d(\n",
    "    x = robot_t_optimized[:, 0],\n",
    "    y = robot_t_optimized[:, 1],\n",
    "    z = robot_t_optimized[:, 2],\n",
    "))\n",
    "fig.update_layout(width=800, height=800, scene_aspectmode=\"data\")"
   ]
  },
  {
   "cell_type": "code",
   "execution_count": null,
   "id": "566e1bd3-7868-4bdc-aa58-0ef599fa9eb4",
   "metadata": {},
   "outputs": [],
   "source": [
    "# TODOS:\n",
    "# 1. Initialize the pose estimates using integrated odometry measurements\n",
    "# 2. Diagram and think through how to handle tag detections coming \n",
    "#    in at a higher rate than the odometry"
   ]
  }
 ],
 "metadata": {
  "kernelspec": {
   "display_name": "Python 3 (ipykernel)",
   "language": "python",
   "name": "python3"
  },
  "language_info": {
   "codemirror_mode": {
    "name": "ipython",
    "version": 3
   },
   "file_extension": ".py",
   "mimetype": "text/x-python",
   "name": "python",
   "nbconvert_exporter": "python",
   "pygments_lexer": "ipython3",
   "version": "3.10.13"
  }
 },
 "nbformat": 4,
 "nbformat_minor": 5
}
