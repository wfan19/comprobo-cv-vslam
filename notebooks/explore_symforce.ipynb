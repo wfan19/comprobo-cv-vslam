{
 "cells": [
  {
   "cell_type": "code",
   "execution_count": 1,
   "id": "b3e2dddc-2b32-4f3e-8b06-9de1d41b8c78",
   "metadata": {},
   "outputs": [],
   "source": [
    "import symforce\n",
    "symforce.set_epsilon_to_symbol()"
   ]
  },
  {
   "cell_type": "code",
   "execution_count": 2,
   "id": "f282ef20-3848-4b87-bfab-13581c28a6da",
   "metadata": {},
   "outputs": [],
   "source": [
    "import numpy as np\n",
    "from symforce.values import Values\n",
    "\n",
    "import rosbag2_py\n",
    "from rclpy.serialization import deserialize_message"
   ]
  },
  {
   "cell_type": "code",
   "execution_count": 3,
   "id": "11730aae-96e5-4004-b6cc-2ed257460a98",
   "metadata": {},
   "outputs": [
    {
     "name": "stderr",
     "output_type": "stream",
     "text": [
      "[INFO] [1698691007.324500612] [rosbag2_storage]: Opened database '../bags/dataset_drive_square_no_vid/rosbag2_2023_10_25-11_14_04_0.db3' for READ_ONLY.\n"
     ]
    }
   ],
   "source": [
    "bag_path = \"../bags/dataset_drive_square_no_vid\"\n",
    "# Copied the following from https://qiita.com/nonanonno/items/8f7bce03953709fd5af9\n",
    "storage_options = rosbag2_py.StorageOptions(uri=bag_path, storage_id=\"sqlite3\")\n",
    "converter_options = rosbag2_py.ConverterOptions(input_serialization_format=\"cdr\", output_serialization_format=\"cdr\")\n",
    "\n",
    "sr = rosbag2_py.SequentialReader()\n",
    "sr.open(storage_options, converter_options)\n",
    "sr.set_filter(rosbag2_py.StorageFilter(topics=[\"/odom\", \"/detections\", \"/camera/camera_info\"]))"
   ]
  },
  {
   "cell_type": "code",
   "execution_count": 4,
   "id": "1f5e06c6-0a4b-468f-bcb0-5058108ac3fc",
   "metadata": {},
   "outputs": [],
   "source": [
    "# Create a dictionary of each topic's message type\n",
    "# This will be used for deserializing the messages.\n",
    "import importlib\n",
    "def get_type_from_str(type_str: str):\n",
    "    # dynamic load message package\n",
    "    pkg = importlib.import_module(\".\".join(type_str.split(\"/\")[:-1]))\n",
    "    return eval(f\"pkg.{type_str.split('/')[-1]}\")\n",
    "\n",
    "msg_type_table = {}\n",
    "for topic in sr.get_all_topics_and_types():\n",
    "    msg_type_table[topic.name] = get_type_from_str(topic.type)"
   ]
  },
  {
   "cell_type": "code",
   "execution_count": 5,
   "id": "e6f6d936-9af0-4823-bebe-c7840175cc15",
   "metadata": {},
   "outputs": [
    {
     "name": "stderr",
     "output_type": "stream",
     "text": [
      "[INFO] [1698691007.484943617] [rosbag2_storage]: Opened database '../bags/dataset_drive_square_no_vid/rosbag2_2023_10_25-11_14_04_0.db3' for READ_ONLY.\n"
     ]
    }
   ],
   "source": [
    "# Now we extract messages from the entire bag\n",
    "sr.seek(0)\n",
    "msgs = []\n",
    "while sr.has_next():\n",
    "    msgs.append(sr.read_next())\n",
    "\n",
    "msgs_no_cam = [msg for msg in msgs if not (msg[0] == \"/camera/camera_info\")]"
   ]
  },
  {
   "cell_type": "code",
   "execution_count": 6,
   "id": "d50c21f7-6e35-4996-89b8-fda70b085a7d",
   "metadata": {},
   "outputs": [
    {
     "name": "stdout",
     "output_type": "stream",
     "text": [
      "nav_msgs.msg.Odometry(header=std_msgs.msg.Header(stamp=builtin_interfaces.msg.Time(sec=1697911413, nanosec=507019835), frame_id='odom'), child_frame_id='base_footprint', pose=geometry_msgs.msg.PoseWithCovariance(pose=geometry_msgs.msg.Pose(position=geometry_msgs.msg.Point(x=0.002499930899425671, y=2.0161891289617244e-06, z=0.0), orientation=geometry_msgs.msg.Quaternion(x=0.0, y=0.0, z=-0.010080474430627446, w=0.9999491907268356)), covariance=array([1.e-01, 0.e+00, 0.e+00, 0.e+00, 0.e+00, 0.e+00, 0.e+00, 1.e-01,\n",
      "       0.e+00, 0.e+00, 0.e+00, 0.e+00, 0.e+00, 0.e+00, 1.e-01, 0.e+00,\n",
      "       0.e+00, 0.e+00, 0.e+00, 0.e+00, 0.e+00, 1.e+05, 0.e+00, 0.e+00,\n",
      "       0.e+00, 0.e+00, 0.e+00, 0.e+00, 1.e+05, 0.e+00, 0.e+00, 0.e+00,\n",
      "       0.e+00, 0.e+00, 0.e+00, 1.e+05])), twist=geometry_msgs.msg.TwistWithCovariance(twist=geometry_msgs.msg.Twist(linear=geometry_msgs.msg.Vector3(x=0.0, y=0.0, z=0.0), angular=geometry_msgs.msg.Vector3(x=0.0, y=0.0, z=0.0)), covariance=array([0., 0., 0., 0., 0., 0., 0., 0., 0., 0., 0., 0., 0., 0., 0., 0., 0.,\n",
      "       0., 0., 0., 0., 0., 0., 0., 0., 0., 0., 0., 0., 0., 0., 0., 0., 0.,\n",
      "       0., 0.])))\n",
      "---\n",
      "apriltag_msgs.msg.AprilTagDetectionArray(header=std_msgs.msg.Header(stamp=builtin_interfaces.msg.Time(sec=1697911413, nanosec=495530676), frame_id='camera'), detections=[apriltag_msgs.msg.AprilTagDetection(family='tag36h11', id=2, hamming=0, goodness=0.0, decision_margin=108.31108093261719, centre=apriltag_msgs.msg.Point(x=310.9918610968816, y=175.92624968999823), corners=[apriltag_msgs.msg.Point(x=321.1826477050781, y=186.10935974121097), apriltag_msgs.msg.Point(x=321.05401611328125, y=165.68884277343747), apriltag_msgs.msg.Point(x=300.90603637695307, y=165.84802246093747), apriltag_msgs.msg.Point(x=301.0301208496093, y=186.06149291992185)], homography=array([-3.80170664e-02,  8.49016741e+00,  3.10991861e+02, -1.01440047e+01,\n",
      "       -9.24289843e-01,  1.75926250e+02,  8.08767293e-05, -5.09562375e-03,\n",
      "        1.00000000e+00])), apriltag_msgs.msg.AprilTagDetection(family='tag36h11', id=3, hamming=0, goodness=0.0, decision_margin=67.95487976074219, centre=apriltag_msgs.msg.Point(x=143.63054090701175, y=173.3569013940378), corners=[apriltag_msgs.msg.Point(x=182.1328582763672, y=134.07746887207034), apriltag_msgs.msg.Point(x=103.13464355468749, y=133.94833374023438), apriltag_msgs.msg.Point(x=105.16831970214844, y=212.59542846679688), apriltag_msgs.msg.Point(x=183.53684997558594, y=212.19171142578122)], homography=array([-3.98298070e+01, -1.42237528e+00,  1.43630541e+02, -5.20763094e-01,\n",
      "       -3.98700459e+01,  1.73356901e+02, -3.40600852e-03, -3.92697785e-03,\n",
      "        1.00000000e+00]))])\n",
      "---\n",
      "sensor_msgs.msg.CameraInfo(header=std_msgs.msg.Header(stamp=builtin_interfaces.msg.Time(sec=1697911413, nanosec=495530676), frame_id='camera'), height=432, width=768, distortion_model='plumb_bob', d=[-0.049922, 0.049023, 0.002386, -0.004925, 0.0], k=array([491.08741,   0.     , 372.63814,   0.     , 490.2843 , 221.30161,\n",
      "         0.     ,   0.     ,   1.     ]), r=array([1., 0., 0., 0., 1., 0., 0., 0., 1.]), p=array([487.56742,   0.     , 368.28725,   0.     ,   0.     , 489.20578,\n",
      "       222.56956,   0.     ,   0.     ,   0.     ,   1.     ,   0.     ]), binning_x=0, binning_y=0, roi=sensor_msgs.msg.RegionOfInterest(x_offset=0, y_offset=0, height=0, width=0, do_rectify=False))\n"
     ]
    }
   ],
   "source": [
    "# Extract detections and odometry messages\n",
    "f_deserialize_msg = lambda msg: deserialize_message(msg[1], msg_type_table[msg[0]])\n",
    "def get_first_msg_of_topic(topic):\n",
    "    return next(deserialize_message(msg[1], msg_type_table[msg[0]]) for msg in msgs if msg[0] == topic)\n",
    "\n",
    "example_odom_data = get_first_msg_of_topic(\"/odom\")\n",
    "example_detections_data = get_first_msg_of_topic(\"/detections\")\n",
    "example_camera_info_data = get_first_msg_of_topic(\"/camera/camera_info\")\n",
    "\n",
    "print(example_odom_data)\n",
    "print(\"---\")\n",
    "print(example_detections_data)\n",
    "print(\"---\")\n",
    "print(example_camera_info_data)"
   ]
  },
  {
   "cell_type": "code",
   "execution_count": 7,
   "id": "b3352b16-9d61-4ad1-9f00-106ca7ff12c8",
   "metadata": {},
   "outputs": [],
   "source": [
    "import symforce.symbolic as sf\n",
    "# Get the example messages into np form to play around with them\n",
    "example_corners = np.array([\n",
    "    np.array([corner.x, corner.y])\n",
    "    for corner in example_detections_data.detections[0].corners\n",
    "])\n",
    "\n",
    "camera_K = np.reshape(example_camera_info_data.k, (3, 3))\n",
    "focal_length = [camera_K[0, 0], camera_K[1, 1]]\n",
    "principal_point = [camera_K[0, 2], camera_K[1, 2]]\n",
    "camera_cal = sf.LinearCameraCal(focal_length=focal_length, principal_point = principal_point)"
   ]
  },
  {
   "cell_type": "code",
   "execution_count": 8,
   "id": "8f405cf2-0d8f-4645-a580-ce3c1b01809b",
   "metadata": {},
   "outputs": [],
   "source": [
    "## Phase 1: Integrate odometry using Symforce?\n",
    "# Define the odometry residual function?\n",
    "from symforce.codegen.geo_factors_codegen import prior_factor, between_factor\n",
    "\n",
    "def residual_between(pose_1: sf.Pose3, pose_2: sf.Pose3, rdelta_measured: sf.Pose3, epsilon: sf.Scalar):\n",
    "    # Compute the expected body-frame displacement\n",
    "    # pose_1 * rdelta = pose_2\n",
    "    rdelta_expected = pose_1.inverse() * pose_2\n",
    "\n",
    "    # The \"error\": rdelta_expected ⊟ rdelta_measured\n",
    "    error = rdelta_measured.local_coordinates(rdelta_expected, epsilon)\n",
    "    return error\n",
    "\n",
    "def get_tag_corner_residual(i_corner: np.int_):\n",
    "    ## Get the position of the tags in the camera frame\n",
    "    # Define the displacements from the tag center to each tag corner\n",
    "    R = sf.Rot3.identity()\n",
    "    w = 0.203\n",
    "    # Corner order: start in bottom left (-x, -y) and go ccw\n",
    "    g_tag_c1 = sf.Pose3(R, sf.Vector3([-w/2, -w/2, 0]))\n",
    "    g_tag_c2 = sf.Pose3(R, sf.Vector3([-w/2, w/2, 0]))\n",
    "    g_tag_c3 = sf.Pose3(R, sf.Vector3([w/2, w/2, 0]))\n",
    "    g_tag_c4 = sf.Pose3(R, sf.Vector3([w/2, -w/2, 0]))\n",
    "    g_tag_corners = [g_tag_c1, g_tag_c2, g_tag_c3, g_tag_c4]\n",
    "    g_tag_ci = g_tag_corners[i_corner]\n",
    "\n",
    "    def residual_tag_obs(camera_pose: sf.Pose3, tag_pose: sf.Pose3, corners_px_measured: sf.M12, epsilon: sf.Scalar):\n",
    "        # Measure the error between the expected pixel coordinates of the tag corners\n",
    "        # versus the actual measured ones.\n",
    "    \n",
    "        # Compute the expected tag corner positions in the camera frame\n",
    "        # based on the hypothesized camera and tag poses.\n",
    "        g_cam_tag = camera_pose.inverse() * tag_pose\n",
    "        g_cam_corner = g_cam_tag * g_tag_ci\n",
    "    \n",
    "        # Project the tag corner positions into the camera frame using the camera model\n",
    "        corners_px_expected = camera_cal.pixel_from_camera_point(g_cam_corner.t)[0]\n",
    "    \n",
    "        return corners_px_measured.T - corners_px_expected\n",
    "    return residual_tag_obs\n",
    "    "
   ]
  },
  {
   "cell_type": "code",
   "execution_count": 27,
   "id": "669202b1-1f3f-40b7-aa37-7db3066f3cc9",
   "metadata": {},
   "outputs": [],
   "source": [
    "from symforce.opt.factor import Factor\n",
    "from symforce.values import Values\n",
    "\n",
    "start_factor = 300\n",
    "n_factors = 100\n",
    "tag_ids = [0, 1, 2, 3, 4]\n",
    "\n",
    "# Supporting functions\n",
    "def pose3_msg_to_sf(msg):\n",
    "    q_xyz = [msg.orientation.x, msg.orientation.y, msg.orientation.z]\n",
    "    w = msg.orientation.w\n",
    "    quat = sf.Quaternion(xyz=sf.Vector3(q_xyz), w=w)\n",
    "    R = sf.Rot3(quat)\n",
    "\n",
    "    posn = [msg.position.x, msg.position.y, msg.position.z]\n",
    "    t = sf.Vector3(posn)\n",
    "    return sf.Pose3(R, t)\n",
    "\n",
    "## Initialize storage vars\n",
    "factors = []\n",
    "# Store odometry sensor data\n",
    "i_pose = 0\n",
    "odoms = []\n",
    "last_pose = sf.Pose3.identity()\n",
    "# Store tag detections\n",
    "n_detections = [0 for id in tag_ids]\n",
    "detections = [[] for id in tag_ids]\n",
    "#n_detections = {id: 0 for id in tag_ids}\n",
    "#detections = {id: [] for id in tag_ids}\n",
    "#tag_poses = {id: [[]] for id in tag_ids}\n",
    "for i in range(start_factor, start_factor + n_factors):\n",
    "    topic, bdata, time = msgs_no_cam[i]\n",
    "    data = f_deserialize_msg(msgs_no_cam[i])\n",
    "\n",
    "    if topic == \"/odom\":\n",
    "        ## Add a between-factor to the factor graph\n",
    "        factors.append(Factor(\n",
    "            residual=residual_between,\n",
    "            keys=[f\"poses[{i_pose}]\", f\"poses[{i_pose+1}]\", f\"odoms[{i_pose}]\", \"epsilon\"]\n",
    "        ))\n",
    "\n",
    "        ## Record the sensor data into the list of displacements\n",
    "        pose = pose3_msg_to_sf(data.pose.pose)\n",
    "        if i_pose == 0:\n",
    "            # If first displacement measurement, simply record 0\n",
    "            odoms.append(sf.Pose3.identity())\n",
    "            last_pose = pose\n",
    "        else:\n",
    "            # Otherwise, record the displacement from the last pose\n",
    "            # last_pose * delta = pose\n",
    "            # => delta = inv(last_pose) * pose\n",
    "            delta = last_pose.inverse() * pose\n",
    "            odoms.append(delta)\n",
    "        i_pose = i_pose + 1\n",
    "        \n",
    "    elif topic == \"/detections\":\n",
    "        for detection in data.detections:\n",
    "            tag_id = detection.id\n",
    "            \n",
    "            corners_i = []\n",
    "            for i, corner in enumerate(detection.corners):\n",
    "                factors.append(Factor(\n",
    "                    residual=get_tag_corner_residual(i),\n",
    "                    keys=[\n",
    "                        f\"poses[{i_pose}]\",\n",
    "                        f\"tag_poses[{tag_id}][{n_detections[tag_id]}]\",\n",
    "                        f\"detections[{tag_id}][{n_detections[tag_id]}][{i}]\",\n",
    "                        \"epsilon\"\n",
    "                    ]\n",
    "                ))\n",
    "\n",
    "                corners_i.append(sf.M12([corner.x, corner.y]))\n",
    "            detections[tag_id].append(corners_i)\n",
    "            # Count a new detection for this tag\n",
    "            n_detections[tag_id] += 1\n",
    "\n",
    "n_poses = i_pose + 1\n",
    "initial_poses = [sf.Pose3.identity()] * n_poses\n",
    "initial_tag_poses = [[sf.Pose3.identity()] * n_detections[id] for id in tag_ids]\n",
    "\n",
    "for i, detection_list in enumerate(detections):\n",
    "    if n_detections[i] == 0:\n",
    "        detections[i] = [[0]]\n",
    "        initial_tag_poses[i] = [sf.Pose3.identity()]\n",
    "\n",
    "initial_values = Values(\n",
    "    poses = initial_poses,\n",
    "    odoms = odoms,\n",
    "    detections = detections,\n",
    "    tag_poses = initial_tag_poses,\n",
    "    epsilon = sf.numeric_epsilon\n",
    ")"
   ]
  },
  {
   "cell_type": "code",
   "execution_count": 28,
   "id": "32ddcab0-80ac-4b80-a832-89b376db64cb",
   "metadata": {},
   "outputs": [
    {
     "name": "stdout",
     "output_type": "stream",
     "text": [
      "[2023-10-30 14:57:07.286] [info] LM<sym::Optimize> [iter    0] lambda: 1.000e+00, error prev/linear/new: 2.999e+35/0.000e+00/2.999e+35, rel reduction: 2.70687e-15\n"
     ]
    }
   ],
   "source": [
    "from symforce.opt.optimizer import Optimizer\n",
    "\n",
    "optimizer = Optimizer(\n",
    "    factors=factors,\n",
    "    optimized_keys=[f\"poses[{i}]\" for i in range(n_poses)],\n",
    "    # So that we save more information about each iteration, to visualize later:\n",
    "    debug_stats=True,\n",
    ")\n",
    "result = optimizer.optimize(initial_values)"
   ]
  },
  {
   "cell_type": "code",
   "execution_count": 15,
   "id": "ee408106-85bf-4080-9a52-3f829bc0cf17",
   "metadata": {},
   "outputs": [
    {
     "data": {
      "text/plain": [
       "Values(\n",
       "  poses: [<Pose3 R=<Rot3 <Q xyzw=[0, 0, 0, 1]>>, t=(0, 0, 0)>, <Pose3 R=<Rot3 <Q xyzw=[0, 0, 0, 1]>>, t=(0, 0, 0)>],\n",
       ")"
      ]
     },
     "execution_count": 15,
     "metadata": {},
     "output_type": "execute_result"
    }
   ],
   "source": [
    "key = \"poses[1]\"\n",
    "Values(**{\"poses[0]\": sf.Pose3.identity(), \"poses[1]\": sf.Pose3.identity()})"
   ]
  },
  {
   "cell_type": "code",
   "execution_count": null,
   "id": "8b580620-65f6-49dc-8ad5-08e55aeccb13",
   "metadata": {},
   "outputs": [],
   "source": []
  },
  {
   "cell_type": "code",
   "execution_count": null,
   "id": "6c52ec53-cd3d-43af-8abf-3adf3e93cacb",
   "metadata": {},
   "outputs": [],
   "source": []
  }
 ],
 "metadata": {
  "kernelspec": {
   "display_name": "Python 3 (ipykernel)",
   "language": "python",
   "name": "python3"
  },
  "language_info": {
   "codemirror_mode": {
    "name": "ipython",
    "version": 3
   },
   "file_extension": ".py",
   "mimetype": "text/x-python",
   "name": "python",
   "nbconvert_exporter": "python",
   "pygments_lexer": "ipython3",
   "version": "3.10.13"
  }
 },
 "nbformat": 4,
 "nbformat_minor": 5
}
