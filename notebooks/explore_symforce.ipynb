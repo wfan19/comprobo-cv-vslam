{
 "cells": [
  {
   "cell_type": "code",
   "execution_count": 1,
   "id": "b3e2dddc-2b32-4f3e-8b06-9de1d41b8c78",
   "metadata": {},
   "outputs": [],
   "source": [
    "import symforce\n",
    "symforce.set_epsilon_to_symbol()"
   ]
  },
  {
   "cell_type": "code",
   "execution_count": 2,
   "id": "f282ef20-3848-4b87-bfab-13581c28a6da",
   "metadata": {},
   "outputs": [],
   "source": [
    "import numpy as np\n",
    "from symforce.values import Values\n",
    "\n",
    "import rosbag2_py\n",
    "from rclpy.serialization import deserialize_message"
   ]
  },
  {
   "cell_type": "code",
   "execution_count": 4,
   "id": "11730aae-96e5-4004-b6cc-2ed257460a98",
   "metadata": {},
   "outputs": [
    {
     "name": "stderr",
     "output_type": "stream",
     "text": [
      "[INFO] [1699507137.323134070] [rosbag2_storage]: Opened database '../bags/dataset_drive_square_no_vid/rosbag2_2023_10_25-11_14_04_0.db3' for READ_ONLY.\n"
     ]
    }
   ],
   "source": [
    "bag_path = \"../bags/dataset_drive_square_no_vid\"\n",
    "# Copied the following from https://qiita.com/nonanonno/items/8f7bce03953709fd5af9\n",
    "storage_options = rosbag2_py.StorageOptions(uri=bag_path, storage_id=\"sqlite3\")\n",
    "converter_options = rosbag2_py.ConverterOptions(input_serialization_format=\"cdr\", output_serialization_format=\"cdr\")\n",
    "\n",
    "sr = rosbag2_py.SequentialReader()\n",
    "sr.open(storage_options, converter_options)\n",
    "sr.set_filter(rosbag2_py.StorageFilter(topics=[\"/odom\", \"/detections\", \"/camera/camera_info\"]))"
   ]
  },
  {
   "cell_type": "code",
   "execution_count": 5,
   "id": "1f5e06c6-0a4b-468f-bcb0-5058108ac3fc",
   "metadata": {},
   "outputs": [],
   "source": [
    "# Create a dictionary of each topic's message type\n",
    "# This will be used for deserializing the messages.\n",
    "import importlib\n",
    "def get_type_from_str(type_str: str):\n",
    "    # dynamic load message package\n",
    "    pkg = importlib.import_module(\".\".join(type_str.split(\"/\")[:-1]))\n",
    "    return eval(f\"pkg.{type_str.split('/')[-1]}\")\n",
    "\n",
    "msg_type_table = {}\n",
    "for topic in sr.get_all_topics_and_types():\n",
    "    msg_type_table[topic.name] = get_type_from_str(topic.type)"
   ]
  },
  {
   "cell_type": "code",
   "execution_count": 6,
   "id": "e6f6d936-9af0-4823-bebe-c7840175cc15",
   "metadata": {},
   "outputs": [
    {
     "name": "stderr",
     "output_type": "stream",
     "text": [
      "[INFO] [1699507139.693725995] [rosbag2_storage]: Opened database '../bags/dataset_drive_square_no_vid/rosbag2_2023_10_25-11_14_04_0.db3' for READ_ONLY.\n"
     ]
    }
   ],
   "source": [
    "# Now we extract messages from the entire bag\n",
    "sr.seek(0)\n",
    "msgs = []\n",
    "while sr.has_next():\n",
    "    msgs.append(sr.read_next())\n",
    "\n",
    "msgs_no_cam = [msg for msg in msgs if not (msg[0] == \"/camera/camera_info\")]"
   ]
  },
  {
   "cell_type": "code",
   "execution_count": 7,
   "id": "d50c21f7-6e35-4996-89b8-fda70b085a7d",
   "metadata": {},
   "outputs": [
    {
     "name": "stdout",
     "output_type": "stream",
     "text": [
      "nav_msgs.msg.Odometry(header=std_msgs.msg.Header(stamp=builtin_interfaces.msg.Time(sec=1697911413, nanosec=507019835), frame_id='odom'), child_frame_id='base_footprint', pose=geometry_msgs.msg.PoseWithCovariance(pose=geometry_msgs.msg.Pose(position=geometry_msgs.msg.Point(x=0.002499930899425671, y=2.0161891289617244e-06, z=0.0), orientation=geometry_msgs.msg.Quaternion(x=0.0, y=0.0, z=-0.010080474430627446, w=0.9999491907268356)), covariance=array([1.e-01, 0.e+00, 0.e+00, 0.e+00, 0.e+00, 0.e+00, 0.e+00, 1.e-01,\n",
      "       0.e+00, 0.e+00, 0.e+00, 0.e+00, 0.e+00, 0.e+00, 1.e-01, 0.e+00,\n",
      "       0.e+00, 0.e+00, 0.e+00, 0.e+00, 0.e+00, 1.e+05, 0.e+00, 0.e+00,\n",
      "       0.e+00, 0.e+00, 0.e+00, 0.e+00, 1.e+05, 0.e+00, 0.e+00, 0.e+00,\n",
      "       0.e+00, 0.e+00, 0.e+00, 1.e+05])), twist=geometry_msgs.msg.TwistWithCovariance(twist=geometry_msgs.msg.Twist(linear=geometry_msgs.msg.Vector3(x=0.0, y=0.0, z=0.0), angular=geometry_msgs.msg.Vector3(x=0.0, y=0.0, z=0.0)), covariance=array([0., 0., 0., 0., 0., 0., 0., 0., 0., 0., 0., 0., 0., 0., 0., 0., 0.,\n",
      "       0., 0., 0., 0., 0., 0., 0., 0., 0., 0., 0., 0., 0., 0., 0., 0., 0.,\n",
      "       0., 0.])))\n",
      "---\n",
      "apriltag_msgs.msg.AprilTagDetectionArray(header=std_msgs.msg.Header(stamp=builtin_interfaces.msg.Time(sec=1697911413, nanosec=495530676), frame_id='camera'), detections=[apriltag_msgs.msg.AprilTagDetection(family='tag36h11', id=2, hamming=0, goodness=0.0, decision_margin=108.31108093261719, centre=apriltag_msgs.msg.Point(x=310.9918610968816, y=175.92624968999823), corners=[apriltag_msgs.msg.Point(x=321.1826477050781, y=186.10935974121097), apriltag_msgs.msg.Point(x=321.05401611328125, y=165.68884277343747), apriltag_msgs.msg.Point(x=300.90603637695307, y=165.84802246093747), apriltag_msgs.msg.Point(x=301.0301208496093, y=186.06149291992185)], homography=array([-3.80170664e-02,  8.49016741e+00,  3.10991861e+02, -1.01440047e+01,\n",
      "       -9.24289843e-01,  1.75926250e+02,  8.08767293e-05, -5.09562375e-03,\n",
      "        1.00000000e+00])), apriltag_msgs.msg.AprilTagDetection(family='tag36h11', id=3, hamming=0, goodness=0.0, decision_margin=67.95487976074219, centre=apriltag_msgs.msg.Point(x=143.63054090701175, y=173.3569013940378), corners=[apriltag_msgs.msg.Point(x=182.1328582763672, y=134.07746887207034), apriltag_msgs.msg.Point(x=103.13464355468749, y=133.94833374023438), apriltag_msgs.msg.Point(x=105.16831970214844, y=212.59542846679688), apriltag_msgs.msg.Point(x=183.53684997558594, y=212.19171142578122)], homography=array([-3.98298070e+01, -1.42237528e+00,  1.43630541e+02, -5.20763094e-01,\n",
      "       -3.98700459e+01,  1.73356901e+02, -3.40600852e-03, -3.92697785e-03,\n",
      "        1.00000000e+00]))])\n",
      "---\n",
      "sensor_msgs.msg.CameraInfo(header=std_msgs.msg.Header(stamp=builtin_interfaces.msg.Time(sec=1697911413, nanosec=495530676), frame_id='camera'), height=432, width=768, distortion_model='plumb_bob', d=[-0.049922, 0.049023, 0.002386, -0.004925, 0.0], k=array([491.08741,   0.     , 372.63814,   0.     , 490.2843 , 221.30161,\n",
      "         0.     ,   0.     ,   1.     ]), r=array([1., 0., 0., 0., 1., 0., 0., 0., 1.]), p=array([487.56742,   0.     , 368.28725,   0.     ,   0.     , 489.20578,\n",
      "       222.56956,   0.     ,   0.     ,   0.     ,   1.     ,   0.     ]), binning_x=0, binning_y=0, roi=sensor_msgs.msg.RegionOfInterest(x_offset=0, y_offset=0, height=0, width=0, do_rectify=False))\n"
     ]
    }
   ],
   "source": [
    "# Extract detections and odometry messages\n",
    "f_deserialize_msg = lambda msg: deserialize_message(msg[1], msg_type_table[msg[0]])\n",
    "def get_first_msg_of_topic(topic):\n",
    "    return next(deserialize_message(msg[1], msg_type_table[msg[0]]) for msg in msgs if msg[0] == topic)\n",
    "\n",
    "example_odom_data = get_first_msg_of_topic(\"/odom\")\n",
    "example_detections_data = get_first_msg_of_topic(\"/detections\")\n",
    "example_camera_info_data = get_first_msg_of_topic(\"/camera/camera_info\")\n",
    "\n",
    "print(example_odom_data)\n",
    "print(\"---\")\n",
    "print(example_detections_data)\n",
    "print(\"---\")\n",
    "print(example_camera_info_data)"
   ]
  },
  {
   "cell_type": "code",
   "execution_count": 8,
   "id": "b3352b16-9d61-4ad1-9f00-106ca7ff12c8",
   "metadata": {},
   "outputs": [],
   "source": [
    "import symforce.symbolic as sf\n",
    "# Get the example messages into np form to play around with them\n",
    "example_corners = np.array([\n",
    "    np.array([corner.x, corner.y])\n",
    "    for corner in example_detections_data.detections[0].corners\n",
    "])\n",
    "\n",
    "camera_K = np.reshape(example_camera_info_data.k, (3, 3))\n",
    "focal_length = [camera_K[0, 0], camera_K[1, 1]]\n",
    "principal_point = [camera_K[0, 2], camera_K[1, 2]]\n",
    "camera_cal = sf.LinearCameraCal(focal_length=focal_length, principal_point = principal_point)"
   ]
  },
  {
   "cell_type": "code",
   "execution_count": 249,
   "id": "8f405cf2-0d8f-4645-a580-ce3c1b01809b",
   "metadata": {},
   "outputs": [],
   "source": [
    "## Phase 1: Integrate odometry using Symforce?\n",
    "# Define the odometry residual function?\n",
    "from symforce.codegen.geo_factors_codegen import prior_factor, between_factor\n",
    "\n",
    "def residual_between(pose_1: sf.Pose3, pose_2: sf.Pose3, rdelta_measured: sf.Pose3, epsilon: sf.Scalar):\n",
    "    # Compute the expected body-frame displacement\n",
    "    # pose_1 * rdelta = pose_2\n",
    "    rdelta_expected = pose_1.inverse() * pose_2\n",
    "\n",
    "    # The \"error\": rdelta_expected ⊟ rdelta_measured\n",
    "    error = rdelta_measured.local_coordinates(rdelta_expected, epsilon)\n",
    "    return error\n",
    "\n",
    "R_robot_cam = sf.Rot3.from_yaw_pitch_roll(-np.pi/2, 0, -np.pi/2)\n",
    "t_robot_cam = sf.Vector3([-0.1016, 0, 0.0889])\n",
    "g_robot_cam = sf.Pose3(R_robot_cam, t_robot_cam)\n",
    "def get_tag_corner_residual(i_corner: np.int_):\n",
    "    ## Get the position of the tags in the camera frame\n",
    "    # Define the displacements from the tag center to each tag corner\n",
    "    R = sf.Rot3.identity()\n",
    "    w = 0.203\n",
    "    # Corner order: start in bottom left (-x, -y) and go ccw\n",
    "    g_tag_c1 = sf.Pose3(R, sf.Vector3([-w/2, w/2, 0]))\n",
    "    g_tag_c2 = sf.Pose3(R, sf.Vector3([w/2, w/2, 0]))\n",
    "    g_tag_c3 = sf.Pose3(R, sf.Vector3([w/2, -w/2, 0]))\n",
    "    g_tag_c4 = sf.Pose3(R, sf.Vector3([-w/2, -w/2, 0]))\n",
    "    g_tag_corners = [g_tag_c1, g_tag_c2, g_tag_c3, g_tag_c4]\n",
    "    g_tag_ci = g_tag_corners[i_corner]\n",
    "\n",
    "    def residual_tag_obs(robot_pose: sf.Pose3, tag_pose: sf.Pose3, corners_px_measured: sf.M12, epsilon: sf.Scalar):\n",
    "        # Measure the error between the expected pixel coordinates of the tag corners\n",
    "        # versus the actual measured ones.\n",
    "        camera_pose = robot_pose * g_robot_cam\n",
    "\n",
    "        # Compute the expected tag corner positions in the camera frame\n",
    "        # based on the hypothesized camera and tag poses.\n",
    "        g_cam_tag = camera_pose.inverse() * tag_pose\n",
    "        g_cam_corner = g_cam_tag * g_tag_ci\n",
    "    \n",
    "        # Project the tag corner positions into the camera frame using the camera model\n",
    "        corners_px_expected = camera_cal.pixel_from_camera_point(g_cam_corner.t, epsilon)[0]\n",
    "    \n",
    "        return corners_px_measured.T - corners_px_expected\n",
    "    return residual_tag_obs\n",
    "    "
   ]
  },
  {
   "cell_type": "code",
   "execution_count": 250,
   "id": "669202b1-1f3f-40b7-aa37-7db3066f3cc9",
   "metadata": {},
   "outputs": [],
   "source": [
    "from symforce.opt.factor import Factor\n",
    "from symforce.values import Values\n",
    "\n",
    "start_factor = 300\n",
    "n_factors = 20\n",
    "tag_ids = [0, 1, 2, 3, 4, 5]\n",
    "\n",
    "# Supporting functions\n",
    "def pose3_msg_to_sf(msg):\n",
    "    q_xyz = [msg.orientation.x, msg.orientation.y, msg.orientation.z]\n",
    "    w = msg.orientation.w\n",
    "    quat = sf.Quaternion(xyz=sf.Vector3(q_xyz), w=w)\n",
    "    R = sf.Rot3(quat)\n",
    "\n",
    "    posn = [msg.position.x, msg.position.y, msg.position.z]\n",
    "    t = sf.Vector3(posn)\n",
    "    return sf.Pose3(R, t)\n",
    "\n",
    "## Initialize storage vars\n",
    "factors = []\n",
    "# Store odometry sensor data\n",
    "i_pose = 0\n",
    "odoms = []\n",
    "poses = [sf.Pose3.identity()]\n",
    "last_pose = sf.Pose3.identity()\n",
    "# Store tag detections\n",
    "n_detections = [0 for id in tag_ids]\n",
    "detections = [[] for id in tag_ids]\n",
    "last_odom_time = 0\n",
    "for i in range(start_factor, start_factor + n_factors):\n",
    "    topic, bdata, time = msgs_no_cam[i]\n",
    "    data = f_deserialize_msg(msgs_no_cam[i])\n",
    "\n",
    "    if topic == \"/odom\":\n",
    "        ## Add a between-factor to the factor graph\n",
    "        factors.append(Factor(\n",
    "            residual=residual_between,\n",
    "            keys=[f\"poses[{i_pose}]\", f\"poses[{i_pose+1}]\", f\"odoms[{i_pose}]\", \"epsilon\"]\n",
    "        ))\n",
    "\n",
    "        ## Record the sensor data into the list of displacements\n",
    "        pose = pose3_msg_to_sf(data.pose.pose)\n",
    "        if i_pose == 0:\n",
    "            # If first displacement measurement, simply record 0\n",
    "            odoms.append(sf.Pose3.identity())\n",
    "            poses.append(sf.Pose3.identity())\n",
    "        else:\n",
    "            # Otherwise, record the displacement from the last pose\n",
    "            # last_pose * delta = pose\n",
    "            # => delta = inv(last_pose) * pose\n",
    "            delta = last_pose.inverse() * pose\n",
    "            odoms.append(delta)\n",
    "            poses.append(poses[-1] * delta)\n",
    "        \n",
    "        last_pose = pose\n",
    "        i_pose = i_pose + 1\n",
    "        last_odom_time = time\n",
    "        \n",
    "    elif topic == \"/detections\" and (time - last_odom_time) * 1e-9 < 0.02:\n",
    "        for detection in data.detections:\n",
    "            tag_id = detection.id\n",
    "            \n",
    "            corners_i = []\n",
    "            for i, corner in enumerate(detection.corners):\n",
    "                factors.append(Factor(\n",
    "                    residual=get_tag_corner_residual(i),\n",
    "                    keys=[\n",
    "                        f\"poses[{i_pose}]\",\n",
    "                        f\"tag_poses[{tag_id}]\",\n",
    "                        f\"detections[{tag_id}][{n_detections[tag_id]}][{i}]\",\n",
    "                        \"epsilon\"\n",
    "                    ]\n",
    "                ))\n",
    "\n",
    "                corners_i.append(sf.M12([corner.x, corner.y]))\n",
    "            detections[tag_id].append(corners_i)\n",
    "            # Count a new detection for this tag\n",
    "            n_detections[tag_id] += 1\n",
    "\n",
    "n_poses = i_pose + 1\n",
    "initial_poses = poses\n",
    "#initial_tag_poses = [[sf.Pose3.identity()] * n_detections[id] for id in tag_ids]\n",
    "initial_tag_poses = [sf.Pose3.identity()] * len(tag_ids)\n",
    "\n",
    "for i, detection_list in enumerate(detections):\n",
    "    if n_detections[i] == 0:\n",
    "        detections[i] = [[0]]\n",
    "        initial_tag_poses[i] = sf.Pose3.identity()\n",
    "\n",
    "initial_values = Values(\n",
    "    poses = initial_poses,\n",
    "    odoms = odoms,\n",
    "    detections = detections,\n",
    "    tag_poses = initial_tag_poses,\n",
    "    epsilon = sf.numeric_epsilon\n",
    ")"
   ]
  },
  {
   "cell_type": "code",
   "execution_count": 251,
   "id": "32ddcab0-80ac-4b80-a832-89b376db64cb",
   "metadata": {},
   "outputs": [
    {
     "name": "stdout",
     "output_type": "stream",
     "text": [
      "[2023-11-09 22:38:26.253] [info] LM<sym::Optimize> [iter    0] lambda: 1.000e+00, error prev/linear/new: 8.769e+11/0.000e+00/1.018e+33, rel reduction: -1.16063e+21\n",
      "[2023-11-09 22:38:26.256] [info] LM<sym::Optimize> [iter    1] lambda: 4.000e+00, error prev/linear/new: 8.769e+11/0.000e+00/1.030e+33, rel reduction: -1.17432e+21\n",
      "[2023-11-09 22:38:26.258] [info] LM<sym::Optimize> [iter    2] lambda: 1.600e+01, error prev/linear/new: 8.769e+11/0.000e+00/1.037e+33, rel reduction: -1.18212e+21\n",
      "[2023-11-09 22:38:26.260] [info] LM<sym::Optimize> [iter    3] lambda: 6.400e+01, error prev/linear/new: 8.769e+11/0.000e+00/1.039e+33, rel reduction: -1.18476e+21\n",
      "[2023-11-09 22:38:26.261] [info] LM<sym::Optimize> [iter    4] lambda: 2.560e+02, error prev/linear/new: 8.769e+11/0.000e+00/1.040e+33, rel reduction: -1.18544e+21\n",
      "[2023-11-09 22:38:26.263] [info] LM<sym::Optimize> [iter    5] lambda: 1.024e+03, error prev/linear/new: 8.769e+11/0.000e+00/1.040e+33, rel reduction: -1.18602e+21\n",
      "[2023-11-09 22:38:26.266] [info] LM<sym::Optimize> [iter    6] lambda: 4.096e+03, error prev/linear/new: 8.769e+11/0.000e+00/1.041e+33, rel reduction: -1.18750e+21\n",
      "[2023-11-09 22:38:26.270] [info] LM<sym::Optimize> [iter    7] lambda: 1.638e+04, error prev/linear/new: 8.769e+11/0.000e+00/1.046e+33, rel reduction: -1.19302e+21\n",
      "[2023-11-09 22:38:26.275] [info] LM<sym::Optimize> [iter    8] lambda: 6.554e+04, error prev/linear/new: 8.769e+11/0.000e+00/1.063e+33, rel reduction: -1.21229e+21\n",
      "[2023-11-09 22:38:26.280] [info] LM<sym::Optimize> [iter    9] lambda: 2.621e+05, error prev/linear/new: 8.769e+11/0.000e+00/1.108e+33, rel reduction: -1.26358e+21\n",
      "[2023-11-09 22:38:26.285] [info] LM<sym::Optimize> [iter   10] lambda: 1.000e+06, error prev/linear/new: 8.769e+11/0.000e+00/1.185e+33, rel reduction: -1.35170e+21\n"
     ]
    }
   ],
   "source": [
    "from symforce.opt.optimizer import Optimizer\n",
    "\n",
    "pose_keys = [f\"poses[{i}]\" for i in range(n_poses)]\n",
    "tag_keys = [f\"tag_poses[{tag_id}]\" for tag_id in tag_ids if n_detections[tag_id] != 0]\n",
    "\n",
    "optimizer = Optimizer(\n",
    "    factors=factors,\n",
    "    optimized_keys=pose_keys+tag_keys,\n",
    "    # So that we save more information about each iteration, to visualize later:\n",
    "    debug_stats=True,\n",
    ")\n",
    "result = optimizer.optimize(initial_values)"
   ]
  },
  {
   "cell_type": "code",
   "execution_count": 252,
   "id": "6c52ec53-cd3d-43af-8abf-3adf3e93cacb",
   "metadata": {},
   "outputs": [
    {
     "data": {
      "application/vnd.plotly.v1+json": {
       "config": {
        "plotlyServerURL": "https://plot.ly"
       },
       "data": [
        {
         "name": "initial",
         "type": "scatter3d",
         "x": [
          0,
          0
         ],
         "y": [
          0,
          0
         ],
         "z": [
          0,
          0
         ]
        },
        {
         "name": "optimized",
         "type": "scatter3d",
         "x": [
          0,
          0
         ],
         "y": [
          0,
          0
         ],
         "z": [
          0,
          0
         ]
        },
        {
         "marker": {
          "color": "black"
         },
         "mode": "markers",
         "name": "tags",
         "text": [
          "tag 0",
          "tag 1",
          "tag 2",
          "tag 3",
          "tag 4",
          "tag 5"
         ],
         "type": "scatter3d",
         "x": [
          0,
          0,
          0,
          0,
          0,
          0
         ],
         "y": [
          0,
          0,
          0,
          0,
          0,
          0
         ],
         "z": [
          0,
          0,
          0,
          0,
          0,
          0
         ]
        }
       ],
       "layout": {
        "height": 800,
        "scene": {
         "aspectmode": "data",
         "aspectratio": {
          "x": 1,
          "y": 1,
          "z": 1
         },
         "zaxis": {
          "range": [
           -0.25,
           0.25
          ],
          "type": "linear"
         }
        },
        "template": {
         "data": {
          "bar": [
           {
            "error_x": {
             "color": "#2a3f5f"
            },
            "error_y": {
             "color": "#2a3f5f"
            },
            "marker": {
             "line": {
              "color": "#E5ECF6",
              "width": 0.5
             },
             "pattern": {
              "fillmode": "overlay",
              "size": 10,
              "solidity": 0.2
             }
            },
            "type": "bar"
           }
          ],
          "barpolar": [
           {
            "marker": {
             "line": {
              "color": "#E5ECF6",
              "width": 0.5
             },
             "pattern": {
              "fillmode": "overlay",
              "size": 10,
              "solidity": 0.2
             }
            },
            "type": "barpolar"
           }
          ],
          "carpet": [
           {
            "aaxis": {
             "endlinecolor": "#2a3f5f",
             "gridcolor": "white",
             "linecolor": "white",
             "minorgridcolor": "white",
             "startlinecolor": "#2a3f5f"
            },
            "baxis": {
             "endlinecolor": "#2a3f5f",
             "gridcolor": "white",
             "linecolor": "white",
             "minorgridcolor": "white",
             "startlinecolor": "#2a3f5f"
            },
            "type": "carpet"
           }
          ],
          "choropleth": [
           {
            "colorbar": {
             "outlinewidth": 0,
             "ticks": ""
            },
            "type": "choropleth"
           }
          ],
          "contour": [
           {
            "colorbar": {
             "outlinewidth": 0,
             "ticks": ""
            },
            "colorscale": [
             [
              0,
              "#0d0887"
             ],
             [
              0.1111111111111111,
              "#46039f"
             ],
             [
              0.2222222222222222,
              "#7201a8"
             ],
             [
              0.3333333333333333,
              "#9c179e"
             ],
             [
              0.4444444444444444,
              "#bd3786"
             ],
             [
              0.5555555555555556,
              "#d8576b"
             ],
             [
              0.6666666666666666,
              "#ed7953"
             ],
             [
              0.7777777777777778,
              "#fb9f3a"
             ],
             [
              0.8888888888888888,
              "#fdca26"
             ],
             [
              1,
              "#f0f921"
             ]
            ],
            "type": "contour"
           }
          ],
          "contourcarpet": [
           {
            "colorbar": {
             "outlinewidth": 0,
             "ticks": ""
            },
            "type": "contourcarpet"
           }
          ],
          "heatmap": [
           {
            "colorbar": {
             "outlinewidth": 0,
             "ticks": ""
            },
            "colorscale": [
             [
              0,
              "#0d0887"
             ],
             [
              0.1111111111111111,
              "#46039f"
             ],
             [
              0.2222222222222222,
              "#7201a8"
             ],
             [
              0.3333333333333333,
              "#9c179e"
             ],
             [
              0.4444444444444444,
              "#bd3786"
             ],
             [
              0.5555555555555556,
              "#d8576b"
             ],
             [
              0.6666666666666666,
              "#ed7953"
             ],
             [
              0.7777777777777778,
              "#fb9f3a"
             ],
             [
              0.8888888888888888,
              "#fdca26"
             ],
             [
              1,
              "#f0f921"
             ]
            ],
            "type": "heatmap"
           }
          ],
          "heatmapgl": [
           {
            "colorbar": {
             "outlinewidth": 0,
             "ticks": ""
            },
            "colorscale": [
             [
              0,
              "#0d0887"
             ],
             [
              0.1111111111111111,
              "#46039f"
             ],
             [
              0.2222222222222222,
              "#7201a8"
             ],
             [
              0.3333333333333333,
              "#9c179e"
             ],
             [
              0.4444444444444444,
              "#bd3786"
             ],
             [
              0.5555555555555556,
              "#d8576b"
             ],
             [
              0.6666666666666666,
              "#ed7953"
             ],
             [
              0.7777777777777778,
              "#fb9f3a"
             ],
             [
              0.8888888888888888,
              "#fdca26"
             ],
             [
              1,
              "#f0f921"
             ]
            ],
            "type": "heatmapgl"
           }
          ],
          "histogram": [
           {
            "marker": {
             "pattern": {
              "fillmode": "overlay",
              "size": 10,
              "solidity": 0.2
             }
            },
            "type": "histogram"
           }
          ],
          "histogram2d": [
           {
            "colorbar": {
             "outlinewidth": 0,
             "ticks": ""
            },
            "colorscale": [
             [
              0,
              "#0d0887"
             ],
             [
              0.1111111111111111,
              "#46039f"
             ],
             [
              0.2222222222222222,
              "#7201a8"
             ],
             [
              0.3333333333333333,
              "#9c179e"
             ],
             [
              0.4444444444444444,
              "#bd3786"
             ],
             [
              0.5555555555555556,
              "#d8576b"
             ],
             [
              0.6666666666666666,
              "#ed7953"
             ],
             [
              0.7777777777777778,
              "#fb9f3a"
             ],
             [
              0.8888888888888888,
              "#fdca26"
             ],
             [
              1,
              "#f0f921"
             ]
            ],
            "type": "histogram2d"
           }
          ],
          "histogram2dcontour": [
           {
            "colorbar": {
             "outlinewidth": 0,
             "ticks": ""
            },
            "colorscale": [
             [
              0,
              "#0d0887"
             ],
             [
              0.1111111111111111,
              "#46039f"
             ],
             [
              0.2222222222222222,
              "#7201a8"
             ],
             [
              0.3333333333333333,
              "#9c179e"
             ],
             [
              0.4444444444444444,
              "#bd3786"
             ],
             [
              0.5555555555555556,
              "#d8576b"
             ],
             [
              0.6666666666666666,
              "#ed7953"
             ],
             [
              0.7777777777777778,
              "#fb9f3a"
             ],
             [
              0.8888888888888888,
              "#fdca26"
             ],
             [
              1,
              "#f0f921"
             ]
            ],
            "type": "histogram2dcontour"
           }
          ],
          "mesh3d": [
           {
            "colorbar": {
             "outlinewidth": 0,
             "ticks": ""
            },
            "type": "mesh3d"
           }
          ],
          "parcoords": [
           {
            "line": {
             "colorbar": {
              "outlinewidth": 0,
              "ticks": ""
             }
            },
            "type": "parcoords"
           }
          ],
          "pie": [
           {
            "automargin": true,
            "type": "pie"
           }
          ],
          "scatter": [
           {
            "fillpattern": {
             "fillmode": "overlay",
             "size": 10,
             "solidity": 0.2
            },
            "type": "scatter"
           }
          ],
          "scatter3d": [
           {
            "line": {
             "colorbar": {
              "outlinewidth": 0,
              "ticks": ""
             }
            },
            "marker": {
             "colorbar": {
              "outlinewidth": 0,
              "ticks": ""
             }
            },
            "type": "scatter3d"
           }
          ],
          "scattercarpet": [
           {
            "marker": {
             "colorbar": {
              "outlinewidth": 0,
              "ticks": ""
             }
            },
            "type": "scattercarpet"
           }
          ],
          "scattergeo": [
           {
            "marker": {
             "colorbar": {
              "outlinewidth": 0,
              "ticks": ""
             }
            },
            "type": "scattergeo"
           }
          ],
          "scattergl": [
           {
            "marker": {
             "colorbar": {
              "outlinewidth": 0,
              "ticks": ""
             }
            },
            "type": "scattergl"
           }
          ],
          "scattermapbox": [
           {
            "marker": {
             "colorbar": {
              "outlinewidth": 0,
              "ticks": ""
             }
            },
            "type": "scattermapbox"
           }
          ],
          "scatterpolar": [
           {
            "marker": {
             "colorbar": {
              "outlinewidth": 0,
              "ticks": ""
             }
            },
            "type": "scatterpolar"
           }
          ],
          "scatterpolargl": [
           {
            "marker": {
             "colorbar": {
              "outlinewidth": 0,
              "ticks": ""
             }
            },
            "type": "scatterpolargl"
           }
          ],
          "scatterternary": [
           {
            "marker": {
             "colorbar": {
              "outlinewidth": 0,
              "ticks": ""
             }
            },
            "type": "scatterternary"
           }
          ],
          "surface": [
           {
            "colorbar": {
             "outlinewidth": 0,
             "ticks": ""
            },
            "colorscale": [
             [
              0,
              "#0d0887"
             ],
             [
              0.1111111111111111,
              "#46039f"
             ],
             [
              0.2222222222222222,
              "#7201a8"
             ],
             [
              0.3333333333333333,
              "#9c179e"
             ],
             [
              0.4444444444444444,
              "#bd3786"
             ],
             [
              0.5555555555555556,
              "#d8576b"
             ],
             [
              0.6666666666666666,
              "#ed7953"
             ],
             [
              0.7777777777777778,
              "#fb9f3a"
             ],
             [
              0.8888888888888888,
              "#fdca26"
             ],
             [
              1,
              "#f0f921"
             ]
            ],
            "type": "surface"
           }
          ],
          "table": [
           {
            "cells": {
             "fill": {
              "color": "#EBF0F8"
             },
             "line": {
              "color": "white"
             }
            },
            "header": {
             "fill": {
              "color": "#C8D4E3"
             },
             "line": {
              "color": "white"
             }
            },
            "type": "table"
           }
          ]
         },
         "layout": {
          "annotationdefaults": {
           "arrowcolor": "#2a3f5f",
           "arrowhead": 0,
           "arrowwidth": 1
          },
          "autotypenumbers": "strict",
          "coloraxis": {
           "colorbar": {
            "outlinewidth": 0,
            "ticks": ""
           }
          },
          "colorscale": {
           "diverging": [
            [
             0,
             "#8e0152"
            ],
            [
             0.1,
             "#c51b7d"
            ],
            [
             0.2,
             "#de77ae"
            ],
            [
             0.3,
             "#f1b6da"
            ],
            [
             0.4,
             "#fde0ef"
            ],
            [
             0.5,
             "#f7f7f7"
            ],
            [
             0.6,
             "#e6f5d0"
            ],
            [
             0.7,
             "#b8e186"
            ],
            [
             0.8,
             "#7fbc41"
            ],
            [
             0.9,
             "#4d9221"
            ],
            [
             1,
             "#276419"
            ]
           ],
           "sequential": [
            [
             0,
             "#0d0887"
            ],
            [
             0.1111111111111111,
             "#46039f"
            ],
            [
             0.2222222222222222,
             "#7201a8"
            ],
            [
             0.3333333333333333,
             "#9c179e"
            ],
            [
             0.4444444444444444,
             "#bd3786"
            ],
            [
             0.5555555555555556,
             "#d8576b"
            ],
            [
             0.6666666666666666,
             "#ed7953"
            ],
            [
             0.7777777777777778,
             "#fb9f3a"
            ],
            [
             0.8888888888888888,
             "#fdca26"
            ],
            [
             1,
             "#f0f921"
            ]
           ],
           "sequentialminus": [
            [
             0,
             "#0d0887"
            ],
            [
             0.1111111111111111,
             "#46039f"
            ],
            [
             0.2222222222222222,
             "#7201a8"
            ],
            [
             0.3333333333333333,
             "#9c179e"
            ],
            [
             0.4444444444444444,
             "#bd3786"
            ],
            [
             0.5555555555555556,
             "#d8576b"
            ],
            [
             0.6666666666666666,
             "#ed7953"
            ],
            [
             0.7777777777777778,
             "#fb9f3a"
            ],
            [
             0.8888888888888888,
             "#fdca26"
            ],
            [
             1,
             "#f0f921"
            ]
           ]
          },
          "colorway": [
           "#636efa",
           "#EF553B",
           "#00cc96",
           "#ab63fa",
           "#FFA15A",
           "#19d3f3",
           "#FF6692",
           "#B6E880",
           "#FF97FF",
           "#FECB52"
          ],
          "font": {
           "color": "#2a3f5f"
          },
          "geo": {
           "bgcolor": "white",
           "lakecolor": "white",
           "landcolor": "#E5ECF6",
           "showlakes": true,
           "showland": true,
           "subunitcolor": "white"
          },
          "hoverlabel": {
           "align": "left"
          },
          "hovermode": "closest",
          "mapbox": {
           "style": "light"
          },
          "paper_bgcolor": "white",
          "plot_bgcolor": "#E5ECF6",
          "polar": {
           "angularaxis": {
            "gridcolor": "white",
            "linecolor": "white",
            "ticks": ""
           },
           "bgcolor": "#E5ECF6",
           "radialaxis": {
            "gridcolor": "white",
            "linecolor": "white",
            "ticks": ""
           }
          },
          "scene": {
           "xaxis": {
            "backgroundcolor": "#E5ECF6",
            "gridcolor": "white",
            "gridwidth": 2,
            "linecolor": "white",
            "showbackground": true,
            "ticks": "",
            "zerolinecolor": "white"
           },
           "yaxis": {
            "backgroundcolor": "#E5ECF6",
            "gridcolor": "white",
            "gridwidth": 2,
            "linecolor": "white",
            "showbackground": true,
            "ticks": "",
            "zerolinecolor": "white"
           },
           "zaxis": {
            "backgroundcolor": "#E5ECF6",
            "gridcolor": "white",
            "gridwidth": 2,
            "linecolor": "white",
            "showbackground": true,
            "ticks": "",
            "zerolinecolor": "white"
           }
          },
          "shapedefaults": {
           "line": {
            "color": "#2a3f5f"
           }
          },
          "ternary": {
           "aaxis": {
            "gridcolor": "white",
            "linecolor": "white",
            "ticks": ""
           },
           "baxis": {
            "gridcolor": "white",
            "linecolor": "white",
            "ticks": ""
           },
           "bgcolor": "#E5ECF6",
           "caxis": {
            "gridcolor": "white",
            "linecolor": "white",
            "ticks": ""
           }
          },
          "title": {
           "x": 0.05
          },
          "xaxis": {
           "automargin": true,
           "gridcolor": "white",
           "linecolor": "white",
           "ticks": "",
           "title": {
            "standoff": 15
           },
           "zerolinecolor": "white",
           "zerolinewidth": 2
          },
          "yaxis": {
           "automargin": true,
           "gridcolor": "white",
           "linecolor": "white",
           "ticks": "",
           "title": {
            "standoff": 15
           },
           "zerolinecolor": "white",
           "zerolinewidth": 2
          }
         }
        },
        "width": 800
       }
      },
      "text/html": [
       "<div>                            <div id=\"123669e0-eda5-406d-9c1e-f0adf912885d\" class=\"plotly-graph-div\" style=\"height:800px; width:800px;\"></div>            <script type=\"text/javascript\">                require([\"plotly\"], function(Plotly) {                    window.PLOTLYENV=window.PLOTLYENV || {};                                    if (document.getElementById(\"123669e0-eda5-406d-9c1e-f0adf912885d\")) {                    Plotly.newPlot(                        \"123669e0-eda5-406d-9c1e-f0adf912885d\",                        [{\"name\":\"initial\",\"x\":[0.0,0.0],\"y\":[0.0,0.0],\"z\":[0.0,0.0],\"type\":\"scatter3d\"},{\"name\":\"optimized\",\"x\":[0.0,0.0],\"y\":[0.0,0.0],\"z\":[0.0,0.0],\"type\":\"scatter3d\"},{\"marker\":{\"color\":\"black\"},\"mode\":\"markers\",\"name\":\"tags\",\"text\":[\"tag 0\",\"tag 1\",\"tag 2\",\"tag 3\",\"tag 4\",\"tag 5\"],\"x\":[0.0,0.0,0.0,0.0,0.0,0.0],\"y\":[0.0,0.0,0.0,0.0,0.0,0.0],\"z\":[0.0,0.0,0.0,0.0,0.0,0.0],\"type\":\"scatter3d\"}],                        {\"template\":{\"data\":{\"histogram2dcontour\":[{\"type\":\"histogram2dcontour\",\"colorbar\":{\"outlinewidth\":0,\"ticks\":\"\"},\"colorscale\":[[0.0,\"#0d0887\"],[0.1111111111111111,\"#46039f\"],[0.2222222222222222,\"#7201a8\"],[0.3333333333333333,\"#9c179e\"],[0.4444444444444444,\"#bd3786\"],[0.5555555555555556,\"#d8576b\"],[0.6666666666666666,\"#ed7953\"],[0.7777777777777778,\"#fb9f3a\"],[0.8888888888888888,\"#fdca26\"],[1.0,\"#f0f921\"]]}],\"choropleth\":[{\"type\":\"choropleth\",\"colorbar\":{\"outlinewidth\":0,\"ticks\":\"\"}}],\"histogram2d\":[{\"type\":\"histogram2d\",\"colorbar\":{\"outlinewidth\":0,\"ticks\":\"\"},\"colorscale\":[[0.0,\"#0d0887\"],[0.1111111111111111,\"#46039f\"],[0.2222222222222222,\"#7201a8\"],[0.3333333333333333,\"#9c179e\"],[0.4444444444444444,\"#bd3786\"],[0.5555555555555556,\"#d8576b\"],[0.6666666666666666,\"#ed7953\"],[0.7777777777777778,\"#fb9f3a\"],[0.8888888888888888,\"#fdca26\"],[1.0,\"#f0f921\"]]}],\"heatmap\":[{\"type\":\"heatmap\",\"colorbar\":{\"outlinewidth\":0,\"ticks\":\"\"},\"colorscale\":[[0.0,\"#0d0887\"],[0.1111111111111111,\"#46039f\"],[0.2222222222222222,\"#7201a8\"],[0.3333333333333333,\"#9c179e\"],[0.4444444444444444,\"#bd3786\"],[0.5555555555555556,\"#d8576b\"],[0.6666666666666666,\"#ed7953\"],[0.7777777777777778,\"#fb9f3a\"],[0.8888888888888888,\"#fdca26\"],[1.0,\"#f0f921\"]]}],\"heatmapgl\":[{\"type\":\"heatmapgl\",\"colorbar\":{\"outlinewidth\":0,\"ticks\":\"\"},\"colorscale\":[[0.0,\"#0d0887\"],[0.1111111111111111,\"#46039f\"],[0.2222222222222222,\"#7201a8\"],[0.3333333333333333,\"#9c179e\"],[0.4444444444444444,\"#bd3786\"],[0.5555555555555556,\"#d8576b\"],[0.6666666666666666,\"#ed7953\"],[0.7777777777777778,\"#fb9f3a\"],[0.8888888888888888,\"#fdca26\"],[1.0,\"#f0f921\"]]}],\"contourcarpet\":[{\"type\":\"contourcarpet\",\"colorbar\":{\"outlinewidth\":0,\"ticks\":\"\"}}],\"contour\":[{\"type\":\"contour\",\"colorbar\":{\"outlinewidth\":0,\"ticks\":\"\"},\"colorscale\":[[0.0,\"#0d0887\"],[0.1111111111111111,\"#46039f\"],[0.2222222222222222,\"#7201a8\"],[0.3333333333333333,\"#9c179e\"],[0.4444444444444444,\"#bd3786\"],[0.5555555555555556,\"#d8576b\"],[0.6666666666666666,\"#ed7953\"],[0.7777777777777778,\"#fb9f3a\"],[0.8888888888888888,\"#fdca26\"],[1.0,\"#f0f921\"]]}],\"surface\":[{\"type\":\"surface\",\"colorbar\":{\"outlinewidth\":0,\"ticks\":\"\"},\"colorscale\":[[0.0,\"#0d0887\"],[0.1111111111111111,\"#46039f\"],[0.2222222222222222,\"#7201a8\"],[0.3333333333333333,\"#9c179e\"],[0.4444444444444444,\"#bd3786\"],[0.5555555555555556,\"#d8576b\"],[0.6666666666666666,\"#ed7953\"],[0.7777777777777778,\"#fb9f3a\"],[0.8888888888888888,\"#fdca26\"],[1.0,\"#f0f921\"]]}],\"mesh3d\":[{\"type\":\"mesh3d\",\"colorbar\":{\"outlinewidth\":0,\"ticks\":\"\"}}],\"scatter\":[{\"fillpattern\":{\"fillmode\":\"overlay\",\"size\":10,\"solidity\":0.2},\"type\":\"scatter\"}],\"parcoords\":[{\"type\":\"parcoords\",\"line\":{\"colorbar\":{\"outlinewidth\":0,\"ticks\":\"\"}}}],\"scatterpolargl\":[{\"type\":\"scatterpolargl\",\"marker\":{\"colorbar\":{\"outlinewidth\":0,\"ticks\":\"\"}}}],\"bar\":[{\"error_x\":{\"color\":\"#2a3f5f\"},\"error_y\":{\"color\":\"#2a3f5f\"},\"marker\":{\"line\":{\"color\":\"#E5ECF6\",\"width\":0.5},\"pattern\":{\"fillmode\":\"overlay\",\"size\":10,\"solidity\":0.2}},\"type\":\"bar\"}],\"scattergeo\":[{\"type\":\"scattergeo\",\"marker\":{\"colorbar\":{\"outlinewidth\":0,\"ticks\":\"\"}}}],\"scatterpolar\":[{\"type\":\"scatterpolar\",\"marker\":{\"colorbar\":{\"outlinewidth\":0,\"ticks\":\"\"}}}],\"histogram\":[{\"marker\":{\"pattern\":{\"fillmode\":\"overlay\",\"size\":10,\"solidity\":0.2}},\"type\":\"histogram\"}],\"scattergl\":[{\"type\":\"scattergl\",\"marker\":{\"colorbar\":{\"outlinewidth\":0,\"ticks\":\"\"}}}],\"scatter3d\":[{\"type\":\"scatter3d\",\"line\":{\"colorbar\":{\"outlinewidth\":0,\"ticks\":\"\"}},\"marker\":{\"colorbar\":{\"outlinewidth\":0,\"ticks\":\"\"}}}],\"scattermapbox\":[{\"type\":\"scattermapbox\",\"marker\":{\"colorbar\":{\"outlinewidth\":0,\"ticks\":\"\"}}}],\"scatterternary\":[{\"type\":\"scatterternary\",\"marker\":{\"colorbar\":{\"outlinewidth\":0,\"ticks\":\"\"}}}],\"scattercarpet\":[{\"type\":\"scattercarpet\",\"marker\":{\"colorbar\":{\"outlinewidth\":0,\"ticks\":\"\"}}}],\"carpet\":[{\"aaxis\":{\"endlinecolor\":\"#2a3f5f\",\"gridcolor\":\"white\",\"linecolor\":\"white\",\"minorgridcolor\":\"white\",\"startlinecolor\":\"#2a3f5f\"},\"baxis\":{\"endlinecolor\":\"#2a3f5f\",\"gridcolor\":\"white\",\"linecolor\":\"white\",\"minorgridcolor\":\"white\",\"startlinecolor\":\"#2a3f5f\"},\"type\":\"carpet\"}],\"table\":[{\"cells\":{\"fill\":{\"color\":\"#EBF0F8\"},\"line\":{\"color\":\"white\"}},\"header\":{\"fill\":{\"color\":\"#C8D4E3\"},\"line\":{\"color\":\"white\"}},\"type\":\"table\"}],\"barpolar\":[{\"marker\":{\"line\":{\"color\":\"#E5ECF6\",\"width\":0.5},\"pattern\":{\"fillmode\":\"overlay\",\"size\":10,\"solidity\":0.2}},\"type\":\"barpolar\"}],\"pie\":[{\"automargin\":true,\"type\":\"pie\"}]},\"layout\":{\"autotypenumbers\":\"strict\",\"colorway\":[\"#636efa\",\"#EF553B\",\"#00cc96\",\"#ab63fa\",\"#FFA15A\",\"#19d3f3\",\"#FF6692\",\"#B6E880\",\"#FF97FF\",\"#FECB52\"],\"font\":{\"color\":\"#2a3f5f\"},\"hovermode\":\"closest\",\"hoverlabel\":{\"align\":\"left\"},\"paper_bgcolor\":\"white\",\"plot_bgcolor\":\"#E5ECF6\",\"polar\":{\"bgcolor\":\"#E5ECF6\",\"angularaxis\":{\"gridcolor\":\"white\",\"linecolor\":\"white\",\"ticks\":\"\"},\"radialaxis\":{\"gridcolor\":\"white\",\"linecolor\":\"white\",\"ticks\":\"\"}},\"ternary\":{\"bgcolor\":\"#E5ECF6\",\"aaxis\":{\"gridcolor\":\"white\",\"linecolor\":\"white\",\"ticks\":\"\"},\"baxis\":{\"gridcolor\":\"white\",\"linecolor\":\"white\",\"ticks\":\"\"},\"caxis\":{\"gridcolor\":\"white\",\"linecolor\":\"white\",\"ticks\":\"\"}},\"coloraxis\":{\"colorbar\":{\"outlinewidth\":0,\"ticks\":\"\"}},\"colorscale\":{\"sequential\":[[0.0,\"#0d0887\"],[0.1111111111111111,\"#46039f\"],[0.2222222222222222,\"#7201a8\"],[0.3333333333333333,\"#9c179e\"],[0.4444444444444444,\"#bd3786\"],[0.5555555555555556,\"#d8576b\"],[0.6666666666666666,\"#ed7953\"],[0.7777777777777778,\"#fb9f3a\"],[0.8888888888888888,\"#fdca26\"],[1.0,\"#f0f921\"]],\"sequentialminus\":[[0.0,\"#0d0887\"],[0.1111111111111111,\"#46039f\"],[0.2222222222222222,\"#7201a8\"],[0.3333333333333333,\"#9c179e\"],[0.4444444444444444,\"#bd3786\"],[0.5555555555555556,\"#d8576b\"],[0.6666666666666666,\"#ed7953\"],[0.7777777777777778,\"#fb9f3a\"],[0.8888888888888888,\"#fdca26\"],[1.0,\"#f0f921\"]],\"diverging\":[[0,\"#8e0152\"],[0.1,\"#c51b7d\"],[0.2,\"#de77ae\"],[0.3,\"#f1b6da\"],[0.4,\"#fde0ef\"],[0.5,\"#f7f7f7\"],[0.6,\"#e6f5d0\"],[0.7,\"#b8e186\"],[0.8,\"#7fbc41\"],[0.9,\"#4d9221\"],[1,\"#276419\"]]},\"xaxis\":{\"gridcolor\":\"white\",\"linecolor\":\"white\",\"ticks\":\"\",\"title\":{\"standoff\":15},\"zerolinecolor\":\"white\",\"automargin\":true,\"zerolinewidth\":2},\"yaxis\":{\"gridcolor\":\"white\",\"linecolor\":\"white\",\"ticks\":\"\",\"title\":{\"standoff\":15},\"zerolinecolor\":\"white\",\"automargin\":true,\"zerolinewidth\":2},\"scene\":{\"xaxis\":{\"backgroundcolor\":\"#E5ECF6\",\"gridcolor\":\"white\",\"linecolor\":\"white\",\"showbackground\":true,\"ticks\":\"\",\"zerolinecolor\":\"white\",\"gridwidth\":2},\"yaxis\":{\"backgroundcolor\":\"#E5ECF6\",\"gridcolor\":\"white\",\"linecolor\":\"white\",\"showbackground\":true,\"ticks\":\"\",\"zerolinecolor\":\"white\",\"gridwidth\":2},\"zaxis\":{\"backgroundcolor\":\"#E5ECF6\",\"gridcolor\":\"white\",\"linecolor\":\"white\",\"showbackground\":true,\"ticks\":\"\",\"zerolinecolor\":\"white\",\"gridwidth\":2}},\"shapedefaults\":{\"line\":{\"color\":\"#2a3f5f\"}},\"annotationdefaults\":{\"arrowcolor\":\"#2a3f5f\",\"arrowhead\":0,\"arrowwidth\":1},\"geo\":{\"bgcolor\":\"white\",\"landcolor\":\"#E5ECF6\",\"subunitcolor\":\"white\",\"showland\":true,\"showlakes\":true,\"lakecolor\":\"white\"},\"title\":{\"x\":0.05},\"mapbox\":{\"style\":\"light\"}}},\"scene\":{\"zaxis\":{\"range\":[-0.25,0.25]},\"aspectmode\":\"data\"},\"width\":800,\"height\":800},                        {\"responsive\": true}                    ).then(function(){\n",
       "                            \n",
       "var gd = document.getElementById('123669e0-eda5-406d-9c1e-f0adf912885d');\n",
       "var x = new MutationObserver(function (mutations, observer) {{\n",
       "        var display = window.getComputedStyle(gd).display;\n",
       "        if (!display || display === 'none') {{\n",
       "            console.log([gd, 'removed!']);\n",
       "            Plotly.purge(gd);\n",
       "            observer.disconnect();\n",
       "        }}\n",
       "}});\n",
       "\n",
       "// Listen for the removal of the full notebook cells\n",
       "var notebookContainer = gd.closest('#notebook-container');\n",
       "if (notebookContainer) {{\n",
       "    x.observe(notebookContainer, {childList: true});\n",
       "}}\n",
       "\n",
       "// Listen for the clearing of the current output cell\n",
       "var outputEl = gd.closest('.output');\n",
       "if (outputEl) {{\n",
       "    x.observe(outputEl, {childList: true});\n",
       "}}\n",
       "\n",
       "                        })                };                });            </script>        </div>"
      ]
     },
     "metadata": {},
     "output_type": "display_data"
    }
   ],
   "source": [
    "import plotly.graph_objects as go\n",
    "\n",
    "robot_poses_initial = initial_poses\n",
    "robot_t_initial = np.array([pose.t for pose in robot_poses_initial], dtype=np.float32)\n",
    "\n",
    "robot_poses_optimized = result.optimized_values[\"poses\"]\n",
    "robot_t_optimized = np.array([pose.t for pose in robot_poses_optimized], dtype=np.float32)\n",
    "\n",
    "tag_poses = result.optimized_values[\"tag_poses\"]\n",
    "tag_t = np.array([pose.t for pose in tag_poses])\n",
    "\n",
    "fig = go.Figure()\n",
    "fig.add_trace(go.Scatter3d(\n",
    "    x = robot_t_initial[:, 0],\n",
    "    y = robot_t_initial[:, 1],\n",
    "    z = robot_t_initial[:, 2],\n",
    "    name=\"initial\"\n",
    "))\n",
    "\n",
    "fig.add_trace(go.Scatter3d(\n",
    "    x = robot_t_optimized[:, 0],\n",
    "    y = robot_t_optimized[:, 1],\n",
    "    z = robot_t_optimized[:, 2],\n",
    "     name=\"optimized\"\n",
    "))\n",
    "\n",
    "fig.add_trace(go.Scatter3d(\n",
    "    x = tag_t[:, 0],\n",
    "    y = tag_t[:, 1],\n",
    "    z = tag_t[:, 2],\n",
    "    mode=\"markers\",\n",
    "    name=\"tags\",\n",
    "    text=[f\"tag {i}\" for i in range(len(tag_ids))],\n",
    "    marker={\n",
    "        \"color\": \"black\"\n",
    "    }\n",
    "))\n",
    "\n",
    "fig.update_layout(width=800, height=800, scene_aspectmode=\"data\", scene=dict(\n",
    "    zaxis=dict(range=[-0.25, 0.25])\n",
    "))"
   ]
  },
  {
   "cell_type": "code",
   "execution_count": 253,
   "id": "566e1bd3-7868-4bdc-aa58-0ef599fa9eb4",
   "metadata": {},
   "outputs": [
    {
     "data": {
      "text/plain": [
       "'test.pdf'"
      ]
     },
     "execution_count": 253,
     "metadata": {},
     "output_type": "execute_result"
    }
   ],
   "source": [
    "g = symforce.opt.factor.visualize_factors(factors)\n",
    "g.render(\"test\")\n",
    "\n",
    "# TODOS:\n",
    "# 1. Initialize the pose estimates using integrated odometry measurements\n",
    "# 2. Diagram and think through how to handle tag detections coming \n",
    "#    in at a higher rate than the odometry"
   ]
  },
  {
   "cell_type": "code",
   "execution_count": 337,
   "id": "ab85c797-070d-42e8-97f3-16a9be2815b8",
   "metadata": {},
   "outputs": [],
   "source": [
    "# To debug this, we should first verify that our residual functions are correct\n",
    "# We already know that the odometry residual is correct, because even if we do not pre-integrate\n",
    "# the solver is still able to recover the integrated odometry trajectory\n",
    "\n",
    "# However, the major question is whether our tag residual function is correct. To test that,\n",
    "# we can compute the residual function's value for a loose estimate of one of the starting tags' poses\n",
    "\n",
    "# First, call the residual function on a naive guess for the tag pose\n",
    "detection_tag3 = detections[3]"
   ]
  },
  {
   "cell_type": "code",
   "execution_count": 338,
   "id": "8e4ef134-eadf-4620-86da-b9f57febb9ea",
   "metadata": {},
   "outputs": [],
   "source": [
    "import cv2 as cv\n",
    "\n",
    "w = 0.203\n",
    "objps = np.array([\n",
    "    [-w/2, w/2, 0],\n",
    "    [w/2, w/2, 0],\n",
    "    [w/2, -w/2, 0],\n",
    "    [-w/2, -w/2, 0],\n",
    "])\n",
    "imageps = np.array(detections[3][0], dtype=np.float64)\n",
    "\n",
    "pnpsoln = cv.solvePnP(objps, imageps, camera_K, np.array([]), flags=cv.SOLVEPNP_SQPNP)"
   ]
  },
  {
   "cell_type": "code",
   "execution_count": 386,
   "id": "467fb29b-5d87-42f6-a8fb-852d557796e2",
   "metadata": {},
   "outputs": [
    {
     "name": "stdout",
     "output_type": "stream",
     "text": [
      "Corner: [165.3623046875, 132.419677734375]\n",
      "\n",
      "Residual: [1.31650607149743]\n",
      "[172.048449333743]\n",
      "\n",
      "Corner: [78.6307525634766, 132.512603759766]\n",
      "\n",
      "Residual: [172.507321632748]\n",
      "[0.146446905057985]\n",
      "\n",
      "Corner: [80.6741485595703, 218.533187866211]\n",
      "\n",
      "Residual: [-1.88660464108276]\n",
      "[-168.847325682969]\n",
      "\n",
      "Corner: [167.004577636719, 218.265197753906]\n",
      "\n",
      "Residual: [-169.709969187]\n",
      "[0.120679666878829]\n",
      "\n"
     ]
    }
   ],
   "source": [
    "# Now let's try again on the new pose based on OpenCV:\n",
    "np.linalg.norm(pnpsoln[1])\n",
    "proposed_tag3_R = sf.Rot3.from_angle_axis(theta, sf.Vector3(pnpsoln[1]) / theta)\n",
    "proposed_tag3_t = sf.Vector3(pnpsoln[2])\n",
    "proposed_tag3_cam_to_tag = sf.Pose3(proposed_tag3_R, proposed_tag3_t)\n",
    "proposed_tag3_pose = g_robot_cam * proposed_tag3_cam_to_tag\n",
    "\n",
    "for detection in detection_tag2:\n",
    "    for i, corner in enumerate(detection):\n",
    "        print(f\"Corner: {corner}\")\n",
    "        f_residual_corner = get_tag_corner_residual(i)\n",
    "        res = f_residual_corner(sf.Pose3.identity(), proposed_tag3_pose, corner, 1e-6)\n",
    "        print(f\"Residual: {res}\")"
   ]
  },
  {
   "cell_type": "code",
   "execution_count": 389,
   "id": "891ec9da-06d7-407e-9c67-f4aff7e9f8b4",
   "metadata": {},
   "outputs": [
    {
     "name": "stdout",
     "output_type": "stream",
     "text": [
      "[-0.48934895 -0.61313451  1.15207061]\n",
      "[-1.09515716 -0.20912061  1.15284231]\n",
      "[-0.69137229  0.39648191  1.17046085]\n",
      "[-0.08556407 -0.00753199  1.16968916]\n",
      "[-1.31650607149743]\n",
      "[-172.048449333743]\n",
      "[-172.507321632748]\n",
      "[-0.146446905057985]\n",
      "[1.88660464108276]\n",
      "[168.847325682969]\n",
      "[169.709969187]\n",
      "[-0.120679666878829]\n",
      "\n"
     ]
    }
   ],
   "source": [
    "t_tag_corners = np.array([\n",
    "    [-w/2, w/2, 0],\n",
    "    [w/2, w/2, 0],\n",
    "    [w/2, -w/2, 0],\n",
    "    [-w/2, -w/2, 0],\n",
    "])\n",
    "\n",
    "def tag_residual(g_robot_pose, g_tag_pose, detection):\n",
    "    res = sf.Matrix11()\n",
    "    \n",
    "    R_i = sf.Rot3.identity()\n",
    "    # g_cam_tag = g_cam_world * g_world_tag\n",
    "    #           = g_world_cam^-1 * g_world_tag\n",
    "    #           = (g_world_robot * g_robot_cam)^-1 * g_world_tag\n",
    "    g_cam_tag = (g_robot_pose * g_robot_cam).inverse() * g_tag_pose\n",
    "\n",
    "    # Now use the tag pose to derive the associated corner positions\n",
    "    g_world_corners = [g_cam_tag * sf.Pose3(R_i, sf.Vector3(t_i)) for t_i in t_tag_corners]\n",
    "    t_world_corners = np.array([g_tag.t.to_numpy().squeeze() for g_tag in g_world_corners])\n",
    "\n",
    "    # Use corner positions to find expected corner pixels, and compute reprojection error\n",
    "    for i, corner in enumerate(detection):\n",
    "        t_corner_i = t_world_corners[i]\n",
    "        px_corner_i_est = camera_cal.pixel_from_camera_point(t_corner_i, 1e-6)[0]\n",
    "        print(t_corner_i)\n",
    "        res = res.col_join(px_corner_i_est - sf.Matrix12(detection[i]).T)\n",
    "\n",
    "    return res[1:]\n",
    "\n",
    "f = tag_residual(sf.Pose3.identity(), proposed_tag3_pose, detection_tag3[0])\n",
    "print(f)"
   ]
  },
  {
   "cell_type": "code",
   "execution_count": 390,
   "id": "67fa4c44-726b-4739-bff8-57b354bd3003",
   "metadata": {},
   "outputs": [],
   "source": [
    "def plot_poses(poses, text=[], axis_length=0.1, marker_size = 3, fig=go.Figure(), name=\"Poses\"):\n",
    "    # 3D matrix which stores the list of individual points to plot for each body-axis (x, y, z)\n",
    "    # For each pose: store start point (at the center of pose), end point of the body-axis, and then insert 'None' to separate lines.\n",
    "    # Note there will be a trailing 'None'.\n",
    "    numels = 3*len(poses)\n",
    "    body_points_xyz = np.zeros((3, 3, numels))\n",
    "\n",
    "    posns = np.zeros((3, len(poses)))\n",
    "    idx = 0\n",
    "    for i, pose in enumerate(poses):\n",
    "        # For each pose, compute where the x, y, and z axes will be pointing\n",
    "        posn = pose.t.to_numpy().squeeze()\n",
    "        R = pose.R.to_rotation_matrix().to_numpy()\n",
    "        posns[:, i] = posn\n",
    "        \n",
    "        for i_axis, body_points_axis in enumerate(body_points_xyz):\n",
    "            body_points_axis[:, idx] = posn\n",
    "            body_points_axis[:, idx+1] = posn + R[:, i_axis] * axis_length\n",
    "            body_points_axis[:, idx+2] = np.array([None, None, None])\n",
    "\n",
    "        idx += 3\n",
    "        \n",
    "    axis_names = [\"x\", \"y\", \"z\"]\n",
    "    axis_colors = [\"#D81B60\", \"#00BF9F\", \"#278DE6\"]\n",
    "    for i, axis in enumerate(body_points_xyz):\n",
    "        fig.add_trace(go.Scatter3d(\n",
    "            x=axis[0, :],\n",
    "            y=axis[1, :],\n",
    "            z=axis[2, :],\n",
    "            name=axis_names[i],\n",
    "            mode=\"lines+markers\",\n",
    "            legendgroup=\"poses\",\n",
    "            showlegend=False,\n",
    "            marker=dict(color=axis_colors[i], size=marker_size)\n",
    "        ))\n",
    "    \n",
    "    fig.add_trace(go.Scatter3d(\n",
    "        x=posns[0, :],\n",
    "        y=posns[1, :],\n",
    "        z=posns[2, :],\n",
    "        mode=\"markers\",\n",
    "        name=name,\n",
    "        legendgroup=\"poses\",\n",
    "        text=text,\n",
    "        marker=dict(color=\"black\", size=marker_size)\n",
    "    ))\n",
    "\n",
    "    fig.update_layout(width=800, height=800, scene_aspectmode=\"data\")\n",
    "    \n",
    "    return fig"
   ]
  },
  {
   "cell_type": "code",
   "execution_count": 391,
   "id": "5bea03d3-8ec7-4772-9275-617f0663a7f5",
   "metadata": {},
   "outputs": [
    {
     "data": {
      "application/vnd.plotly.v1+json": {
       "config": {
        "plotlyServerURL": "https://plot.ly"
       },
       "data": [
        {
         "legendgroup": "poses",
         "marker": {
          "color": "#D81B60",
          "size": 3
         },
         "mode": "lines+markers",
         "name": "x",
         "showlegend": false,
         "type": "scatter3d",
         "x": [
          0,
          0.1,
          null,
          -0.1016,
          -0.10159999999999997,
          null,
          1.0596657331509165,
          0.9111244545244992,
          null
         ],
         "y": [
          0,
          0,
          null,
          0,
          -0.1,
          null,
          0.5903606165532028,
          0.7398668846695158,
          null
         ],
         "z": [
          0,
          0,
          null,
          0.0889,
          0.0889,
          null,
          0.1972263011189171,
          -0.001795323713536634,
          null
         ]
        },
        {
         "legendgroup": "poses",
         "marker": {
          "color": "#00BF9F",
          "size": 3
         },
         "mode": "lines+markers",
         "name": "y",
         "showlegend": false,
         "type": "scatter3d",
         "x": [
          0,
          0,
          null,
          -0.1016,
          -0.10159999999999997,
          null,
          1.0596657331509165,
          1.0509866477426684,
          null
         ],
         "y": [
          0,
          0.1,
          null,
          0,
          0,
          null,
          0.5903606165532028,
          0.6403479975989116,
          null
         ],
         "z": [
          0,
          0,
          null,
          0.0889,
          -0.011099999999999999,
          null,
          0.1972263011189171,
          0.3466312414217132,
          null
         ]
        },
        {
         "legendgroup": "poses",
         "marker": {
          "color": "#278DE6",
          "size": 3
         },
         "mode": "lines+markers",
         "name": "z",
         "showlegend": false,
         "type": "scatter3d",
         "x": [
          0,
          0,
          null,
          -0.1016,
          -0.0015999999999999903,
          null,
          1.0596657331509165,
          1.3084355159491758,
          null
         ],
         "y": [
          0,
          0,
          null,
          0,
          2.2204460492503132e-17,
          null,
          0.5903606165532028,
          0.5970716898160202,
          null
         ],
         "z": [
          0,
          0.1,
          null,
          0.0889,
          0.08890000000000003,
          null,
          0.1972263011189171,
          0.053821444756720654,
          null
         ]
        },
        {
         "legendgroup": "poses",
         "marker": {
          "color": "black",
          "size": 3
         },
         "mode": "markers",
         "name": "Poses",
         "text": [
          "Robot",
          "Camera",
          "Tag"
         ],
         "type": "scatter3d",
         "x": [
          0,
          -0.1016,
          1.0596657331509165
         ],
         "y": [
          0,
          0,
          0.5903606165532028
         ],
         "z": [
          0,
          0.0889,
          0.1972263011189171
         ]
        }
       ],
       "layout": {
        "height": 800,
        "scene": {
         "aspectmode": "data",
         "aspectratio": {
          "x": 1.8774321850138358,
          "y": 1.1182648256518717,
          "z": 0.4763115103366567
         },
         "camera": {
          "center": {
           "x": 0,
           "y": 0,
           "z": 0
          },
          "eye": {
           "x": 2.4890244504345387,
           "y": 0.812920860020132,
           "z": 2.7330914853509634
          },
          "projection": {
           "type": "perspective"
          },
          "up": {
           "x": 0,
           "y": 0,
           "z": 1
          }
         }
        },
        "template": {
         "data": {
          "bar": [
           {
            "error_x": {
             "color": "#2a3f5f"
            },
            "error_y": {
             "color": "#2a3f5f"
            },
            "marker": {
             "line": {
              "color": "#E5ECF6",
              "width": 0.5
             },
             "pattern": {
              "fillmode": "overlay",
              "size": 10,
              "solidity": 0.2
             }
            },
            "type": "bar"
           }
          ],
          "barpolar": [
           {
            "marker": {
             "line": {
              "color": "#E5ECF6",
              "width": 0.5
             },
             "pattern": {
              "fillmode": "overlay",
              "size": 10,
              "solidity": 0.2
             }
            },
            "type": "barpolar"
           }
          ],
          "carpet": [
           {
            "aaxis": {
             "endlinecolor": "#2a3f5f",
             "gridcolor": "white",
             "linecolor": "white",
             "minorgridcolor": "white",
             "startlinecolor": "#2a3f5f"
            },
            "baxis": {
             "endlinecolor": "#2a3f5f",
             "gridcolor": "white",
             "linecolor": "white",
             "minorgridcolor": "white",
             "startlinecolor": "#2a3f5f"
            },
            "type": "carpet"
           }
          ],
          "choropleth": [
           {
            "colorbar": {
             "outlinewidth": 0,
             "ticks": ""
            },
            "type": "choropleth"
           }
          ],
          "contour": [
           {
            "colorbar": {
             "outlinewidth": 0,
             "ticks": ""
            },
            "colorscale": [
             [
              0,
              "#0d0887"
             ],
             [
              0.1111111111111111,
              "#46039f"
             ],
             [
              0.2222222222222222,
              "#7201a8"
             ],
             [
              0.3333333333333333,
              "#9c179e"
             ],
             [
              0.4444444444444444,
              "#bd3786"
             ],
             [
              0.5555555555555556,
              "#d8576b"
             ],
             [
              0.6666666666666666,
              "#ed7953"
             ],
             [
              0.7777777777777778,
              "#fb9f3a"
             ],
             [
              0.8888888888888888,
              "#fdca26"
             ],
             [
              1,
              "#f0f921"
             ]
            ],
            "type": "contour"
           }
          ],
          "contourcarpet": [
           {
            "colorbar": {
             "outlinewidth": 0,
             "ticks": ""
            },
            "type": "contourcarpet"
           }
          ],
          "heatmap": [
           {
            "colorbar": {
             "outlinewidth": 0,
             "ticks": ""
            },
            "colorscale": [
             [
              0,
              "#0d0887"
             ],
             [
              0.1111111111111111,
              "#46039f"
             ],
             [
              0.2222222222222222,
              "#7201a8"
             ],
             [
              0.3333333333333333,
              "#9c179e"
             ],
             [
              0.4444444444444444,
              "#bd3786"
             ],
             [
              0.5555555555555556,
              "#d8576b"
             ],
             [
              0.6666666666666666,
              "#ed7953"
             ],
             [
              0.7777777777777778,
              "#fb9f3a"
             ],
             [
              0.8888888888888888,
              "#fdca26"
             ],
             [
              1,
              "#f0f921"
             ]
            ],
            "type": "heatmap"
           }
          ],
          "heatmapgl": [
           {
            "colorbar": {
             "outlinewidth": 0,
             "ticks": ""
            },
            "colorscale": [
             [
              0,
              "#0d0887"
             ],
             [
              0.1111111111111111,
              "#46039f"
             ],
             [
              0.2222222222222222,
              "#7201a8"
             ],
             [
              0.3333333333333333,
              "#9c179e"
             ],
             [
              0.4444444444444444,
              "#bd3786"
             ],
             [
              0.5555555555555556,
              "#d8576b"
             ],
             [
              0.6666666666666666,
              "#ed7953"
             ],
             [
              0.7777777777777778,
              "#fb9f3a"
             ],
             [
              0.8888888888888888,
              "#fdca26"
             ],
             [
              1,
              "#f0f921"
             ]
            ],
            "type": "heatmapgl"
           }
          ],
          "histogram": [
           {
            "marker": {
             "pattern": {
              "fillmode": "overlay",
              "size": 10,
              "solidity": 0.2
             }
            },
            "type": "histogram"
           }
          ],
          "histogram2d": [
           {
            "colorbar": {
             "outlinewidth": 0,
             "ticks": ""
            },
            "colorscale": [
             [
              0,
              "#0d0887"
             ],
             [
              0.1111111111111111,
              "#46039f"
             ],
             [
              0.2222222222222222,
              "#7201a8"
             ],
             [
              0.3333333333333333,
              "#9c179e"
             ],
             [
              0.4444444444444444,
              "#bd3786"
             ],
             [
              0.5555555555555556,
              "#d8576b"
             ],
             [
              0.6666666666666666,
              "#ed7953"
             ],
             [
              0.7777777777777778,
              "#fb9f3a"
             ],
             [
              0.8888888888888888,
              "#fdca26"
             ],
             [
              1,
              "#f0f921"
             ]
            ],
            "type": "histogram2d"
           }
          ],
          "histogram2dcontour": [
           {
            "colorbar": {
             "outlinewidth": 0,
             "ticks": ""
            },
            "colorscale": [
             [
              0,
              "#0d0887"
             ],
             [
              0.1111111111111111,
              "#46039f"
             ],
             [
              0.2222222222222222,
              "#7201a8"
             ],
             [
              0.3333333333333333,
              "#9c179e"
             ],
             [
              0.4444444444444444,
              "#bd3786"
             ],
             [
              0.5555555555555556,
              "#d8576b"
             ],
             [
              0.6666666666666666,
              "#ed7953"
             ],
             [
              0.7777777777777778,
              "#fb9f3a"
             ],
             [
              0.8888888888888888,
              "#fdca26"
             ],
             [
              1,
              "#f0f921"
             ]
            ],
            "type": "histogram2dcontour"
           }
          ],
          "mesh3d": [
           {
            "colorbar": {
             "outlinewidth": 0,
             "ticks": ""
            },
            "type": "mesh3d"
           }
          ],
          "parcoords": [
           {
            "line": {
             "colorbar": {
              "outlinewidth": 0,
              "ticks": ""
             }
            },
            "type": "parcoords"
           }
          ],
          "pie": [
           {
            "automargin": true,
            "type": "pie"
           }
          ],
          "scatter": [
           {
            "fillpattern": {
             "fillmode": "overlay",
             "size": 10,
             "solidity": 0.2
            },
            "type": "scatter"
           }
          ],
          "scatter3d": [
           {
            "line": {
             "colorbar": {
              "outlinewidth": 0,
              "ticks": ""
             }
            },
            "marker": {
             "colorbar": {
              "outlinewidth": 0,
              "ticks": ""
             }
            },
            "type": "scatter3d"
           }
          ],
          "scattercarpet": [
           {
            "marker": {
             "colorbar": {
              "outlinewidth": 0,
              "ticks": ""
             }
            },
            "type": "scattercarpet"
           }
          ],
          "scattergeo": [
           {
            "marker": {
             "colorbar": {
              "outlinewidth": 0,
              "ticks": ""
             }
            },
            "type": "scattergeo"
           }
          ],
          "scattergl": [
           {
            "marker": {
             "colorbar": {
              "outlinewidth": 0,
              "ticks": ""
             }
            },
            "type": "scattergl"
           }
          ],
          "scattermapbox": [
           {
            "marker": {
             "colorbar": {
              "outlinewidth": 0,
              "ticks": ""
             }
            },
            "type": "scattermapbox"
           }
          ],
          "scatterpolar": [
           {
            "marker": {
             "colorbar": {
              "outlinewidth": 0,
              "ticks": ""
             }
            },
            "type": "scatterpolar"
           }
          ],
          "scatterpolargl": [
           {
            "marker": {
             "colorbar": {
              "outlinewidth": 0,
              "ticks": ""
             }
            },
            "type": "scatterpolargl"
           }
          ],
          "scatterternary": [
           {
            "marker": {
             "colorbar": {
              "outlinewidth": 0,
              "ticks": ""
             }
            },
            "type": "scatterternary"
           }
          ],
          "surface": [
           {
            "colorbar": {
             "outlinewidth": 0,
             "ticks": ""
            },
            "colorscale": [
             [
              0,
              "#0d0887"
             ],
             [
              0.1111111111111111,
              "#46039f"
             ],
             [
              0.2222222222222222,
              "#7201a8"
             ],
             [
              0.3333333333333333,
              "#9c179e"
             ],
             [
              0.4444444444444444,
              "#bd3786"
             ],
             [
              0.5555555555555556,
              "#d8576b"
             ],
             [
              0.6666666666666666,
              "#ed7953"
             ],
             [
              0.7777777777777778,
              "#fb9f3a"
             ],
             [
              0.8888888888888888,
              "#fdca26"
             ],
             [
              1,
              "#f0f921"
             ]
            ],
            "type": "surface"
           }
          ],
          "table": [
           {
            "cells": {
             "fill": {
              "color": "#EBF0F8"
             },
             "line": {
              "color": "white"
             }
            },
            "header": {
             "fill": {
              "color": "#C8D4E3"
             },
             "line": {
              "color": "white"
             }
            },
            "type": "table"
           }
          ]
         },
         "layout": {
          "annotationdefaults": {
           "arrowcolor": "#2a3f5f",
           "arrowhead": 0,
           "arrowwidth": 1
          },
          "autotypenumbers": "strict",
          "coloraxis": {
           "colorbar": {
            "outlinewidth": 0,
            "ticks": ""
           }
          },
          "colorscale": {
           "diverging": [
            [
             0,
             "#8e0152"
            ],
            [
             0.1,
             "#c51b7d"
            ],
            [
             0.2,
             "#de77ae"
            ],
            [
             0.3,
             "#f1b6da"
            ],
            [
             0.4,
             "#fde0ef"
            ],
            [
             0.5,
             "#f7f7f7"
            ],
            [
             0.6,
             "#e6f5d0"
            ],
            [
             0.7,
             "#b8e186"
            ],
            [
             0.8,
             "#7fbc41"
            ],
            [
             0.9,
             "#4d9221"
            ],
            [
             1,
             "#276419"
            ]
           ],
           "sequential": [
            [
             0,
             "#0d0887"
            ],
            [
             0.1111111111111111,
             "#46039f"
            ],
            [
             0.2222222222222222,
             "#7201a8"
            ],
            [
             0.3333333333333333,
             "#9c179e"
            ],
            [
             0.4444444444444444,
             "#bd3786"
            ],
            [
             0.5555555555555556,
             "#d8576b"
            ],
            [
             0.6666666666666666,
             "#ed7953"
            ],
            [
             0.7777777777777778,
             "#fb9f3a"
            ],
            [
             0.8888888888888888,
             "#fdca26"
            ],
            [
             1,
             "#f0f921"
            ]
           ],
           "sequentialminus": [
            [
             0,
             "#0d0887"
            ],
            [
             0.1111111111111111,
             "#46039f"
            ],
            [
             0.2222222222222222,
             "#7201a8"
            ],
            [
             0.3333333333333333,
             "#9c179e"
            ],
            [
             0.4444444444444444,
             "#bd3786"
            ],
            [
             0.5555555555555556,
             "#d8576b"
            ],
            [
             0.6666666666666666,
             "#ed7953"
            ],
            [
             0.7777777777777778,
             "#fb9f3a"
            ],
            [
             0.8888888888888888,
             "#fdca26"
            ],
            [
             1,
             "#f0f921"
            ]
           ]
          },
          "colorway": [
           "#636efa",
           "#EF553B",
           "#00cc96",
           "#ab63fa",
           "#FFA15A",
           "#19d3f3",
           "#FF6692",
           "#B6E880",
           "#FF97FF",
           "#FECB52"
          ],
          "font": {
           "color": "#2a3f5f"
          },
          "geo": {
           "bgcolor": "white",
           "lakecolor": "white",
           "landcolor": "#E5ECF6",
           "showlakes": true,
           "showland": true,
           "subunitcolor": "white"
          },
          "hoverlabel": {
           "align": "left"
          },
          "hovermode": "closest",
          "mapbox": {
           "style": "light"
          },
          "paper_bgcolor": "white",
          "plot_bgcolor": "#E5ECF6",
          "polar": {
           "angularaxis": {
            "gridcolor": "white",
            "linecolor": "white",
            "ticks": ""
           },
           "bgcolor": "#E5ECF6",
           "radialaxis": {
            "gridcolor": "white",
            "linecolor": "white",
            "ticks": ""
           }
          },
          "scene": {
           "xaxis": {
            "backgroundcolor": "#E5ECF6",
            "gridcolor": "white",
            "gridwidth": 2,
            "linecolor": "white",
            "showbackground": true,
            "ticks": "",
            "zerolinecolor": "white"
           },
           "yaxis": {
            "backgroundcolor": "#E5ECF6",
            "gridcolor": "white",
            "gridwidth": 2,
            "linecolor": "white",
            "showbackground": true,
            "ticks": "",
            "zerolinecolor": "white"
           },
           "zaxis": {
            "backgroundcolor": "#E5ECF6",
            "gridcolor": "white",
            "gridwidth": 2,
            "linecolor": "white",
            "showbackground": true,
            "ticks": "",
            "zerolinecolor": "white"
           }
          },
          "shapedefaults": {
           "line": {
            "color": "#2a3f5f"
           }
          },
          "ternary": {
           "aaxis": {
            "gridcolor": "white",
            "linecolor": "white",
            "ticks": ""
           },
           "baxis": {
            "gridcolor": "white",
            "linecolor": "white",
            "ticks": ""
           },
           "bgcolor": "#E5ECF6",
           "caxis": {
            "gridcolor": "white",
            "linecolor": "white",
            "ticks": ""
           }
          },
          "title": {
           "x": 0.05
          },
          "xaxis": {
           "automargin": true,
           "gridcolor": "white",
           "linecolor": "white",
           "ticks": "",
           "title": {
            "standoff": 15
           },
           "zerolinecolor": "white",
           "zerolinewidth": 2
          },
          "yaxis": {
           "automargin": true,
           "gridcolor": "white",
           "linecolor": "white",
           "ticks": "",
           "title": {
            "standoff": 15
           },
           "zerolinecolor": "white",
           "zerolinewidth": 2
          }
         }
        },
        "width": 800
       }
      },
      "image/png": "[encoded data removed]",
      "text/html": [
       "<div>                            <div id=\"9bfc43b9-f213-4c42-9e30-f1d3464e7390\" class=\"plotly-graph-div\" style=\"height:800px; width:800px;\"></div>            <script type=\"text/javascript\">                require([\"plotly\"], function(Plotly) {                    window.PLOTLYENV=window.PLOTLYENV || {};                                    if (document.getElementById(\"9bfc43b9-f213-4c42-9e30-f1d3464e7390\")) {                    Plotly.newPlot(                        \"9bfc43b9-f213-4c42-9e30-f1d3464e7390\",                        [{\"legendgroup\":\"poses\",\"marker\":{\"color\":\"#D81B60\",\"size\":3},\"mode\":\"lines+markers\",\"name\":\"x\",\"showlegend\":false,\"x\":[0.0,0.1,null,-0.1016,-0.10159999999999997,null,1.0596657331509165,0.9111244545244992,null],\"y\":[0.0,0.0,null,0.0,-0.1,null,0.5903606165532028,0.7398668846695158,null],\"z\":[0.0,0.0,null,0.0889,0.0889,null,0.1972263011189171,-0.001795323713536634,null],\"type\":\"scatter3d\"},{\"legendgroup\":\"poses\",\"marker\":{\"color\":\"#00BF9F\",\"size\":3},\"mode\":\"lines+markers\",\"name\":\"y\",\"showlegend\":false,\"x\":[0.0,0.0,null,-0.1016,-0.10159999999999997,null,1.0596657331509165,1.0509866477426684,null],\"y\":[0.0,0.1,null,0.0,0.0,null,0.5903606165532028,0.6403479975989116,null],\"z\":[0.0,0.0,null,0.0889,-0.011099999999999999,null,0.1972263011189171,0.3466312414217132,null],\"type\":\"scatter3d\"},{\"legendgroup\":\"poses\",\"marker\":{\"color\":\"#278DE6\",\"size\":3},\"mode\":\"lines+markers\",\"name\":\"z\",\"showlegend\":false,\"x\":[0.0,0.0,null,-0.1016,-0.0015999999999999903,null,1.0596657331509165,1.3084355159491758,null],\"y\":[0.0,0.0,null,0.0,2.2204460492503132e-17,null,0.5903606165532028,0.5970716898160202,null],\"z\":[0.0,0.1,null,0.0889,0.08890000000000003,null,0.1972263011189171,0.053821444756720654,null],\"type\":\"scatter3d\"},{\"legendgroup\":\"poses\",\"marker\":{\"color\":\"black\",\"size\":3},\"mode\":\"markers\",\"name\":\"Poses\",\"text\":[\"Robot\",\"Camera\",\"Tag\"],\"x\":[0.0,-0.1016,1.0596657331509165],\"y\":[0.0,0.0,0.5903606165532028],\"z\":[0.0,0.0889,0.1972263011189171],\"type\":\"scatter3d\"}],                        {\"template\":{\"data\":{\"histogram2dcontour\":[{\"type\":\"histogram2dcontour\",\"colorbar\":{\"outlinewidth\":0,\"ticks\":\"\"},\"colorscale\":[[0.0,\"#0d0887\"],[0.1111111111111111,\"#46039f\"],[0.2222222222222222,\"#7201a8\"],[0.3333333333333333,\"#9c179e\"],[0.4444444444444444,\"#bd3786\"],[0.5555555555555556,\"#d8576b\"],[0.6666666666666666,\"#ed7953\"],[0.7777777777777778,\"#fb9f3a\"],[0.8888888888888888,\"#fdca26\"],[1.0,\"#f0f921\"]]}],\"choropleth\":[{\"type\":\"choropleth\",\"colorbar\":{\"outlinewidth\":0,\"ticks\":\"\"}}],\"histogram2d\":[{\"type\":\"histogram2d\",\"colorbar\":{\"outlinewidth\":0,\"ticks\":\"\"},\"colorscale\":[[0.0,\"#0d0887\"],[0.1111111111111111,\"#46039f\"],[0.2222222222222222,\"#7201a8\"],[0.3333333333333333,\"#9c179e\"],[0.4444444444444444,\"#bd3786\"],[0.5555555555555556,\"#d8576b\"],[0.6666666666666666,\"#ed7953\"],[0.7777777777777778,\"#fb9f3a\"],[0.8888888888888888,\"#fdca26\"],[1.0,\"#f0f921\"]]}],\"heatmap\":[{\"type\":\"heatmap\",\"colorbar\":{\"outlinewidth\":0,\"ticks\":\"\"},\"colorscale\":[[0.0,\"#0d0887\"],[0.1111111111111111,\"#46039f\"],[0.2222222222222222,\"#7201a8\"],[0.3333333333333333,\"#9c179e\"],[0.4444444444444444,\"#bd3786\"],[0.5555555555555556,\"#d8576b\"],[0.6666666666666666,\"#ed7953\"],[0.7777777777777778,\"#fb9f3a\"],[0.8888888888888888,\"#fdca26\"],[1.0,\"#f0f921\"]]}],\"heatmapgl\":[{\"type\":\"heatmapgl\",\"colorbar\":{\"outlinewidth\":0,\"ticks\":\"\"},\"colorscale\":[[0.0,\"#0d0887\"],[0.1111111111111111,\"#46039f\"],[0.2222222222222222,\"#7201a8\"],[0.3333333333333333,\"#9c179e\"],[0.4444444444444444,\"#bd3786\"],[0.5555555555555556,\"#d8576b\"],[0.6666666666666666,\"#ed7953\"],[0.7777777777777778,\"#fb9f3a\"],[0.8888888888888888,\"#fdca26\"],[1.0,\"#f0f921\"]]}],\"contourcarpet\":[{\"type\":\"contourcarpet\",\"colorbar\":{\"outlinewidth\":0,\"ticks\":\"\"}}],\"contour\":[{\"type\":\"contour\",\"colorbar\":{\"outlinewidth\":0,\"ticks\":\"\"},\"colorscale\":[[0.0,\"#0d0887\"],[0.1111111111111111,\"#46039f\"],[0.2222222222222222,\"#7201a8\"],[0.3333333333333333,\"#9c179e\"],[0.4444444444444444,\"#bd3786\"],[0.5555555555555556,\"#d8576b\"],[0.6666666666666666,\"#ed7953\"],[0.7777777777777778,\"#fb9f3a\"],[0.8888888888888888,\"#fdca26\"],[1.0,\"#f0f921\"]]}],\"surface\":[{\"type\":\"surface\",\"colorbar\":{\"outlinewidth\":0,\"ticks\":\"\"},\"colorscale\":[[0.0,\"#0d0887\"],[0.1111111111111111,\"#46039f\"],[0.2222222222222222,\"#7201a8\"],[0.3333333333333333,\"#9c179e\"],[0.4444444444444444,\"#bd3786\"],[0.5555555555555556,\"#d8576b\"],[0.6666666666666666,\"#ed7953\"],[0.7777777777777778,\"#fb9f3a\"],[0.8888888888888888,\"#fdca26\"],[1.0,\"#f0f921\"]]}],\"mesh3d\":[{\"type\":\"mesh3d\",\"colorbar\":{\"outlinewidth\":0,\"ticks\":\"\"}}],\"scatter\":[{\"fillpattern\":{\"fillmode\":\"overlay\",\"size\":10,\"solidity\":0.2},\"type\":\"scatter\"}],\"parcoords\":[{\"type\":\"parcoords\",\"line\":{\"colorbar\":{\"outlinewidth\":0,\"ticks\":\"\"}}}],\"scatterpolargl\":[{\"type\":\"scatterpolargl\",\"marker\":{\"colorbar\":{\"outlinewidth\":0,\"ticks\":\"\"}}}],\"bar\":[{\"error_x\":{\"color\":\"#2a3f5f\"},\"error_y\":{\"color\":\"#2a3f5f\"},\"marker\":{\"line\":{\"color\":\"#E5ECF6\",\"width\":0.5},\"pattern\":{\"fillmode\":\"overlay\",\"size\":10,\"solidity\":0.2}},\"type\":\"bar\"}],\"scattergeo\":[{\"type\":\"scattergeo\",\"marker\":{\"colorbar\":{\"outlinewidth\":0,\"ticks\":\"\"}}}],\"scatterpolar\":[{\"type\":\"scatterpolar\",\"marker\":{\"colorbar\":{\"outlinewidth\":0,\"ticks\":\"\"}}}],\"histogram\":[{\"marker\":{\"pattern\":{\"fillmode\":\"overlay\",\"size\":10,\"solidity\":0.2}},\"type\":\"histogram\"}],\"scattergl\":[{\"type\":\"scattergl\",\"marker\":{\"colorbar\":{\"outlinewidth\":0,\"ticks\":\"\"}}}],\"scatter3d\":[{\"type\":\"scatter3d\",\"line\":{\"colorbar\":{\"outlinewidth\":0,\"ticks\":\"\"}},\"marker\":{\"colorbar\":{\"outlinewidth\":0,\"ticks\":\"\"}}}],\"scattermapbox\":[{\"type\":\"scattermapbox\",\"marker\":{\"colorbar\":{\"outlinewidth\":0,\"ticks\":\"\"}}}],\"scatterternary\":[{\"type\":\"scatterternary\",\"marker\":{\"colorbar\":{\"outlinewidth\":0,\"ticks\":\"\"}}}],\"scattercarpet\":[{\"type\":\"scattercarpet\",\"marker\":{\"colorbar\":{\"outlinewidth\":0,\"ticks\":\"\"}}}],\"carpet\":[{\"aaxis\":{\"endlinecolor\":\"#2a3f5f\",\"gridcolor\":\"white\",\"linecolor\":\"white\",\"minorgridcolor\":\"white\",\"startlinecolor\":\"#2a3f5f\"},\"baxis\":{\"endlinecolor\":\"#2a3f5f\",\"gridcolor\":\"white\",\"linecolor\":\"white\",\"minorgridcolor\":\"white\",\"startlinecolor\":\"#2a3f5f\"},\"type\":\"carpet\"}],\"table\":[{\"cells\":{\"fill\":{\"color\":\"#EBF0F8\"},\"line\":{\"color\":\"white\"}},\"header\":{\"fill\":{\"color\":\"#C8D4E3\"},\"line\":{\"color\":\"white\"}},\"type\":\"table\"}],\"barpolar\":[{\"marker\":{\"line\":{\"color\":\"#E5ECF6\",\"width\":0.5},\"pattern\":{\"fillmode\":\"overlay\",\"size\":10,\"solidity\":0.2}},\"type\":\"barpolar\"}],\"pie\":[{\"automargin\":true,\"type\":\"pie\"}]},\"layout\":{\"autotypenumbers\":\"strict\",\"colorway\":[\"#636efa\",\"#EF553B\",\"#00cc96\",\"#ab63fa\",\"#FFA15A\",\"#19d3f3\",\"#FF6692\",\"#B6E880\",\"#FF97FF\",\"#FECB52\"],\"font\":{\"color\":\"#2a3f5f\"},\"hovermode\":\"closest\",\"hoverlabel\":{\"align\":\"left\"},\"paper_bgcolor\":\"white\",\"plot_bgcolor\":\"#E5ECF6\",\"polar\":{\"bgcolor\":\"#E5ECF6\",\"angularaxis\":{\"gridcolor\":\"white\",\"linecolor\":\"white\",\"ticks\":\"\"},\"radialaxis\":{\"gridcolor\":\"white\",\"linecolor\":\"white\",\"ticks\":\"\"}},\"ternary\":{\"bgcolor\":\"#E5ECF6\",\"aaxis\":{\"gridcolor\":\"white\",\"linecolor\":\"white\",\"ticks\":\"\"},\"baxis\":{\"gridcolor\":\"white\",\"linecolor\":\"white\",\"ticks\":\"\"},\"caxis\":{\"gridcolor\":\"white\",\"linecolor\":\"white\",\"ticks\":\"\"}},\"coloraxis\":{\"colorbar\":{\"outlinewidth\":0,\"ticks\":\"\"}},\"colorscale\":{\"sequential\":[[0.0,\"#0d0887\"],[0.1111111111111111,\"#46039f\"],[0.2222222222222222,\"#7201a8\"],[0.3333333333333333,\"#9c179e\"],[0.4444444444444444,\"#bd3786\"],[0.5555555555555556,\"#d8576b\"],[0.6666666666666666,\"#ed7953\"],[0.7777777777777778,\"#fb9f3a\"],[0.8888888888888888,\"#fdca26\"],[1.0,\"#f0f921\"]],\"sequentialminus\":[[0.0,\"#0d0887\"],[0.1111111111111111,\"#46039f\"],[0.2222222222222222,\"#7201a8\"],[0.3333333333333333,\"#9c179e\"],[0.4444444444444444,\"#bd3786\"],[0.5555555555555556,\"#d8576b\"],[0.6666666666666666,\"#ed7953\"],[0.7777777777777778,\"#fb9f3a\"],[0.8888888888888888,\"#fdca26\"],[1.0,\"#f0f921\"]],\"diverging\":[[0,\"#8e0152\"],[0.1,\"#c51b7d\"],[0.2,\"#de77ae\"],[0.3,\"#f1b6da\"],[0.4,\"#fde0ef\"],[0.5,\"#f7f7f7\"],[0.6,\"#e6f5d0\"],[0.7,\"#b8e186\"],[0.8,\"#7fbc41\"],[0.9,\"#4d9221\"],[1,\"#276419\"]]},\"xaxis\":{\"gridcolor\":\"white\",\"linecolor\":\"white\",\"ticks\":\"\",\"title\":{\"standoff\":15},\"zerolinecolor\":\"white\",\"automargin\":true,\"zerolinewidth\":2},\"yaxis\":{\"gridcolor\":\"white\",\"linecolor\":\"white\",\"ticks\":\"\",\"title\":{\"standoff\":15},\"zerolinecolor\":\"white\",\"automargin\":true,\"zerolinewidth\":2},\"scene\":{\"xaxis\":{\"backgroundcolor\":\"#E5ECF6\",\"gridcolor\":\"white\",\"linecolor\":\"white\",\"showbackground\":true,\"ticks\":\"\",\"zerolinecolor\":\"white\",\"gridwidth\":2},\"yaxis\":{\"backgroundcolor\":\"#E5ECF6\",\"gridcolor\":\"white\",\"linecolor\":\"white\",\"showbackground\":true,\"ticks\":\"\",\"zerolinecolor\":\"white\",\"gridwidth\":2},\"zaxis\":{\"backgroundcolor\":\"#E5ECF6\",\"gridcolor\":\"white\",\"linecolor\":\"white\",\"showbackground\":true,\"ticks\":\"\",\"zerolinecolor\":\"white\",\"gridwidth\":2}},\"shapedefaults\":{\"line\":{\"color\":\"#2a3f5f\"}},\"annotationdefaults\":{\"arrowcolor\":\"#2a3f5f\",\"arrowhead\":0,\"arrowwidth\":1},\"geo\":{\"bgcolor\":\"white\",\"landcolor\":\"#E5ECF6\",\"subunitcolor\":\"white\",\"showland\":true,\"showlakes\":true,\"lakecolor\":\"white\"},\"title\":{\"x\":0.05},\"mapbox\":{\"style\":\"light\"}}},\"scene\":{\"aspectmode\":\"data\"},\"width\":800,\"height\":800},                        {\"responsive\": true}                    ).then(function(){\n",
       "                            \n",
       "var gd = document.getElementById('9bfc43b9-f213-4c42-9e30-f1d3464e7390');\n",
       "var x = new MutationObserver(function (mutations, observer) {{\n",
       "        var display = window.getComputedStyle(gd).display;\n",
       "        if (!display || display === 'none') {{\n",
       "            console.log([gd, 'removed!']);\n",
       "            Plotly.purge(gd);\n",
       "            observer.disconnect();\n",
       "        }}\n",
       "}});\n",
       "\n",
       "// Listen for the removal of the full notebook cells\n",
       "var notebookContainer = gd.closest('#notebook-container');\n",
       "if (notebookContainer) {{\n",
       "    x.observe(notebookContainer, {childList: true});\n",
       "}}\n",
       "\n",
       "// Listen for the clearing of the current output cell\n",
       "var outputEl = gd.closest('.output');\n",
       "if (outputEl) {{\n",
       "    x.observe(outputEl, {childList: true});\n",
       "}}\n",
       "\n",
       "                        })                };                });            </script>        </div>"
      ]
     },
     "metadata": {},
     "output_type": "display_data"
    }
   ],
   "source": [
    "poses = [sf.Pose3.identity(), g_robot_cam, proposed_tag3_pose]\n",
    "names = [\"Robot\", \"Camera\", \"Tag\"]\n",
    "fig = go.Figure()\n",
    "plot_poses(poses, names, fig=fig)"
   ]
  },
  {
   "cell_type": "code",
   "execution_count": null,
   "id": "15009193-03ce-4f33-9af5-5fc4d5828b0c",
   "metadata": {},
   "outputs": [],
   "source": []
  }
 ],
 "metadata": {
  "kernelspec": {
   "display_name": "Python 3 (ipykernel)",
   "language": "python",
   "name": "python3"
  },
  "language_info": {
   "codemirror_mode": {
    "name": "ipython",
    "version": 3
   },
   "file_extension": ".py",
   "mimetype": "text/x-python",
   "name": "python",
   "nbconvert_exporter": "python",
   "pygments_lexer": "ipython3",
   "version": "3.10.12"
  }
 },
 "nbformat": 4,
 "nbformat_minor": 5
}
